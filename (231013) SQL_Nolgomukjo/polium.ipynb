{
 "cells": [
  {
   "cell_type": "markdown",
   "id": "d9a4e531",
   "metadata": {},
   "source": [
    "# 지도에 표시"
   ]
  },
  {
   "cell_type": "code",
   "execution_count": 1,
   "id": "d1eed331",
   "metadata": {},
   "outputs": [],
   "source": [
    "import folium"
   ]
  },
  {
   "cell_type": "code",
   "execution_count": null,
   "id": "666ab59c",
   "metadata": {},
   "outputs": [],
   "source": [
    "start = '제주공항'\n",
    "course_1 = '공천포식당'\n",
    "course_2 = '천제연폭포'\n",
    "course_3 = '섭지코지'\n",
    "end = '신라스테이 제주'"
   ]
  },
  {
   "cell_type": "code",
   "execution_count": 2,
   "id": "4bdb7333",
   "metadata": {},
   "outputs": [],
   "source": [
    "# 두 개의 위치 좌표 (예시로 사용)\n",
    "start_loc = (33.5070537, 126.492776) \n",
    "course_1_loc = (89,33.266419143, 126.6425958686)  \n",
    "course_2_loc = (33.2526559999, 126.4184294967)\n",
    "course_3_loc = (107,33.430250088, 126.9280674087)\n",
    "end_loc = (100,33.4855175198, 126.4910512883)\n",
    "\n",
    "# 지도 생성\n",
    "m = folium.Map(location=[location1[0], location1[1]], zoom_start=6)\n",
    "\n",
    "# 두 위치에 마커 표시\n",
    "folium.Marker(location=location1, tooltip='Location 1').add_to(m)\n",
    "folium.Marker(location=location2, tooltip='Location 2').add_to(m)\n",
    "\n",
    "# 두 위치를 선으로 연결\n",
    "folium.PolyLine([location1, location2], color='blue').add_to(m)\n",
    "\n",
    "# 결과 지도를 HTML 파일로 저장\n",
    "m.save('map.html')"
   ]
  },
  {
   "cell_type": "code",
   "execution_count": null,
   "id": "89e298b5",
   "metadata": {},
   "outputs": [],
   "source": []
  },
  {
   "cell_type": "code",
   "execution_count": null,
   "id": "11ed3632",
   "metadata": {},
   "outputs": [],
   "source": []
  },
  {
   "cell_type": "code",
   "execution_count": null,
   "id": "f1d64840",
   "metadata": {},
   "outputs": [],
   "source": []
  }
 ],
 "metadata": {
  "kernelspec": {
   "display_name": "Python 3 (ipykernel)",
   "language": "python",
   "name": "python3"
  },
  "language_info": {
   "codemirror_mode": {
    "name": "ipython",
    "version": 3
   },
   "file_extension": ".py",
   "mimetype": "text/x-python",
   "name": "python",
   "nbconvert_exporter": "python",
   "pygments_lexer": "ipython3",
   "version": "3.9.17"
  },
  "toc": {
   "base_numbering": 1,
   "nav_menu": {},
   "number_sections": true,
   "sideBar": true,
   "skip_h1_title": false,
   "title_cell": "Table of Contents",
   "title_sidebar": "Contents",
   "toc_cell": false,
   "toc_position": {},
   "toc_section_display": true,
   "toc_window_display": false
  }
 },
 "nbformat": 4,
 "nbformat_minor": 5
}
