{
 "cells": [
  {
   "cell_type": "code",
   "execution_count": 1,
   "id": "12606324",
   "metadata": {},
   "outputs": [],
   "source": [
    "import pandas as pd \n",
    "import numpy as np\n",
    "import time \n",
    "import random\n",
    "from tqdm import tqdm\n",
    "from selenium import webdriver\n",
    "from selenium.webdriver.chrome.service import Service\n",
    "from selenium.webdriver.common.keys import Keys\n",
    "from selenium.webdriver.common.by import By\n",
    "from bs4 import BeautifulSoup\n",
    "from konlpy.tag import Okt\n",
    "from collections import Counter\n",
    "from wordcloud import WordCloud\n",
    "import matplotlib.pyplot as plt\n",
    "import os\n",
    "import glob"
   ]
  },
  {
   "cell_type": "markdown",
   "id": "c6141bcb",
   "metadata": {},
   "source": [
    "# 최단 시간 경로 찾기"
   ]
  },
  {
   "cell_type": "code",
   "execution_count": 11,
   "id": "930c5e94",
   "metadata": {},
   "outputs": [],
   "source": [
    "def tour_(place1, place2):\n",
    "    driver=webdriver.Chrome()\n",
    "    driver.get(f\"https://search.naver.com/search.naver?where=nexearch&sm=top_hty&fbm=0&ie=utf8&query=%EA%B8%B8%EC%B0%BE%EA%B8%B0\")\n",
    "#     startsearch_box=driver.find_element(By.CSS_SELECTOR,'#main.ipynb_checkpoints\\_pack > section:nth-child(7) > div > div > div > div:nth-child(2) > div.W46EkvocDagVz90sIhPz.sePZdrwr9Gg3JyHgL9Ie > div.wQqQuWkGFqslpzKxiIWc > div:nth-child(1) > button.UCpJLMzaonwRmF6xEQOv.pPUa9VWCv8d5Dc9UYY_N.Xn8zAa8K08Edvx_IOqop')\n",
    "#     startsearch_box=driver.find_element(By.CLASS_NAME,'zo6GHr700XMAUNVTWEnm')\n",
    "    startsearch_box=driver.find_element(By.CSS_SELECTOR,'#departure')\n",
    "    startsearch_box.send_keys('제주도 '+place1)\n",
    "    startsearch_box.send_keys(Keys.ENTER)\n",
    "    time.sleep(0.5+random.random())\n",
    "    \n",
    "    driver.find_element(By.CSS_SELECTOR,'#main_pack > section:nth-child(7) > div > div > div > div:nth-child(2) > div.W46EkvocDagVz90sIhPz.sePZdrwr9Gg3JyHgL9Ie > div:nth-child(2) > div > div > div._szOP4B8tfk8GbtwGUpL > div > div > ul > li.uqVbxh_EyREu6BwsRAJB.daLE_Jjw75wirDJCODev > div > div.aeGW05glawvhvM3wcsJs > div > button.UCpJLMzaonwRmF6xEQOv.EdkHKqlmy8cuD1tGxEUk').click()\n",
    "    search_box=driver.find_element(By.CSS_SELECTOR,'#arrival')\n",
    "    search_box.send_keys('제주도 '+place2)\n",
    "    search_box.send_keys(Keys.ENTER)\n",
    "    time.sleep(0.5+random.random())\n",
    "    driver.find_element(By.CSS_SELECTOR,'#main_pack > section:nth-child(7) > div > div > div > div:nth-child(2) > div.W46EkvocDagVz90sIhPz.sePZdrwr9Gg3JyHgL9Ie > div:nth-child(2) > div > div > div._szOP4B8tfk8GbtwGUpL > div > div > ul > li.uqVbxh_EyREu6BwsRAJB.daLE_Jjw75wirDJCODev > div > div.aeGW05glawvhvM3wcsJs > div > button.UCpJLMzaonwRmF6xEQOv.EdkHKqlmy8cuD1tGxEUk').click()   \n",
    "    \n",
    "    driver.find_element(By.CSS_SELECTOR,'#main_pack > section:nth-child(7) > div > div > div > div:nth-child(2) > div.W46EkvocDagVz90sIhPz.sePZdrwr9Gg3JyHgL9Ie > div.sCSPpKFV0P00UfVTtBrC > ul > li:nth-child(2) > button > span.NnECiMAosw5pTeMACXlG').click()\n",
    "    time.sleep(0.5+random.random())\n",
    "\n",
    "    a=driver.find_element(By.CSS_SELECTOR,'#main_pack > section:nth-child(7) > div > div > div > div:nth-child(2) > div.W46EkvocDagVz90sIhPz.rQQp97G4ekRDvoyhqVAX > div > div:nth-child(1) > ul > li:nth-child(1) > button').text\n",
    "    b=a.split('\\n')[3]\n",
    "    \n",
    "    driver.close()\n",
    "    time.sleep(0.5+random.random())\n",
    "\n",
    "    if '분' in b:\n",
    "        hour=b.split('분')[0]+'분'\n",
    "        distance=b.split('분')[1].split('택')[0].split('k')[0]\n",
    "        tax=int(b.split('분')[1].split('택')[1].split(' ')[1].split('원')[0].replace(',',''))\n",
    "        gi=int(b.split('분')[1].split('택')[1].split(' ')[2].split('원')[0].replace(',',''))\n",
    "    else : \n",
    "        hour=b.split('시간')[0]+'시간'\n",
    "        distance=b.split('시간')[1].split('택')[0].split('k')[0]\n",
    "        tax=int(b.split('시간')[1].split('택')[1].split(' ')[1].split('원')[0].replace(',',''))\n",
    "        gi=int(b.split('시간')[1].split('택')[1].split(' ')[2].split('원')[0].replace(',',''))\n",
    "        \n",
    "    if '시간' in hour:\n",
    "        if '분' in hour:\n",
    "            spl=hour.split('시간')\n",
    "            minute=int(spl[0])*60+int(spl[1].replace('분',''))\n",
    "        else:\n",
    "            spl=hour.split('시간')\n",
    "            minute=int(spl[0])*60\n",
    "    else : minute=int(hour.replace('분',''))\n",
    "    \n",
    "    return minute, distance, tax, gi"
   ]
  },
  {
   "cell_type": "code",
   "execution_count": 12,
   "id": "bc176d79",
   "metadata": {},
   "outputs": [],
   "source": [
    "start = '제주공항'\n",
    "course_1 = '공천포식당'\n",
    "course_2 = '천제연폭포'\n",
    "course_3 = '섭지코지'\n",
    "end = '신라스테이 제주'"
   ]
  },
  {
   "cell_type": "code",
   "execution_count": 13,
   "id": "102c2117",
   "metadata": {},
   "outputs": [],
   "source": [
    "lst=[start, course_1, course_2, course_3, end]"
   ]
  },
  {
   "cell_type": "code",
   "execution_count": 14,
   "id": "0318796c",
   "metadata": {},
   "outputs": [],
   "source": [
    "s01=tour_(lst[0], lst[1])\n",
    "s02=tour_(lst[0], lst[2])\n",
    "s03=tour_(lst[0], lst[3])\n",
    "\n",
    "s12=tour_(lst[1], lst[2])\n",
    "s13=tour_(lst[1], lst[3])\n",
    "s21=tour_(lst[2], lst[1])\n",
    "s23=tour_(lst[2], lst[3])\n",
    "s31=tour_(lst[3], lst[1])\n",
    "s32=tour_(lst[3], lst[2])\n",
    "\n",
    "s14=tour_(lst[1], lst[4])\n",
    "s24=tour_(lst[2], lst[4])\n",
    "s34=tour_(lst[3], lst[4])"
   ]
  },
  {
   "cell_type": "code",
   "execution_count": 63,
   "id": "c48dc5c0",
   "metadata": {},
   "outputs": [],
   "source": [
    "t123 = s01[0] + s12[0] + s23[0] + s34[0]\n",
    "t132 = s01[0] + s13[0] + s32[0] + s24[0]\n",
    "t213 = s02[0] + s21[0] + s13[0] + s34[0]\n",
    "t231 = s02[0] + s23[0] + s31[0] + s14[0]\n",
    "t312 = s03[0] + s31[0] + s12[0] + s24[0]\n",
    "t321 = s03[0] + s32[0] + s21[0] + s14[0]"
   ]
  },
  {
   "cell_type": "code",
   "execution_count": 70,
   "id": "f7919942",
   "metadata": {},
   "outputs": [
    {
     "data": {
      "text/plain": [
       "{'t123': 215, 't132': 207, 't213': 182, 't231': 218, 't312': 176, 't321': 218}"
      ]
     },
     "execution_count": 70,
     "metadata": {},
     "output_type": "execute_result"
    }
   ],
   "source": [
    "rst_dict={}\n",
    "rst_dict['t123'] = t123\n",
    "rst_dict['t132'] = t132\n",
    "rst_dict['t213'] = t213\n",
    "rst_dict['t231'] = t231\n",
    "rst_dict['t312'] = t312\n",
    "rst_dict['t321'] = t321\n",
    "rst_dict"
   ]
  },
  {
   "cell_type": "code",
   "execution_count": 71,
   "id": "62228dd0",
   "metadata": {},
   "outputs": [
    {
     "data": {
      "text/plain": [
       "{'t312': 176, 't213': 182, 't132': 207, 't123': 215, 't231': 218, 't321': 218}"
      ]
     },
     "execution_count": 71,
     "metadata": {},
     "output_type": "execute_result"
    }
   ],
   "source": [
    "resurt_ = dict(sorted(rst_dict.items(), key=lambda item: item[1]))\n",
    "resurt_"
   ]
  },
  {
   "cell_type": "code",
   "execution_count": 82,
   "id": "b357c8ac",
   "metadata": {},
   "outputs": [
    {
     "data": {
      "text/plain": [
       "['제주공항', '섭지코지', '공천포식당', '천제연폭포', '신라스테이 제주']"
      ]
     },
     "execution_count": 82,
     "metadata": {},
     "output_type": "execute_result"
    }
   ],
   "source": [
    "order = list(resurt_.keys())[0]\n",
    "\n",
    "rst_list=[]\n",
    "rst_list.append(lst[0])\n",
    "for a in order[1:]:\n",
    "    rst_list.append(lst[int(a)])\n",
    "rst_list.append(lst[-1]) \n",
    "\n",
    "rst_list"
   ]
  },
  {
   "cell_type": "code",
   "execution_count": 89,
   "id": "7f00d2bc",
   "metadata": {},
   "outputs": [
    {
     "data": {
      "text/plain": [
       "'2시간 56분'"
      ]
     },
     "execution_count": 89,
     "metadata": {},
     "output_type": "execute_result"
    }
   ],
   "source": [
    "# 시간 변환\n",
    "time_ = list(resurt_.values())[0]\n",
    "time = f\"{time_//60}시간 {time_%60}분\"\n",
    "time"
   ]
  },
  {
   "cell_type": "markdown",
   "id": "9df78d8f",
   "metadata": {},
   "source": [
    "# 지도에 표시"
   ]
  },
  {
   "cell_type": "code",
   "execution_count": 12,
   "id": "e8d34c09",
   "metadata": {},
   "outputs": [],
   "source": [
    "import folium\n",
    "\n",
    "# 여행 경로 순서\n",
    "rst_list = ['제주공항', '섭지코지', '공천포식당', '천제연폭포', '신라스테이 제주']\n",
    "\n",
    "# 두 개의 위치 좌표 (예시로 사용)\n",
    "loc_0 = (33.5070537, 126.492776) \n",
    "loc_1 = (33.430250088, 126.9280674087)  \n",
    "loc_2 = (33.266419143, 126.6425958686)\n",
    "loc_3 = (33.2526559999, 126.4184294967)\n",
    "loc_4 = (33.4855175198, 126.4910512883)\n",
    "\n",
    "# 지도 생성\n",
    "m = folium.Map(location=[33.3846216, 126.5534925], zoom_start=10)\n",
    "\n",
    "# 두 위치에 마커 표시\n",
    "folium.Marker(location=loc_0, tooltip=rst_list[0]).add_to(m)\n",
    "folium.Marker(location=loc_1, tooltip=rst_list[1]).add_to(m)\n",
    "folium.Marker(location=loc_2, tooltip=rst_list[2]).add_to(m)\n",
    "folium.Marker(location=loc_3, tooltip=rst_list[3]).add_to(m)\n",
    "folium.Marker(location=loc_4, tooltip=rst_list[4]).add_to(m)\n",
    "\n",
    "# 두 위치를 선으로 연결\n",
    "folium.PolyLine([loc_0, loc_1], color='blue').add_to(m)\n",
    "folium.PolyLine([loc_1, loc_2], color='blue').add_to(m)\n",
    "folium.PolyLine([loc_2, loc_3], color='blue').add_to(m)\n",
    "folium.PolyLine([loc_3, loc_4], color='blue').add_to(m)\n",
    "\n",
    "# 결과 지도를 HTML 파일로 저장\n",
    "m.save('map.html')"
   ]
  },
  {
   "cell_type": "code",
   "execution_count": null,
   "id": "c6ec6184",
   "metadata": {},
   "outputs": [],
   "source": []
  }
 ],
 "metadata": {
  "kernelspec": {
   "display_name": "tensor",
   "language": "python",
   "name": "tensor"
  },
  "language_info": {
   "codemirror_mode": {
    "name": "ipython",
    "version": 3
   },
   "file_extension": ".py",
   "mimetype": "text/x-python",
   "name": "python",
   "nbconvert_exporter": "python",
   "pygments_lexer": "ipython3",
   "version": "3.9.18"
  },
  "toc": {
   "base_numbering": 1,
   "nav_menu": {},
   "number_sections": true,
   "sideBar": true,
   "skip_h1_title": false,
   "title_cell": "Table of Contents",
   "title_sidebar": "Contents",
   "toc_cell": false,
   "toc_position": {
    "height": "calc(100% - 180px)",
    "left": "10px",
    "top": "150px",
    "width": "170.379px"
   },
   "toc_section_display": true,
   "toc_window_display": true
  }
 },
 "nbformat": 4,
 "nbformat_minor": 5
}
