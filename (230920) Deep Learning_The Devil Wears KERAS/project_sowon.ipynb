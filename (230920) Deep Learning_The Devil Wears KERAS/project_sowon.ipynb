{
 "cells": [
  {
   "cell_type": "markdown",
   "id": "3e581e8c",
   "metadata": {},
   "source": [
    "# 시대별 여성복 분류 서비스"
   ]
  },
  {
   "cell_type": "markdown",
   "id": "141289aa",
   "metadata": {},
   "source": [
    "## 데이터 전처리"
   ]
  },
  {
   "cell_type": "code",
   "execution_count": 1,
   "id": "fe5fdd6e",
   "metadata": {},
   "outputs": [],
   "source": [
    "# 버퍼사이즈\n",
    "%config ZMQInteractiveShell.buffer_size = 99999999999999999"
   ]
  },
  {
   "cell_type": "code",
   "execution_count": 2,
   "id": "e5d2ab99",
   "metadata": {},
   "outputs": [],
   "source": [
    "import glob\n",
    "import pandas as pd\n",
    "import json\n",
    "import os\n",
    "import cv2\n",
    "import numpy as np"
   ]
  },
  {
   "cell_type": "code",
   "execution_count": 3,
   "id": "19b13503",
   "metadata": {},
   "outputs": [],
   "source": [
    "label=pd.DataFrame()"
   ]
  },
  {
   "cell_type": "code",
   "execution_count": 4,
   "id": "3fe378e0",
   "metadata": {},
   "outputs": [
    {
     "data": {
      "text/plain": [
       "['./data\\\\data_1950.csv',\n",
       " './data\\\\data_1960.csv',\n",
       " './data\\\\data_1970.csv',\n",
       " './data\\\\data_1980.csv',\n",
       " './data\\\\data_1990.csv',\n",
       " './data\\\\data_2000.csv',\n",
       " './data\\\\data_2010.csv',\n",
       " './data\\\\data_2019.csv']"
      ]
     },
     "execution_count": 4,
     "metadata": {},
     "output_type": "execute_result"
    }
   ],
   "source": [
    "label_path='./data/*csv'\n",
    "label_list=glob.glob(label_path)\n",
    "label_list"
   ]
  },
  {
   "cell_type": "markdown",
   "id": "c3f54475",
   "metadata": {},
   "source": [
    "---\n",
    "파일 불러오기"
   ]
  },
  {
   "cell_type": "code",
   "execution_count": 6,
   "id": "21121cee",
   "metadata": {},
   "outputs": [
    {
     "data": {
      "text/plain": [
       "['./data\\\\data_1950.npz',\n",
       " './data\\\\data_1960.npz',\n",
       " './data\\\\data_1970.npz',\n",
       " './data\\\\data_1980.npz',\n",
       " './data\\\\data_1990.npy',\n",
       " './data\\\\data_2000.npy',\n",
       " './data\\\\data_2010.npz',\n",
       " './data\\\\data_2019.npz']"
      ]
     },
     "execution_count": 6,
     "metadata": {},
     "output_type": "execute_result"
    }
   ],
   "source": [
    "file_path='./data/*np*'\n",
    "file_list=glob.glob(file_path)\n",
    "file_list"
   ]
  },
  {
   "cell_type": "code",
   "execution_count": 10,
   "id": "eef7a1d4",
   "metadata": {},
   "outputs": [],
   "source": [
    "data_1950_ = (np.load(file_list[0])['images']).astype('float16')"
   ]
  },
  {
   "cell_type": "code",
   "execution_count": 11,
   "id": "415507e1",
   "metadata": {},
   "outputs": [
    {
     "data": {
      "text/plain": [
       "(3358, 400, 300, 3)"
      ]
     },
     "execution_count": 11,
     "metadata": {},
     "output_type": "execute_result"
    }
   ],
   "source": [
    "data_1950_.shape"
   ]
  },
  {
   "cell_type": "code",
   "execution_count": 13,
   "id": "f3a67059",
   "metadata": {},
   "outputs": [
    {
     "data": {
      "text/plain": [
       "(3030, 400, 300, 3)"
      ]
     },
     "execution_count": 13,
     "metadata": {},
     "output_type": "execute_result"
    }
   ],
   "source": [
    "data_1960_ = (np.load(file_list[1])['images']).astype('float16')\n",
    "data_1960_.shape"
   ]
  },
  {
   "cell_type": "code",
   "execution_count": 14,
   "id": "9d3b1cbd",
   "metadata": {},
   "outputs": [
    {
     "data": {
      "text/plain": [
       "(2910, 400, 300, 3)"
      ]
     },
     "execution_count": 14,
     "metadata": {},
     "output_type": "execute_result"
    }
   ],
   "source": [
    "data_1970_ = (np.load(file_list[2])['images']).astype('float16')\n",
    "data_1970_.shape"
   ]
  },
  {
   "cell_type": "code",
   "execution_count": 15,
   "id": "649b9d3c",
   "metadata": {},
   "outputs": [
    {
     "data": {
      "text/plain": [
       "(3136, 400, 300, 3)"
      ]
     },
     "execution_count": 15,
     "metadata": {},
     "output_type": "execute_result"
    }
   ],
   "source": [
    "data_1980_ = (np.load(file_list[3])['images']).astype('float16')\n",
    "data_1980_.shape"
   ]
  },
  {
   "cell_type": "code",
   "execution_count": 16,
   "id": "4ba623c6",
   "metadata": {},
   "outputs": [
    {
     "data": {
      "text/plain": [
       "(2210, 400, 300, 3)"
      ]
     },
     "execution_count": 16,
     "metadata": {},
     "output_type": "execute_result"
    }
   ],
   "source": [
    "data_1990_ = (np.load(file_list[4])).astype('float16')\n",
    "data_1990_.shape"
   ]
  },
  {
   "cell_type": "code",
   "execution_count": 19,
   "id": "57504531",
   "metadata": {},
   "outputs": [
    {
     "data": {
      "text/plain": [
       "(2566, 400, 300, 3)"
      ]
     },
     "execution_count": 19,
     "metadata": {},
     "output_type": "execute_result"
    }
   ],
   "source": [
    "data_2000_ = (np.load(file_list[5])).astype('float16')\n",
    "data_2000_.shape"
   ]
  },
  {
   "cell_type": "code",
   "execution_count": 20,
   "id": "7f56fc0d",
   "metadata": {},
   "outputs": [
    {
     "data": {
      "text/plain": [
       "(2848, 400, 300, 3)"
      ]
     },
     "execution_count": 20,
     "metadata": {},
     "output_type": "execute_result"
    }
   ],
   "source": [
    "data_2010_ = (np.load(file_list[6])['images']).astype('float16')\n",
    "data_2010_.shape"
   ]
  },
  {
   "cell_type": "code",
   "execution_count": 21,
   "id": "fb4226b7",
   "metadata": {},
   "outputs": [
    {
     "data": {
      "text/plain": [
       "(2438, 400, 300, 3)"
      ]
     },
     "execution_count": 21,
     "metadata": {},
     "output_type": "execute_result"
    }
   ],
   "source": [
    "data_2019_ = (np.load(file_list[7])['images']).astype('float16')\n",
    "data_2019_.shape"
   ]
  },
  {
   "cell_type": "markdown",
   "id": "5e58ff66",
   "metadata": {},
   "source": [
    "---\n",
    "언더 샘플링을 위한 값 갯수 확인"
   ]
  },
  {
   "cell_type": "code",
   "execution_count": 5,
   "id": "37b1b058",
   "metadata": {},
   "outputs": [
    {
     "name": "stdout",
     "output_type": "stream",
     "text": [
      "./data\\data_1950.csv => 3358\n",
      "./data\\data_1960.csv => 3030\n",
      "./data\\data_1970.csv => 2910\n",
      "./data\\data_1980.csv => 3136\n",
      "./data\\data_1990.csv => 2210\n",
      "./data\\data_2000.csv => 2566\n",
      "./data\\data_2010.csv => 2848\n",
      "./data\\data_2019.csv => 2438\n"
     ]
    }
   ],
   "source": [
    "for file in label_list:\n",
    "    label=pd.read_csv(file)\n",
    "    print(f\"{file} => {label['era'].value_counts().iloc[0]}\")"
   ]
  },
  {
   "cell_type": "code",
   "execution_count": 23,
   "id": "34c48847",
   "metadata": {},
   "outputs": [],
   "source": [
    "# 언더샘플링 함수\n",
    "\n",
    "def under_sampling(data, num):\n",
    "    total_num = data.shape[0]  # 원본 데이터의 총 샘플 수\n",
    "    num = 2000  # 언더 샘플링 후 원하는 샘플 수\n",
    "\n",
    "    # 샘플을 언더 샘플링하기 위한 무작위 인덱스 생성\n",
    "    random_idx = np.random.choice(total_num, num, replace=False)\n",
    "\n",
    "    # 무작위로 선택된 인덱스를 사용하여 언더 샘플링 수행\n",
    "    result = data[random_idx]\n",
    "    return result"
   ]
  },
  {
   "cell_type": "code",
   "execution_count": 24,
   "id": "8bf95c2a",
   "metadata": {},
   "outputs": [],
   "source": [
    "data_1950=under_sampling(data_1950_, 2000)\n",
    "data_1960=under_sampling(data_1960_, 2000)\n",
    "data_1970=under_sampling(data_1970_, 2000)\n",
    "data_1980=under_sampling(data_1980_, 2000)\n",
    "data_1990=under_sampling(data_1990_, 2000)\n",
    "data_2000=under_sampling(data_2000_, 2000)\n",
    "data_2010=under_sampling(data_2010_, 2000)\n",
    "data_2019=under_sampling(data_2019_, 2000)"
   ]
  },
  {
   "cell_type": "code",
   "execution_count": 26,
   "id": "597865ec",
   "metadata": {},
   "outputs": [
    {
     "data": {
      "text/plain": [
       "((2000, 400, 300, 3),\n",
       " (2000, 400, 300, 3),\n",
       " (2000, 400, 300, 3),\n",
       " (2000, 400, 300, 3),\n",
       " (2000, 400, 300, 3),\n",
       " (2000, 400, 300, 3),\n",
       " (2000, 400, 300, 3),\n",
       " (2000, 400, 300, 3))"
      ]
     },
     "execution_count": 26,
     "metadata": {},
     "output_type": "execute_result"
    }
   ],
   "source": [
    "data_1950.shape, data_1960.shape, data_1970.shape, data_1980.shape, data_1990.shape, data_2000.shape, data_2010.shape, data_2019.shape"
   ]
  },
  {
   "cell_type": "code",
   "execution_count": 28,
   "id": "b946ea63",
   "metadata": {},
   "outputs": [],
   "source": [
    "data=np.concatenate((data_1950, data_1960, data_1970, data_1980, data_1990, data_2000, data_2010, data_2019))"
   ]
  },
  {
   "cell_type": "code",
   "execution_count": 29,
   "id": "5ec5fc2e",
   "metadata": {},
   "outputs": [],
   "source": [
    "np.save('data',data)"
   ]
  },
  {
   "cell_type": "code",
   "execution_count": null,
   "id": "09502f2c",
   "metadata": {},
   "outputs": [],
   "source": []
  },
  {
   "cell_type": "code",
   "execution_count": null,
   "id": "569d9c2f",
   "metadata": {},
   "outputs": [],
   "source": []
  }
 ],
 "metadata": {
  "kernelspec": {
   "display_name": "tensor",
   "language": "python",
   "name": "tensor"
  },
  "language_info": {
   "codemirror_mode": {
    "name": "ipython",
    "version": 3
   },
   "file_extension": ".py",
   "mimetype": "text/x-python",
   "name": "python",
   "nbconvert_exporter": "python",
   "pygments_lexer": "ipython3",
   "version": "3.9.18"
  },
  "toc": {
   "base_numbering": 1,
   "nav_menu": {},
   "number_sections": true,
   "sideBar": true,
   "skip_h1_title": false,
   "title_cell": "Table of Contents",
   "title_sidebar": "Contents",
   "toc_cell": false,
   "toc_position": {
    "height": "calc(100% - 180px)",
    "left": "10px",
    "top": "150px",
    "width": "165px"
   },
   "toc_section_display": true,
   "toc_window_display": true
  }
 },
 "nbformat": 4,
 "nbformat_minor": 5
}
