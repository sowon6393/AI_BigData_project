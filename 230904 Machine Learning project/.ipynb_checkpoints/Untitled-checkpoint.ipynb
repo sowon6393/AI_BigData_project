{
 "cells": [
  {
   "cell_type": "code",
   "execution_count": null,
   "id": "d72e0bd8",
   "metadata": {},
   "outputs": [],
   "source": []
  },
  {
   "cell_type": "code",
   "execution_count": 2,
   "id": "165ef564",
   "metadata": {},
   "outputs": [
    {
     "data": {
      "text/plain": [
       "\"\\n'classifier': 분류기(Classifier) 클래스\\n'regressor': 회귀기(Regressor) 클래스\\n'transformer': 변환기(Transformer) 클래스\\n'cluster': 군집화(Cluster) 클래스\\n'meta-estimator': 메타 추정기(Meta-Estimator) 클래스\\n'outlier': 이상치 검출(Outlier Detection) 클래스\\n'meta': 메타 클래스 (예: StackingClassifier, StackingRegressor 등)\\n\""
      ]
     },
     "execution_count": 2,
     "metadata": {},
     "output_type": "execute_result"
    }
   ],
   "source": [
    "#  SKlearn에서 모델 선택  --------------------------------------\n",
    "\n",
    "# - 가장 기본 매개변수 값으로 모델 학습\n",
    "# - 모델 선택 기준 ==> 평가지표에 따라서 선택\n",
    "# 하이퍼 파라미터 튜닝을 따로 해야함\n",
    "\n",
    "from sklearn.utils import *\n",
    "from sklearn.datasets import load_iris\n",
    "from sklearn.metrics import *\n",
    "import warnings\n",
    "\n",
    "rets=all_estimators(type_filter='regressor') # 찾는 항목 넣기\n",
    "\n",
    "'''\n",
    "'classifier': 분류기(Classifier) 클래스\n",
    "'regressor': 회귀기(Regressor) 클래스\n",
    "'transformer': 변환기(Transformer) 클래스\n",
    "'cluster': 군집화(Cluster) 클래스\n",
    "'meta-estimator': 메타 추정기(Meta-Estimator) 클래스\n",
    "'outlier': 이상치 검출(Outlier Detection) 클래스\n",
    "'meta': 메타 클래스 (예: StackingClassifier, StackingRegressor 등)\n",
    "'''\n",
    "\n"
   ]
  },
  {
   "cell_type": "code",
   "execution_count": 6,
   "id": "2f57ec6f",
   "metadata": {},
   "outputs": [
    {
     "data": {
      "text/plain": [
       "Index(['name', 'overall', 'potential', 'value_euro', 'wage_eruo', 'player_url',\n",
       "       'player_face_url', 'age', 'height_cm', 'weight_kg', 'club', 'league',\n",
       "       'position', 'attacking', 'skill', 'movement', 'power', 'mentality',\n",
       "       'defending', 'goalkeeping'],\n",
       "      dtype='object')"
      ]
     },
     "execution_count": 6,
     "metadata": {},
     "output_type": "execute_result"
    }
   ],
   "source": [
    "import pandas as pd\n",
    "file='../project/player_real_final.csv'\n",
    "df=pd.read_csv(file)\n",
    "df.columns"
   ]
  },
  {
   "cell_type": "code",
   "execution_count": 7,
   "id": "993567f1",
   "metadata": {},
   "outputs": [],
   "source": [
    "feature=df[['attacking', 'skill', 'movement', 'power', 'mentality',\n",
    "       'defending', 'goalkeeping']]\n",
    "target=df['value_euro']"
   ]
  },
  {
   "cell_type": "code",
   "execution_count": null,
   "id": "170e4392",
   "metadata": {},
   "outputs": [],
   "source": [
    "import mat"
   ]
  },
  {
   "cell_type": "code",
   "execution_count": 11,
   "id": "069a0bf2",
   "metadata": {},
   "outputs": [],
   "source": [
    "from sklearn.model_selection import train_test_split\n",
    "train_x, test_x, train_y, test_y = train_test_split(feature, target, \n",
    "                                                    test_size=0.2, random_state=7 )\n",
    "train_x, val_x, train_y, val_y = train_test_split(train_x, train_y, \n",
    "                                                    test_size=0.2, random_state=7 )"
   ]
  },
  {
   "cell_type": "code",
   "execution_count": null,
   "id": "9811729c",
   "metadata": {},
   "outputs": [],
   "source": []
  },
  {
   "cell_type": "code",
   "execution_count": null,
   "id": "a7887751",
   "metadata": {},
   "outputs": [
    {
     "name": "stderr",
     "output_type": "stream",
     "text": [
      "C:\\Users\\KDP-26-\\anaconda3\\envs\\MY_PYTHON\\lib\\site-packages\\sklearn\\linear_model\\_huber.py:342: ConvergenceWarning: lbfgs failed to converge (status=1):\n",
      "STOP: TOTAL NO. of ITERATIONS REACHED LIMIT.\n",
      "\n",
      "Increase the number of iterations (max_iter) or scale the data as shown in:\n",
      "    https://scikit-learn.org/stable/modules/preprocessing.html\n",
      "  self.n_iter_ = _check_optimize_result(\"lbfgs\", opt_res, self.max_iter)\n"
     ]
    }
   ],
   "source": [
    "\n",
    "# data, label=load_iris(return_X_y=True) # feature, target data -> train_X, train_y\n",
    "\n",
    "result=[]\n",
    "for name, estimator_ in rets:\n",
    "    try:\n",
    "        model=estimator_()\n",
    "        if 'Logistic' in name or 'SGD' in name or 'MLP' in name:\n",
    "            model.set_params(max_iter=10000)\n",
    "        if 'SV' in name:\n",
    "            model.set_params(max_iter=100000, dual='auto')   \n",
    " \n",
    "        model.fit(train_x,train_y)\n",
    "        sc=model.score(train_x,train_y)\n",
    "        result.append((name, round(sc, 2)))\n",
    "    except Exception:\n",
    "        pass\n",
    "\n",
    "sorted(result, key=lambda x : x[1], reverse=True)"
   ]
  },
  {
   "cell_type": "code",
   "execution_count": null,
   "id": "298028aa",
   "metadata": {},
   "outputs": [],
   "source": []
  }
 ],
 "metadata": {
  "kernelspec": {
   "display_name": "Python 3 (ipykernel)",
   "language": "python",
   "name": "python3"
  },
  "language_info": {
   "codemirror_mode": {
    "name": "ipython",
    "version": 3
   },
   "file_extension": ".py",
   "mimetype": "text/x-python",
   "name": "python",
   "nbconvert_exporter": "python",
   "pygments_lexer": "ipython3",
   "version": "3.9.17"
  },
  "toc": {
   "base_numbering": 1,
   "nav_menu": {},
   "number_sections": true,
   "sideBar": true,
   "skip_h1_title": false,
   "title_cell": "Table of Contents",
   "title_sidebar": "Contents",
   "toc_cell": false,
   "toc_position": {},
   "toc_section_display": true,
   "toc_window_display": false
  }
 },
 "nbformat": 4,
 "nbformat_minor": 5
}
