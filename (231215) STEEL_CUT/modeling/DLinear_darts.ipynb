{
 "cells": [
  {
   "cell_type": "code",
   "execution_count": 15,
   "metadata": {},
   "outputs": [],
   "source": [
    "def pre_processing(df):\n",
    "    # 날짜컬럼 시계열화\n",
    "    df['날짜'] = pd.to_datetime(df['날짜'])\n",
    "\n",
    "    # 날짜를 인덱스로 한다.\n",
    "    df.set_index('날짜', inplace=True)\n",
    "\n",
    "    # 날짜 인덱스를 일별로 리샘플링합니다.\n",
    "    df = df.asfreq('D')\n",
    "\n",
    "    # 결측치를 선형 보간합니다. (method ->  'linear', 'polynomial', 'spline' 도 가능)\n",
    "    # df.interpolate(method='linear', inplace=True)\n",
    "    df.interpolate(method='polynomial', order=3, inplace=True)\n",
    "    df = df.reset_index()\n",
    "\n",
    "    # 2023년 8월 31일 이전의 데이터만 선택\n",
    "    # 2006년 8월 4일 이후의 데이터만 선택\n",
    "    # df = df[df['날짜'] <= '2023-08-31']\n",
    "    df = df[df['날짜'] >= '2006-08-04']\n",
    "    df = df.reset_index(drop=True)\n",
    "\n",
    "\n",
    "    return df"
   ]
  },
  {
   "cell_type": "code",
   "execution_count": 16,
   "metadata": {},
   "outputs": [],
   "source": [
    "import pandas as pd \n",
    "import numpy as np \n",
    "from tqdm import tqdm\n",
    "import matplotlib.pyplot as plt\n",
    "import warnings\n",
    "warnings.filterwarnings('ignore')\n",
    "\n",
    "from darts import TimeSeries\n",
    "from darts.models import DLinearModel, XGBModel\n",
    "from darts.metrics import rmse\n",
    "\n",
    "from datetime import datetime, timedelta\n"
   ]
  },
  {
   "cell_type": "code",
   "execution_count": 17,
   "metadata": {},
   "outputs": [
    {
     "name": "stderr",
     "output_type": "stream",
     "text": [
      "  0%|          | 0/100 [00:00<?, ?it/s]"
     ]
    },
    {
     "name": "stderr",
     "output_type": "stream",
     "text": [
      "GPU available: False, used: False\n",
      "TPU available: False, using: 0 TPU cores\n",
      "IPU available: False, using: 0 IPUs\n",
      "HPU available: False, using: 0 HPUs\n",
      "\n",
      "  | Name            | Type             | Params\n",
      "-----------------------------------------------------\n",
      "0 | criterion       | MSELoss          | 0     \n",
      "1 | train_metrics   | MetricCollection | 0     \n",
      "2 | val_metrics     | MetricCollection | 0     \n",
      "3 | decomposition   | _SeriesDecomp    | 0     \n",
      "4 | linear_seasonal | Linear           | 3.6 K \n",
      "5 | linear_trend    | Linear           | 3.6 K \n",
      "-----------------------------------------------------\n",
      "7.2 K     Trainable params\n",
      "0         Non-trainable params\n",
      "7.2 K     Total params\n",
      "0.029     Total estimated model params size (MB)\n"
     ]
    },
    {
     "name": "stdout",
     "output_type": "stream",
     "text": [
      "Epoch 99: 100%|██████████| 11/11 [00:00<00:00, 19.57it/s, train_loss=241.0] "
     ]
    },
    {
     "name": "stderr",
     "output_type": "stream",
     "text": [
      "`Trainer.fit` stopped: `max_epochs=100` reached.\n"
     ]
    },
    {
     "name": "stdout",
     "output_type": "stream",
     "text": [
      "Epoch 99: 100%|██████████| 11/11 [00:00<00:00, 19.03it/s, train_loss=241.0]"
     ]
    },
    {
     "name": "stderr",
     "output_type": "stream",
     "text": [
      "GPU available: False, used: False\n",
      "TPU available: False, using: 0 TPU cores\n",
      "IPU available: False, using: 0 IPUs\n",
      "HPU available: False, using: 0 HPUs\n"
     ]
    },
    {
     "name": "stdout",
     "output_type": "stream",
     "text": [
      "\n",
      "Predicting DataLoader 0: 100%|██████████| 1/1 [00:00<00:00, 63.62it/s]"
     ]
    },
    {
     "name": "stderr",
     "output_type": "stream",
     "text": [
      "  1%|          | 1/100 [00:55<1:31:58, 55.74s/it]"
     ]
    },
    {
     "name": "stdout",
     "output_type": "stream",
     "text": [
      "\n"
     ]
    },
    {
     "name": "stderr",
     "output_type": "stream",
     "text": [
      "GPU available: False, used: False\n",
      "TPU available: False, using: 0 TPU cores\n",
      "IPU available: False, using: 0 IPUs\n",
      "HPU available: False, using: 0 HPUs\n",
      "\n",
      "  | Name            | Type             | Params\n",
      "-----------------------------------------------------\n",
      "0 | criterion       | MSELoss          | 0     \n",
      "1 | train_metrics   | MetricCollection | 0     \n",
      "2 | val_metrics     | MetricCollection | 0     \n",
      "3 | decomposition   | _SeriesDecomp    | 0     \n",
      "4 | linear_seasonal | Linear           | 3.6 K \n",
      "5 | linear_trend    | Linear           | 3.6 K \n",
      "-----------------------------------------------------\n",
      "7.2 K     Trainable params\n",
      "0         Non-trainable params\n",
      "7.2 K     Total params\n",
      "0.029     Total estimated model params size (MB)\n"
     ]
    },
    {
     "name": "stdout",
     "output_type": "stream",
     "text": [
      "Epoch 99: 100%|██████████| 11/11 [00:00<00:00, 20.02it/s, train_loss=216.0] "
     ]
    },
    {
     "name": "stderr",
     "output_type": "stream",
     "text": [
      "`Trainer.fit` stopped: `max_epochs=100` reached.\n"
     ]
    },
    {
     "name": "stdout",
     "output_type": "stream",
     "text": [
      "Epoch 99: 100%|██████████| 11/11 [00:00<00:00, 19.94it/s, train_loss=216.0]"
     ]
    },
    {
     "name": "stderr",
     "output_type": "stream",
     "text": [
      "GPU available: False, used: False\n"
     ]
    },
    {
     "name": "stdout",
     "output_type": "stream",
     "text": [
      "\n"
     ]
    },
    {
     "name": "stderr",
     "output_type": "stream",
     "text": [
      "TPU available: False, using: 0 TPU cores\n",
      "IPU available: False, using: 0 IPUs\n",
      "HPU available: False, using: 0 HPUs\n"
     ]
    },
    {
     "name": "stdout",
     "output_type": "stream",
     "text": [
      "Predicting DataLoader 0: 100%|██████████| 1/1 [00:00<00:00, 166.63it/s]"
     ]
    },
    {
     "name": "stderr",
     "output_type": "stream",
     "text": [
      "  2%|▏         | 2/100 [01:50<1:29:51, 55.01s/it]GPU available: False, used: False\n",
      "TPU available: False, using: 0 TPU cores\n",
      "IPU available: False, using: 0 IPUs\n",
      "HPU available: False, using: 0 HPUs\n",
      "\n",
      "  | Name            | Type             | Params\n",
      "-----------------------------------------------------\n",
      "0 | criterion       | MSELoss          | 0     \n",
      "1 | train_metrics   | MetricCollection | 0     \n",
      "2 | val_metrics     | MetricCollection | 0     \n",
      "3 | decomposition   | _SeriesDecomp    | 0     \n",
      "4 | linear_seasonal | Linear           | 3.6 K \n",
      "5 | linear_trend    | Linear           | 3.6 K \n",
      "-----------------------------------------------------\n",
      "7.2 K     Trainable params\n",
      "0         Non-trainable params\n",
      "7.2 K     Total params\n",
      "0.029     Total estimated model params size (MB)\n"
     ]
    },
    {
     "name": "stdout",
     "output_type": "stream",
     "text": [
      "\n",
      "Epoch 99: 100%|██████████| 11/11 [00:00<00:00, 16.21it/s, train_loss=222.0] "
     ]
    },
    {
     "name": "stderr",
     "output_type": "stream",
     "text": [
      "`Trainer.fit` stopped: `max_epochs=100` reached.\n"
     ]
    },
    {
     "name": "stdout",
     "output_type": "stream",
     "text": [
      "Epoch 99: 100%|██████████| 11/11 [00:00<00:00, 16.21it/s, train_loss=222.0]"
     ]
    },
    {
     "name": "stderr",
     "output_type": "stream",
     "text": [
      "GPU available: False, used: False\n",
      "TPU available: False, using: 0 TPU cores\n",
      "IPU available: False, using: 0 IPUs\n",
      "HPU available: False, using: 0 HPUs\n"
     ]
    },
    {
     "name": "stdout",
     "output_type": "stream",
     "text": [
      "\n",
      "Predicting DataLoader 0: 100%|██████████| 1/1 [00:00<00:00, 62.79it/s]"
     ]
    },
    {
     "name": "stderr",
     "output_type": "stream",
     "text": [
      "  3%|▎         | 3/100 [02:49<1:32:06, 56.98s/it]"
     ]
    },
    {
     "name": "stdout",
     "output_type": "stream",
     "text": [
      "\n"
     ]
    },
    {
     "name": "stderr",
     "output_type": "stream",
     "text": [
      "GPU available: False, used: False\n",
      "TPU available: False, using: 0 TPU cores\n",
      "IPU available: False, using: 0 IPUs\n",
      "HPU available: False, using: 0 HPUs\n",
      "\n",
      "  | Name            | Type             | Params\n",
      "-----------------------------------------------------\n",
      "0 | criterion       | MSELoss          | 0     \n",
      "1 | train_metrics   | MetricCollection | 0     \n",
      "2 | val_metrics     | MetricCollection | 0     \n",
      "3 | decomposition   | _SeriesDecomp    | 0     \n",
      "4 | linear_seasonal | Linear           | 3.6 K \n",
      "5 | linear_trend    | Linear           | 3.6 K \n",
      "-----------------------------------------------------\n",
      "7.2 K     Trainable params\n",
      "0         Non-trainable params\n",
      "7.2 K     Total params\n",
      "0.029     Total estimated model params size (MB)\n"
     ]
    },
    {
     "name": "stdout",
     "output_type": "stream",
     "text": [
      "Epoch 99: 100%|██████████| 11/11 [00:00<00:00, 19.27it/s, train_loss=252.0] "
     ]
    },
    {
     "name": "stderr",
     "output_type": "stream",
     "text": [
      "`Trainer.fit` stopped: `max_epochs=100` reached.\n"
     ]
    },
    {
     "name": "stdout",
     "output_type": "stream",
     "text": [
      "Epoch 99: 100%|██████████| 11/11 [00:00<00:00, 19.20it/s, train_loss=252.0]"
     ]
    },
    {
     "name": "stderr",
     "output_type": "stream",
     "text": [
      "GPU available: False, used: False\n",
      "TPU available: False, using: 0 TPU cores\n",
      "IPU available: False, using: 0 IPUs\n",
      "HPU available: False, using: 0 HPUs\n"
     ]
    },
    {
     "name": "stdout",
     "output_type": "stream",
     "text": [
      "\n",
      "Predicting DataLoader 0: 100%|██████████| 1/1 [00:00<00:00, 75.05it/s]"
     ]
    },
    {
     "name": "stderr",
     "output_type": "stream",
     "text": [
      "  4%|▍         | 4/100 [03:50<1:33:54, 58.69s/it]GPU available: False, used: False\n",
      "TPU available: False, using: 0 TPU cores\n",
      "IPU available: False, using: 0 IPUs\n",
      "HPU available: False, using: 0 HPUs\n"
     ]
    },
    {
     "name": "stdout",
     "output_type": "stream",
     "text": [
      "\n"
     ]
    },
    {
     "name": "stderr",
     "output_type": "stream",
     "text": [
      "\n",
      "  | Name            | Type             | Params\n",
      "-----------------------------------------------------\n",
      "0 | criterion       | MSELoss          | 0     \n",
      "1 | train_metrics   | MetricCollection | 0     \n",
      "2 | val_metrics     | MetricCollection | 0     \n",
      "3 | decomposition   | _SeriesDecomp    | 0     \n",
      "4 | linear_seasonal | Linear           | 3.6 K \n",
      "5 | linear_trend    | Linear           | 3.6 K \n",
      "-----------------------------------------------------\n",
      "7.2 K     Trainable params\n",
      "0         Non-trainable params\n",
      "7.2 K     Total params\n",
      "0.029     Total estimated model params size (MB)\n"
     ]
    },
    {
     "name": "stdout",
     "output_type": "stream",
     "text": [
      "Epoch 99: 100%|██████████| 11/11 [00:00<00:00, 17.33it/s, train_loss=197.0] "
     ]
    },
    {
     "name": "stderr",
     "output_type": "stream",
     "text": [
      "`Trainer.fit` stopped: `max_epochs=100` reached.\n"
     ]
    },
    {
     "name": "stdout",
     "output_type": "stream",
     "text": [
      "Epoch 99: 100%|██████████| 11/11 [00:00<00:00, 17.27it/s, train_loss=197.0]"
     ]
    },
    {
     "name": "stderr",
     "output_type": "stream",
     "text": [
      "GPU available: False, used: False\n",
      "TPU available: False, using: 0 TPU cores\n",
      "IPU available: False, using: 0 IPUs\n",
      "HPU available: False, using: 0 HPUs\n"
     ]
    },
    {
     "name": "stdout",
     "output_type": "stream",
     "text": [
      "\n",
      "Predicting DataLoader 0: 100%|██████████| 1/1 [00:00<00:00, 179.49it/s]"
     ]
    },
    {
     "name": "stderr",
     "output_type": "stream",
     "text": [
      "  5%|▌         | 5/100 [04:51<1:34:10, 59.48s/it]GPU available: False, used: False\n",
      "TPU available: False, using: 0 TPU cores\n",
      "IPU available: False, using: 0 IPUs\n",
      "HPU available: False, using: 0 HPUs\n",
      "\n",
      "  | Name            | Type             | Params\n",
      "-----------------------------------------------------\n",
      "0 | criterion       | MSELoss          | 0     \n",
      "1 | train_metrics   | MetricCollection | 0     \n",
      "2 | val_metrics     | MetricCollection | 0     \n",
      "3 | decomposition   | _SeriesDecomp    | 0     \n",
      "4 | linear_seasonal | Linear           | 3.6 K \n",
      "5 | linear_trend    | Linear           | 3.6 K \n",
      "-----------------------------------------------------\n",
      "7.2 K     Trainable params\n",
      "0         Non-trainable params\n",
      "7.2 K     Total params\n",
      "0.029     Total estimated model params size (MB)\n"
     ]
    },
    {
     "name": "stdout",
     "output_type": "stream",
     "text": [
      "\n",
      "Epoch 99: 100%|██████████| 11/11 [00:00<00:00, 14.84it/s, train_loss=229.0] "
     ]
    },
    {
     "name": "stderr",
     "output_type": "stream",
     "text": [
      "`Trainer.fit` stopped: `max_epochs=100` reached.\n"
     ]
    },
    {
     "name": "stdout",
     "output_type": "stream",
     "text": [
      "Epoch 99: 100%|██████████| 11/11 [00:00<00:00, 14.78it/s, train_loss=229.0]"
     ]
    },
    {
     "name": "stderr",
     "output_type": "stream",
     "text": [
      "GPU available: False, used: False\n",
      "TPU available: False, using: 0 TPU cores\n",
      "IPU available: False, using: 0 IPUs\n",
      "HPU available: False, using: 0 HPUs\n"
     ]
    },
    {
     "name": "stdout",
     "output_type": "stream",
     "text": [
      "\n",
      "Predicting DataLoader 0: 100%|██████████| 1/1 [00:00<00:00, 159.08it/s]"
     ]
    },
    {
     "name": "stderr",
     "output_type": "stream",
     "text": [
      "  6%|▌         | 6/100 [06:06<1:41:17, 64.66s/it]GPU available: False, used: False\n"
     ]
    },
    {
     "name": "stdout",
     "output_type": "stream",
     "text": [
      "\n"
     ]
    },
    {
     "name": "stderr",
     "output_type": "stream",
     "text": [
      "TPU available: False, using: 0 TPU cores\n",
      "IPU available: False, using: 0 IPUs\n",
      "HPU available: False, using: 0 HPUs\n",
      "\n",
      "  | Name            | Type             | Params\n",
      "-----------------------------------------------------\n",
      "0 | criterion       | MSELoss          | 0     \n",
      "1 | train_metrics   | MetricCollection | 0     \n",
      "2 | val_metrics     | MetricCollection | 0     \n",
      "3 | decomposition   | _SeriesDecomp    | 0     \n",
      "4 | linear_seasonal | Linear           | 3.6 K \n",
      "5 | linear_trend    | Linear           | 3.6 K \n",
      "-----------------------------------------------------\n",
      "7.2 K     Trainable params\n",
      "0         Non-trainable params\n",
      "7.2 K     Total params\n",
      "0.029     Total estimated model params size (MB)\n"
     ]
    },
    {
     "name": "stdout",
     "output_type": "stream",
     "text": [
      "Epoch 99: 100%|██████████| 11/11 [00:00<00:00, 19.00it/s, train_loss=218.0] "
     ]
    },
    {
     "name": "stderr",
     "output_type": "stream",
     "text": [
      "`Trainer.fit` stopped: `max_epochs=100` reached.\n"
     ]
    },
    {
     "name": "stdout",
     "output_type": "stream",
     "text": [
      "Epoch 99: 100%|██████████| 11/11 [00:00<00:00, 18.90it/s, train_loss=218.0]"
     ]
    },
    {
     "name": "stderr",
     "output_type": "stream",
     "text": [
      "GPU available: False, used: False\n",
      "TPU available: False, using: 0 TPU cores\n",
      "IPU available: False, using: 0 IPUs\n",
      "HPU available: False, using: 0 HPUs\n"
     ]
    },
    {
     "name": "stdout",
     "output_type": "stream",
     "text": [
      "\n",
      "Predicting DataLoader 0: 100%|██████████| 1/1 [00:00<00:00, 18.01it/s]"
     ]
    },
    {
     "name": "stderr",
     "output_type": "stream",
     "text": [
      "  7%|▋         | 7/100 [07:07<1:38:27, 63.52s/it]"
     ]
    },
    {
     "name": "stdout",
     "output_type": "stream",
     "text": [
      "\n"
     ]
    },
    {
     "name": "stderr",
     "output_type": "stream",
     "text": [
      "GPU available: False, used: False\n",
      "TPU available: False, using: 0 TPU cores\n",
      "IPU available: False, using: 0 IPUs\n",
      "HPU available: False, using: 0 HPUs\n",
      "\n",
      "  | Name            | Type             | Params\n",
      "-----------------------------------------------------\n",
      "0 | criterion       | MSELoss          | 0     \n",
      "1 | train_metrics   | MetricCollection | 0     \n",
      "2 | val_metrics     | MetricCollection | 0     \n",
      "3 | decomposition   | _SeriesDecomp    | 0     \n",
      "4 | linear_seasonal | Linear           | 3.6 K \n",
      "5 | linear_trend    | Linear           | 3.6 K \n",
      "-----------------------------------------------------\n",
      "7.2 K     Trainable params\n",
      "0         Non-trainable params\n",
      "7.2 K     Total params\n",
      "0.029     Total estimated model params size (MB)\n"
     ]
    },
    {
     "name": "stdout",
     "output_type": "stream",
     "text": [
      "Epoch 99: 100%|██████████| 11/11 [00:00<00:00, 11.44it/s, train_loss=169.0] "
     ]
    },
    {
     "name": "stderr",
     "output_type": "stream",
     "text": [
      "`Trainer.fit` stopped: `max_epochs=100` reached.\n"
     ]
    },
    {
     "name": "stdout",
     "output_type": "stream",
     "text": [
      "Epoch 99: 100%|██████████| 11/11 [00:00<00:00, 11.43it/s, train_loss=169.0]"
     ]
    },
    {
     "name": "stderr",
     "output_type": "stream",
     "text": [
      "GPU available: False, used: False\n",
      "TPU available: False, using: 0 TPU cores\n",
      "IPU available: False, using: 0 IPUs\n",
      "HPU available: False, using: 0 HPUs\n"
     ]
    },
    {
     "name": "stdout",
     "output_type": "stream",
     "text": [
      "\n",
      "Predicting DataLoader 0: 100%|██████████| 1/1 [00:00<00:00, 51.70it/s]"
     ]
    },
    {
     "name": "stderr",
     "output_type": "stream",
     "text": [
      "  8%|▊         | 8/100 [08:14<1:39:10, 64.68s/it]GPU available: False, used: False\n",
      "TPU available: False, using: 0 TPU cores\n",
      "IPU available: False, using: 0 IPUs\n",
      "HPU available: False, using: 0 HPUs\n"
     ]
    },
    {
     "name": "stdout",
     "output_type": "stream",
     "text": [
      "\n"
     ]
    },
    {
     "name": "stderr",
     "output_type": "stream",
     "text": [
      "\n",
      "  | Name            | Type             | Params\n",
      "-----------------------------------------------------\n",
      "0 | criterion       | MSELoss          | 0     \n",
      "1 | train_metrics   | MetricCollection | 0     \n",
      "2 | val_metrics     | MetricCollection | 0     \n",
      "3 | decomposition   | _SeriesDecomp    | 0     \n",
      "4 | linear_seasonal | Linear           | 3.6 K \n",
      "5 | linear_trend    | Linear           | 3.6 K \n",
      "-----------------------------------------------------\n",
      "7.2 K     Trainable params\n",
      "0         Non-trainable params\n",
      "7.2 K     Total params\n",
      "0.029     Total estimated model params size (MB)\n"
     ]
    },
    {
     "name": "stdout",
     "output_type": "stream",
     "text": [
      "Epoch 99: 100%|██████████| 11/11 [00:00<00:00, 17.27it/s, train_loss=204.0] "
     ]
    },
    {
     "name": "stderr",
     "output_type": "stream",
     "text": [
      "`Trainer.fit` stopped: `max_epochs=100` reached.\n"
     ]
    },
    {
     "name": "stdout",
     "output_type": "stream",
     "text": [
      "Epoch 99: 100%|██████████| 11/11 [00:00<00:00, 17.22it/s, train_loss=204.0]"
     ]
    },
    {
     "name": "stderr",
     "output_type": "stream",
     "text": [
      "GPU available: False, used: False\n",
      "TPU available: False, using: 0 TPU cores\n",
      "IPU available: False, using: 0 IPUs\n",
      "HPU available: False, using: 0 HPUs\n"
     ]
    },
    {
     "name": "stdout",
     "output_type": "stream",
     "text": [
      "\n",
      "Predicting DataLoader 0: 100%|██████████| 1/1 [00:00<00:00, 186.91it/s]"
     ]
    },
    {
     "name": "stderr",
     "output_type": "stream",
     "text": [
      "  9%|▉         | 9/100 [09:35<1:45:45, 69.74s/it]GPU available: False, used: False\n",
      "TPU available: False, using: 0 TPU cores\n",
      "IPU available: False, using: 0 IPUs\n",
      "HPU available: False, using: 0 HPUs\n",
      "\n",
      "  | Name            | Type             | Params\n",
      "-----------------------------------------------------\n",
      "0 | criterion       | MSELoss          | 0     \n",
      "1 | train_metrics   | MetricCollection | 0     \n",
      "2 | val_metrics     | MetricCollection | 0     \n",
      "3 | decomposition   | _SeriesDecomp    | 0     \n",
      "4 | linear_seasonal | Linear           | 3.6 K \n",
      "5 | linear_trend    | Linear           | 3.6 K \n",
      "-----------------------------------------------------\n",
      "7.2 K     Trainable params\n",
      "0         Non-trainable params\n",
      "7.2 K     Total params\n",
      "0.029     Total estimated model params size (MB)\n"
     ]
    },
    {
     "name": "stdout",
     "output_type": "stream",
     "text": [
      "\n",
      "Epoch 99: 100%|██████████| 11/11 [00:00<00:00, 17.40it/s, train_loss=194.0] "
     ]
    },
    {
     "name": "stderr",
     "output_type": "stream",
     "text": [
      "`Trainer.fit` stopped: `max_epochs=100` reached.\n"
     ]
    },
    {
     "name": "stdout",
     "output_type": "stream",
     "text": [
      "Epoch 99: 100%|██████████| 11/11 [00:00<00:00, 17.33it/s, train_loss=194.0]"
     ]
    },
    {
     "name": "stderr",
     "output_type": "stream",
     "text": [
      "GPU available: False, used: False\n"
     ]
    },
    {
     "name": "stdout",
     "output_type": "stream",
     "text": [
      "\n"
     ]
    },
    {
     "name": "stderr",
     "output_type": "stream",
     "text": [
      "TPU available: False, using: 0 TPU cores\n",
      "IPU available: False, using: 0 IPUs\n",
      "HPU available: False, using: 0 HPUs\n"
     ]
    },
    {
     "name": "stdout",
     "output_type": "stream",
     "text": [
      "Predicting DataLoader 0: 100%|██████████| 1/1 [00:00<00:00, 91.99it/s]"
     ]
    },
    {
     "name": "stderr",
     "output_type": "stream",
     "text": [
      " 10%|█         | 10/100 [10:38<1:41:26, 67.62s/it]GPU available: False, used: False\n"
     ]
    },
    {
     "name": "stdout",
     "output_type": "stream",
     "text": [
      "\n"
     ]
    },
    {
     "name": "stderr",
     "output_type": "stream",
     "text": [
      "TPU available: False, using: 0 TPU cores\n",
      "IPU available: False, using: 0 IPUs\n",
      "HPU available: False, using: 0 HPUs\n",
      "\n",
      "  | Name            | Type             | Params\n",
      "-----------------------------------------------------\n",
      "0 | criterion       | MSELoss          | 0     \n",
      "1 | train_metrics   | MetricCollection | 0     \n",
      "2 | val_metrics     | MetricCollection | 0     \n",
      "3 | decomposition   | _SeriesDecomp    | 0     \n",
      "4 | linear_seasonal | Linear           | 3.6 K \n",
      "5 | linear_trend    | Linear           | 3.6 K \n",
      "-----------------------------------------------------\n",
      "7.2 K     Trainable params\n",
      "0         Non-trainable params\n",
      "7.2 K     Total params\n",
      "0.029     Total estimated model params size (MB)\n"
     ]
    },
    {
     "name": "stdout",
     "output_type": "stream",
     "text": [
      "Epoch 99: 100%|██████████| 11/11 [00:00<00:00, 13.31it/s, train_loss=240.0] "
     ]
    },
    {
     "name": "stderr",
     "output_type": "stream",
     "text": [
      "`Trainer.fit` stopped: `max_epochs=100` reached.\n"
     ]
    },
    {
     "name": "stdout",
     "output_type": "stream",
     "text": [
      "Epoch 99: 100%|██████████| 11/11 [00:00<00:00, 13.28it/s, train_loss=240.0]"
     ]
    },
    {
     "name": "stderr",
     "output_type": "stream",
     "text": [
      "GPU available: False, used: False\n"
     ]
    },
    {
     "name": "stdout",
     "output_type": "stream",
     "text": [
      "\n"
     ]
    },
    {
     "name": "stderr",
     "output_type": "stream",
     "text": [
      "TPU available: False, using: 0 TPU cores\n",
      "IPU available: False, using: 0 IPUs\n",
      "HPU available: False, using: 0 HPUs\n"
     ]
    },
    {
     "name": "stdout",
     "output_type": "stream",
     "text": [
      "Predicting DataLoader 0: 100%|██████████| 1/1 [00:00<00:00, 131.80it/s]"
     ]
    },
    {
     "name": "stderr",
     "output_type": "stream",
     "text": [
      " 11%|█         | 11/100 [11:53<1:43:49, 69.99s/it]GPU available: False, used: False\n",
      "TPU available: False, using: 0 TPU cores\n",
      "IPU available: False, using: 0 IPUs\n",
      "HPU available: False, using: 0 HPUs\n",
      "\n",
      "  | Name            | Type             | Params\n",
      "-----------------------------------------------------\n",
      "0 | criterion       | MSELoss          | 0     \n",
      "1 | train_metrics   | MetricCollection | 0     \n",
      "2 | val_metrics     | MetricCollection | 0     \n",
      "3 | decomposition   | _SeriesDecomp    | 0     \n",
      "4 | linear_seasonal | Linear           | 3.6 K \n",
      "5 | linear_trend    | Linear           | 3.6 K \n",
      "-----------------------------------------------------\n",
      "7.2 K     Trainable params\n",
      "0         Non-trainable params\n",
      "7.2 K     Total params\n",
      "0.029     Total estimated model params size (MB)\n"
     ]
    },
    {
     "name": "stdout",
     "output_type": "stream",
     "text": [
      "\n",
      "Epoch 99: 100%|██████████| 11/11 [00:00<00:00, 19.11it/s, train_loss=197.0] "
     ]
    },
    {
     "name": "stderr",
     "output_type": "stream",
     "text": [
      "`Trainer.fit` stopped: `max_epochs=100` reached.\n"
     ]
    },
    {
     "name": "stdout",
     "output_type": "stream",
     "text": [
      "Epoch 99: 100%|██████████| 11/11 [00:00<00:00, 19.05it/s, train_loss=197.0]"
     ]
    },
    {
     "name": "stderr",
     "output_type": "stream",
     "text": [
      "GPU available: False, used: False\n",
      "TPU available: False, using: 0 TPU cores\n",
      "IPU available: False, using: 0 IPUs\n",
      "HPU available: False, using: 0 HPUs\n"
     ]
    },
    {
     "name": "stdout",
     "output_type": "stream",
     "text": [
      "\n",
      "Predicting DataLoader 0: 100%|██████████| 1/1 [00:00<00:00, 125.02it/s]"
     ]
    },
    {
     "name": "stderr",
     "output_type": "stream",
     "text": [
      " 12%|█▏        | 12/100 [13:00<1:41:04, 68.91s/it]GPU available: False, used: False\n",
      "TPU available: False, using: 0 TPU cores\n",
      "IPU available: False, using: 0 IPUs\n",
      "HPU available: False, using: 0 HPUs\n",
      "\n",
      "  | Name            | Type             | Params\n",
      "-----------------------------------------------------\n",
      "0 | criterion       | MSELoss          | 0     \n",
      "1 | train_metrics   | MetricCollection | 0     \n",
      "2 | val_metrics     | MetricCollection | 0     \n",
      "3 | decomposition   | _SeriesDecomp    | 0     \n",
      "4 | linear_seasonal | Linear           | 3.6 K \n",
      "5 | linear_trend    | Linear           | 3.6 K \n",
      "-----------------------------------------------------\n",
      "7.2 K     Trainable params\n",
      "0         Non-trainable params\n",
      "7.2 K     Total params\n",
      "0.029     Total estimated model params size (MB)\n"
     ]
    },
    {
     "name": "stdout",
     "output_type": "stream",
     "text": [
      "\n",
      "Epoch 99: 100%|██████████| 11/11 [00:00<00:00, 15.87it/s, train_loss=245.0] "
     ]
    },
    {
     "name": "stderr",
     "output_type": "stream",
     "text": [
      "`Trainer.fit` stopped: `max_epochs=100` reached.\n"
     ]
    },
    {
     "name": "stdout",
     "output_type": "stream",
     "text": [
      "Epoch 99: 100%|██████████| 11/11 [00:00<00:00, 15.82it/s, train_loss=245.0]\n"
     ]
    },
    {
     "name": "stderr",
     "output_type": "stream",
     "text": [
      "GPU available: False, used: False\n",
      "TPU available: False, using: 0 TPU cores\n",
      "IPU available: False, using: 0 IPUs\n",
      "HPU available: False, using: 0 HPUs\n"
     ]
    },
    {
     "name": "stdout",
     "output_type": "stream",
     "text": [
      "Predicting DataLoader 0: 100%|██████████| 1/1 [00:00<00:00, 111.11it/s]"
     ]
    },
    {
     "name": "stderr",
     "output_type": "stream",
     "text": [
      " 13%|█▎        | 13/100 [14:06<1:38:34, 67.99s/it]"
     ]
    },
    {
     "name": "stdout",
     "output_type": "stream",
     "text": [
      "\n"
     ]
    },
    {
     "name": "stderr",
     "output_type": "stream",
     "text": [
      "GPU available: False, used: False\n",
      "TPU available: False, using: 0 TPU cores\n",
      "IPU available: False, using: 0 IPUs\n",
      "HPU available: False, using: 0 HPUs\n",
      "\n",
      "  | Name            | Type             | Params\n",
      "-----------------------------------------------------\n",
      "0 | criterion       | MSELoss          | 0     \n",
      "1 | train_metrics   | MetricCollection | 0     \n",
      "2 | val_metrics     | MetricCollection | 0     \n",
      "3 | decomposition   | _SeriesDecomp    | 0     \n",
      "4 | linear_seasonal | Linear           | 3.6 K \n",
      "5 | linear_trend    | Linear           | 3.6 K \n",
      "-----------------------------------------------------\n",
      "7.2 K     Trainable params\n",
      "0         Non-trainable params\n",
      "7.2 K     Total params\n",
      "0.029     Total estimated model params size (MB)\n"
     ]
    },
    {
     "name": "stdout",
     "output_type": "stream",
     "text": [
      "Epoch 99: 100%|██████████| 11/11 [00:00<00:00, 17.06it/s, train_loss=247.0] "
     ]
    },
    {
     "name": "stderr",
     "output_type": "stream",
     "text": [
      "`Trainer.fit` stopped: `max_epochs=100` reached.\n"
     ]
    },
    {
     "name": "stdout",
     "output_type": "stream",
     "text": [
      "Epoch 99: 100%|██████████| 11/11 [00:00<00:00, 17.01it/s, train_loss=247.0]"
     ]
    },
    {
     "name": "stderr",
     "output_type": "stream",
     "text": [
      "GPU available: False, used: False\n"
     ]
    },
    {
     "name": "stdout",
     "output_type": "stream",
     "text": [
      "\n"
     ]
    },
    {
     "name": "stderr",
     "output_type": "stream",
     "text": [
      "TPU available: False, using: 0 TPU cores\n",
      "IPU available: False, using: 0 IPUs\n",
      "HPU available: False, using: 0 HPUs\n"
     ]
    },
    {
     "name": "stdout",
     "output_type": "stream",
     "text": [
      "Predicting DataLoader 0: 100%|██████████| 1/1 [00:00<00:00, 125.94it/s]"
     ]
    },
    {
     "name": "stderr",
     "output_type": "stream",
     "text": [
      " 14%|█▍        | 14/100 [15:28<1:43:29, 72.20s/it]"
     ]
    },
    {
     "name": "stdout",
     "output_type": "stream",
     "text": [
      "\n"
     ]
    },
    {
     "name": "stderr",
     "output_type": "stream",
     "text": [
      "GPU available: False, used: False\n",
      "TPU available: False, using: 0 TPU cores\n",
      "IPU available: False, using: 0 IPUs\n",
      "HPU available: False, using: 0 HPUs\n",
      "\n",
      "  | Name            | Type             | Params\n",
      "-----------------------------------------------------\n",
      "0 | criterion       | MSELoss          | 0     \n",
      "1 | train_metrics   | MetricCollection | 0     \n",
      "2 | val_metrics     | MetricCollection | 0     \n",
      "3 | decomposition   | _SeriesDecomp    | 0     \n",
      "4 | linear_seasonal | Linear           | 3.6 K \n",
      "5 | linear_trend    | Linear           | 3.6 K \n",
      "-----------------------------------------------------\n",
      "7.2 K     Trainable params\n",
      "0         Non-trainable params\n",
      "7.2 K     Total params\n",
      "0.029     Total estimated model params size (MB)\n"
     ]
    },
    {
     "name": "stdout",
     "output_type": "stream",
     "text": [
      "Epoch 99: 100%|██████████| 11/11 [00:00<00:00, 17.74it/s, train_loss=290.0] "
     ]
    },
    {
     "name": "stderr",
     "output_type": "stream",
     "text": [
      "`Trainer.fit` stopped: `max_epochs=100` reached.\n"
     ]
    },
    {
     "name": "stdout",
     "output_type": "stream",
     "text": [
      "Epoch 99: 100%|██████████| 11/11 [00:00<00:00, 17.74it/s, train_loss=290.0]\n"
     ]
    },
    {
     "name": "stderr",
     "output_type": "stream",
     "text": [
      "GPU available: False, used: False\n",
      "TPU available: False, using: 0 TPU cores\n",
      "IPU available: False, using: 0 IPUs\n",
      "HPU available: False, using: 0 HPUs\n"
     ]
    },
    {
     "name": "stdout",
     "output_type": "stream",
     "text": [
      "Predicting DataLoader 0: 100%|██████████| 1/1 [00:00<00:00, 127.41it/s]"
     ]
    },
    {
     "name": "stderr",
     "output_type": "stream",
     "text": [
      " 15%|█▌        | 15/100 [16:32<1:38:51, 69.78s/it]GPU available: False, used: False\n",
      "TPU available: False, using: 0 TPU cores\n",
      "IPU available: False, using: 0 IPUs\n",
      "HPU available: False, using: 0 HPUs\n",
      "\n",
      "  | Name            | Type             | Params\n",
      "-----------------------------------------------------\n",
      "0 | criterion       | MSELoss          | 0     \n",
      "1 | train_metrics   | MetricCollection | 0     \n",
      "2 | val_metrics     | MetricCollection | 0     \n",
      "3 | decomposition   | _SeriesDecomp    | 0     \n",
      "4 | linear_seasonal | Linear           | 3.6 K \n",
      "5 | linear_trend    | Linear           | 3.6 K \n",
      "-----------------------------------------------------\n",
      "7.2 K     Trainable params\n",
      "0         Non-trainable params\n",
      "7.2 K     Total params\n",
      "0.029     Total estimated model params size (MB)\n"
     ]
    },
    {
     "name": "stdout",
     "output_type": "stream",
     "text": [
      "\n",
      "Epoch 99: 100%|██████████| 11/11 [00:00<00:00, 12.88it/s, train_loss=232.0] "
     ]
    },
    {
     "name": "stderr",
     "output_type": "stream",
     "text": [
      "`Trainer.fit` stopped: `max_epochs=100` reached.\n"
     ]
    },
    {
     "name": "stdout",
     "output_type": "stream",
     "text": [
      "Epoch 99: 100%|██████████| 11/11 [00:00<00:00, 12.83it/s, train_loss=232.0]"
     ]
    },
    {
     "name": "stderr",
     "output_type": "stream",
     "text": [
      "GPU available: False, used: False\n",
      "TPU available: False, using: 0 TPU cores\n",
      "IPU available: False, using: 0 IPUs\n",
      "HPU available: False, using: 0 HPUs\n"
     ]
    },
    {
     "name": "stdout",
     "output_type": "stream",
     "text": [
      "\n",
      "Predicting DataLoader 0: 100%|██████████| 1/1 [00:00<00:00, 130.48it/s]"
     ]
    },
    {
     "name": "stderr",
     "output_type": "stream",
     "text": [
      " 16%|█▌        | 16/100 [17:48<1:40:16, 71.62s/it]GPU available: False, used: False\n"
     ]
    },
    {
     "name": "stdout",
     "output_type": "stream",
     "text": [
      "\n"
     ]
    },
    {
     "name": "stderr",
     "output_type": "stream",
     "text": [
      "TPU available: False, using: 0 TPU cores\n",
      "IPU available: False, using: 0 IPUs\n",
      "HPU available: False, using: 0 HPUs\n",
      "\n",
      "  | Name            | Type             | Params\n",
      "-----------------------------------------------------\n",
      "0 | criterion       | MSELoss          | 0     \n",
      "1 | train_metrics   | MetricCollection | 0     \n",
      "2 | val_metrics     | MetricCollection | 0     \n",
      "3 | decomposition   | _SeriesDecomp    | 0     \n",
      "4 | linear_seasonal | Linear           | 3.6 K \n",
      "5 | linear_trend    | Linear           | 3.6 K \n",
      "-----------------------------------------------------\n",
      "7.2 K     Trainable params\n",
      "0         Non-trainable params\n",
      "7.2 K     Total params\n",
      "0.029     Total estimated model params size (MB)\n"
     ]
    },
    {
     "name": "stdout",
     "output_type": "stream",
     "text": [
      "Epoch 99: 100%|██████████| 11/11 [00:00<00:00, 18.39it/s, train_loss=211.0] "
     ]
    },
    {
     "name": "stderr",
     "output_type": "stream",
     "text": [
      "`Trainer.fit` stopped: `max_epochs=100` reached.\n"
     ]
    },
    {
     "name": "stdout",
     "output_type": "stream",
     "text": [
      "Epoch 99: 100%|██████████| 11/11 [00:00<00:00, 18.33it/s, train_loss=211.0]"
     ]
    },
    {
     "name": "stderr",
     "output_type": "stream",
     "text": [
      "GPU available: False, used: False\n",
      "TPU available: False, using: 0 TPU cores\n",
      "IPU available: False, using: 0 IPUs\n",
      "HPU available: False, using: 0 HPUs\n"
     ]
    },
    {
     "name": "stdout",
     "output_type": "stream",
     "text": [
      "\n",
      "Predicting DataLoader 0: 100%|██████████| 1/1 [00:00<00:00, 69.25it/s]"
     ]
    },
    {
     "name": "stderr",
     "output_type": "stream",
     "text": [
      " 17%|█▋        | 17/100 [18:53<1:36:31, 69.78s/it]GPU available: False, used: False\n"
     ]
    },
    {
     "name": "stdout",
     "output_type": "stream",
     "text": [
      "\n"
     ]
    },
    {
     "name": "stderr",
     "output_type": "stream",
     "text": [
      "TPU available: False, using: 0 TPU cores\n",
      "IPU available: False, using: 0 IPUs\n",
      "HPU available: False, using: 0 HPUs\n",
      "\n",
      "  | Name            | Type             | Params\n",
      "-----------------------------------------------------\n",
      "0 | criterion       | MSELoss          | 0     \n",
      "1 | train_metrics   | MetricCollection | 0     \n",
      "2 | val_metrics     | MetricCollection | 0     \n",
      "3 | decomposition   | _SeriesDecomp    | 0     \n",
      "4 | linear_seasonal | Linear           | 3.6 K \n",
      "5 | linear_trend    | Linear           | 3.6 K \n",
      "-----------------------------------------------------\n",
      "7.2 K     Trainable params\n",
      "0         Non-trainable params\n",
      "7.2 K     Total params\n",
      "0.029     Total estimated model params size (MB)\n"
     ]
    },
    {
     "name": "stdout",
     "output_type": "stream",
     "text": [
      "Epoch 99: 100%|██████████| 11/11 [00:00<00:00, 15.45it/s, train_loss=216.0] "
     ]
    },
    {
     "name": "stderr",
     "output_type": "stream",
     "text": [
      "`Trainer.fit` stopped: `max_epochs=100` reached.\n"
     ]
    },
    {
     "name": "stdout",
     "output_type": "stream",
     "text": [
      "Epoch 99: 100%|██████████| 11/11 [00:00<00:00, 15.19it/s, train_loss=216.0]\n"
     ]
    },
    {
     "name": "stderr",
     "output_type": "stream",
     "text": [
      "GPU available: False, used: False\n",
      "TPU available: False, using: 0 TPU cores\n",
      "IPU available: False, using: 0 IPUs\n",
      "HPU available: False, using: 0 HPUs\n"
     ]
    },
    {
     "name": "stdout",
     "output_type": "stream",
     "text": [
      "Predicting DataLoader 0: 100%|██████████| 1/1 [00:00<00:00, 311.33it/s]"
     ]
    },
    {
     "name": "stderr",
     "output_type": "stream",
     "text": [
      " 18%|█▊        | 18/100 [20:01<1:34:42, 69.30s/it]GPU available: False, used: False\n",
      "TPU available: False, using: 0 TPU cores\n",
      "IPU available: False, using: 0 IPUs\n",
      "HPU available: False, using: 0 HPUs\n",
      "\n",
      "  | Name            | Type             | Params\n",
      "-----------------------------------------------------\n",
      "0 | criterion       | MSELoss          | 0     \n",
      "1 | train_metrics   | MetricCollection | 0     \n",
      "2 | val_metrics     | MetricCollection | 0     \n",
      "3 | decomposition   | _SeriesDecomp    | 0     \n",
      "4 | linear_seasonal | Linear           | 3.6 K \n",
      "5 | linear_trend    | Linear           | 3.6 K \n",
      "-----------------------------------------------------\n",
      "7.2 K     Trainable params\n",
      "0         Non-trainable params\n",
      "7.2 K     Total params\n",
      "0.029     Total estimated model params size (MB)\n"
     ]
    },
    {
     "name": "stdout",
     "output_type": "stream",
     "text": [
      "\n",
      "Epoch 99: 100%|██████████| 11/11 [00:00<00:00, 17.92it/s, train_loss=321.0] "
     ]
    },
    {
     "name": "stderr",
     "output_type": "stream",
     "text": [
      "`Trainer.fit` stopped: `max_epochs=100` reached.\n"
     ]
    },
    {
     "name": "stdout",
     "output_type": "stream",
     "text": [
      "Epoch 99: 100%|██████████| 11/11 [00:00<00:00, 17.86it/s, train_loss=321.0]"
     ]
    },
    {
     "name": "stderr",
     "output_type": "stream",
     "text": [
      "GPU available: False, used: False\n",
      "TPU available: False, using: 0 TPU cores\n",
      "IPU available: False, using: 0 IPUs\n",
      "HPU available: False, using: 0 HPUs\n"
     ]
    },
    {
     "name": "stdout",
     "output_type": "stream",
     "text": [
      "\n",
      "Predicting DataLoader 0: 100%|██████████| 1/1 [00:00<00:00, 166.69it/s]"
     ]
    },
    {
     "name": "stderr",
     "output_type": "stream",
     "text": [
      " 19%|█▉        | 19/100 [21:16<1:35:50, 71.00s/it]GPU available: False, used: False\n",
      "TPU available: False, using: 0 TPU cores\n",
      "IPU available: False, using: 0 IPUs\n",
      "HPU available: False, using: 0 HPUs\n",
      "\n",
      "  | Name            | Type             | Params\n",
      "-----------------------------------------------------\n",
      "0 | criterion       | MSELoss          | 0     \n",
      "1 | train_metrics   | MetricCollection | 0     \n",
      "2 | val_metrics     | MetricCollection | 0     \n",
      "3 | decomposition   | _SeriesDecomp    | 0     \n",
      "4 | linear_seasonal | Linear           | 3.6 K \n",
      "5 | linear_trend    | Linear           | 3.6 K \n",
      "-----------------------------------------------------\n",
      "7.2 K     Trainable params\n",
      "0         Non-trainable params\n",
      "7.2 K     Total params\n",
      "0.029     Total estimated model params size (MB)\n"
     ]
    },
    {
     "name": "stdout",
     "output_type": "stream",
     "text": [
      "\n",
      "Epoch 99: 100%|██████████| 11/11 [00:00<00:00, 17.07it/s, train_loss=232.0] "
     ]
    },
    {
     "name": "stderr",
     "output_type": "stream",
     "text": [
      "`Trainer.fit` stopped: `max_epochs=100` reached.\n"
     ]
    },
    {
     "name": "stdout",
     "output_type": "stream",
     "text": [
      "Epoch 99: 100%|██████████| 11/11 [00:00<00:00, 17.01it/s, train_loss=232.0]"
     ]
    },
    {
     "name": "stderr",
     "output_type": "stream",
     "text": [
      "GPU available: False, used: False\n"
     ]
    },
    {
     "name": "stdout",
     "output_type": "stream",
     "text": [
      "\n"
     ]
    },
    {
     "name": "stderr",
     "output_type": "stream",
     "text": [
      "TPU available: False, using: 0 TPU cores\n",
      "IPU available: False, using: 0 IPUs\n",
      "HPU available: False, using: 0 HPUs\n"
     ]
    },
    {
     "name": "stdout",
     "output_type": "stream",
     "text": [
      "Predicting DataLoader 0: 100%|██████████| 1/1 [00:00<00:00, 166.71it/s]"
     ]
    },
    {
     "name": "stderr",
     "output_type": "stream",
     "text": [
      " 20%|██        | 20/100 [22:17<1:30:35, 67.95s/it]GPU available: False, used: False\n"
     ]
    },
    {
     "name": "stdout",
     "output_type": "stream",
     "text": [
      "\n"
     ]
    },
    {
     "name": "stderr",
     "output_type": "stream",
     "text": [
      "TPU available: False, using: 0 TPU cores\n",
      "IPU available: False, using: 0 IPUs\n",
      "HPU available: False, using: 0 HPUs\n",
      "\n",
      "  | Name            | Type             | Params\n",
      "-----------------------------------------------------\n",
      "0 | criterion       | MSELoss          | 0     \n",
      "1 | train_metrics   | MetricCollection | 0     \n",
      "2 | val_metrics     | MetricCollection | 0     \n",
      "3 | decomposition   | _SeriesDecomp    | 0     \n",
      "4 | linear_seasonal | Linear           | 3.6 K \n",
      "5 | linear_trend    | Linear           | 3.6 K \n",
      "-----------------------------------------------------\n",
      "7.2 K     Trainable params\n",
      "0         Non-trainable params\n",
      "7.2 K     Total params\n",
      "0.029     Total estimated model params size (MB)\n"
     ]
    },
    {
     "name": "stdout",
     "output_type": "stream",
     "text": [
      "Epoch 99: 100%|██████████| 11/11 [00:00<00:00, 13.19it/s, train_loss=221.0] "
     ]
    },
    {
     "name": "stderr",
     "output_type": "stream",
     "text": [
      "`Trainer.fit` stopped: `max_epochs=100` reached.\n"
     ]
    },
    {
     "name": "stdout",
     "output_type": "stream",
     "text": [
      "Epoch 99: 100%|██████████| 11/11 [00:00<00:00, 13.19it/s, train_loss=221.0]"
     ]
    },
    {
     "name": "stderr",
     "output_type": "stream",
     "text": [
      "GPU available: False, used: False\n"
     ]
    },
    {
     "name": "stdout",
     "output_type": "stream",
     "text": [
      "\n"
     ]
    },
    {
     "name": "stderr",
     "output_type": "stream",
     "text": [
      "TPU available: False, using: 0 TPU cores\n",
      "IPU available: False, using: 0 IPUs\n",
      "HPU available: False, using: 0 HPUs\n"
     ]
    },
    {
     "name": "stdout",
     "output_type": "stream",
     "text": [
      "Predicting DataLoader 0: 100%|██████████| 1/1 [00:00<00:00, 127.51it/s]"
     ]
    },
    {
     "name": "stderr",
     "output_type": "stream",
     "text": [
      " 21%|██        | 21/100 [23:32<1:32:03, 69.92s/it]GPU available: False, used: False\n",
      "TPU available: False, using: 0 TPU cores\n",
      "IPU available: False, using: 0 IPUs\n",
      "HPU available: False, using: 0 HPUs\n"
     ]
    },
    {
     "name": "stdout",
     "output_type": "stream",
     "text": [
      "\n"
     ]
    },
    {
     "name": "stderr",
     "output_type": "stream",
     "text": [
      "\n",
      "  | Name            | Type             | Params\n",
      "-----------------------------------------------------\n",
      "0 | criterion       | MSELoss          | 0     \n",
      "1 | train_metrics   | MetricCollection | 0     \n",
      "2 | val_metrics     | MetricCollection | 0     \n",
      "3 | decomposition   | _SeriesDecomp    | 0     \n",
      "4 | linear_seasonal | Linear           | 3.6 K \n",
      "5 | linear_trend    | Linear           | 3.6 K \n",
      "-----------------------------------------------------\n",
      "7.2 K     Trainable params\n",
      "0         Non-trainable params\n",
      "7.2 K     Total params\n",
      "0.029     Total estimated model params size (MB)\n"
     ]
    },
    {
     "name": "stdout",
     "output_type": "stream",
     "text": [
      "Epoch 99: 100%|██████████| 11/11 [00:00<00:00, 18.35it/s, train_loss=212.0] "
     ]
    },
    {
     "name": "stderr",
     "output_type": "stream",
     "text": [
      "`Trainer.fit` stopped: `max_epochs=100` reached.\n"
     ]
    },
    {
     "name": "stdout",
     "output_type": "stream",
     "text": [
      "Epoch 99: 100%|██████████| 11/11 [00:00<00:00, 18.29it/s, train_loss=212.0]"
     ]
    },
    {
     "name": "stderr",
     "output_type": "stream",
     "text": [
      "GPU available: False, used: False\n",
      "TPU available: False, using: 0 TPU cores\n",
      "IPU available: False, using: 0 IPUs\n",
      "HPU available: False, using: 0 HPUs\n"
     ]
    },
    {
     "name": "stdout",
     "output_type": "stream",
     "text": [
      "\n",
      "Predicting DataLoader 0: 100%|██████████| 1/1 [00:00<00:00, 51.47it/s]"
     ]
    },
    {
     "name": "stderr",
     "output_type": "stream",
     "text": [
      " 22%|██▏       | 22/100 [24:38<1:29:24, 68.78s/it]GPU available: False, used: False\n",
      "TPU available: False, using: 0 TPU cores\n",
      "IPU available: False, using: 0 IPUs\n",
      "HPU available: False, using: 0 HPUs\n",
      "\n",
      "  | Name            | Type             | Params\n",
      "-----------------------------------------------------\n",
      "0 | criterion       | MSELoss          | 0     \n",
      "1 | train_metrics   | MetricCollection | 0     \n",
      "2 | val_metrics     | MetricCollection | 0     \n",
      "3 | decomposition   | _SeriesDecomp    | 0     \n",
      "4 | linear_seasonal | Linear           | 3.6 K \n",
      "5 | linear_trend    | Linear           | 3.6 K \n",
      "-----------------------------------------------------\n",
      "7.2 K     Trainable params\n",
      "0         Non-trainable params\n",
      "7.2 K     Total params\n",
      "0.029     Total estimated model params size (MB)\n"
     ]
    },
    {
     "name": "stdout",
     "output_type": "stream",
     "text": [
      "\n",
      "Epoch 99: 100%|██████████| 11/11 [00:00<00:00, 15.63it/s, train_loss=267.0] "
     ]
    },
    {
     "name": "stderr",
     "output_type": "stream",
     "text": [
      "`Trainer.fit` stopped: `max_epochs=100` reached.\n"
     ]
    },
    {
     "name": "stdout",
     "output_type": "stream",
     "text": [
      "Epoch 99: 100%|██████████| 11/11 [00:00<00:00, 15.56it/s, train_loss=267.0]"
     ]
    },
    {
     "name": "stderr",
     "output_type": "stream",
     "text": [
      "GPU available: False, used: False\n"
     ]
    },
    {
     "name": "stdout",
     "output_type": "stream",
     "text": [
      "\n"
     ]
    },
    {
     "name": "stderr",
     "output_type": "stream",
     "text": [
      "TPU available: False, using: 0 TPU cores\n",
      "IPU available: False, using: 0 IPUs\n",
      "HPU available: False, using: 0 HPUs\n"
     ]
    },
    {
     "name": "stdout",
     "output_type": "stream",
     "text": [
      "Predicting DataLoader 0: 100%|██████████| 1/1 [00:00<00:00, 20.94it/s]"
     ]
    },
    {
     "name": "stderr",
     "output_type": "stream",
     "text": [
      " 23%|██▎       | 23/100 [25:43<1:26:49, 67.66s/it]GPU available: False, used: False\n",
      "TPU available: False, using: 0 TPU cores\n"
     ]
    },
    {
     "name": "stdout",
     "output_type": "stream",
     "text": [
      "\n"
     ]
    },
    {
     "name": "stderr",
     "output_type": "stream",
     "text": [
      "IPU available: False, using: 0 IPUs\n",
      "HPU available: False, using: 0 HPUs\n",
      "\n",
      "  | Name            | Type             | Params\n",
      "-----------------------------------------------------\n",
      "0 | criterion       | MSELoss          | 0     \n",
      "1 | train_metrics   | MetricCollection | 0     \n",
      "2 | val_metrics     | MetricCollection | 0     \n",
      "3 | decomposition   | _SeriesDecomp    | 0     \n",
      "4 | linear_seasonal | Linear           | 3.6 K \n",
      "5 | linear_trend    | Linear           | 3.6 K \n",
      "-----------------------------------------------------\n",
      "7.2 K     Trainable params\n",
      "0         Non-trainable params\n",
      "7.2 K     Total params\n",
      "0.029     Total estimated model params size (MB)\n"
     ]
    },
    {
     "name": "stdout",
     "output_type": "stream",
     "text": [
      "Epoch 99: 100%|██████████| 11/11 [00:00<00:00, 16.57it/s, train_loss=242.0] "
     ]
    },
    {
     "name": "stderr",
     "output_type": "stream",
     "text": [
      "`Trainer.fit` stopped: `max_epochs=100` reached.\n"
     ]
    },
    {
     "name": "stdout",
     "output_type": "stream",
     "text": [
      "Epoch 99: 100%|██████████| 11/11 [00:00<00:00, 16.29it/s, train_loss=242.0]"
     ]
    },
    {
     "name": "stderr",
     "output_type": "stream",
     "text": [
      "GPU available: False, used: False\n",
      "TPU available: False, using: 0 TPU cores\n",
      "IPU available: False, using: 0 IPUs\n",
      "HPU available: False, using: 0 HPUs\n"
     ]
    },
    {
     "name": "stdout",
     "output_type": "stream",
     "text": [
      "\n",
      "Predicting DataLoader 0: 100%|██████████| 1/1 [00:00<00:00, 166.71it/s]"
     ]
    },
    {
     "name": "stderr",
     "output_type": "stream",
     "text": [
      " 24%|██▍       | 24/100 [27:00<1:29:08, 70.37s/it]GPU available: False, used: False\n",
      "TPU available: False, using: 0 TPU cores\n",
      "IPU available: False, using: 0 IPUs\n",
      "HPU available: False, using: 0 HPUs\n",
      "\n",
      "  | Name            | Type             | Params\n",
      "-----------------------------------------------------\n",
      "0 | criterion       | MSELoss          | 0     \n",
      "1 | train_metrics   | MetricCollection | 0     \n",
      "2 | val_metrics     | MetricCollection | 0     \n",
      "3 | decomposition   | _SeriesDecomp    | 0     \n",
      "4 | linear_seasonal | Linear           | 3.6 K \n",
      "5 | linear_trend    | Linear           | 3.6 K \n",
      "-----------------------------------------------------\n",
      "7.2 K     Trainable params\n",
      "0         Non-trainable params\n",
      "7.2 K     Total params\n",
      "0.029     Total estimated model params size (MB)\n"
     ]
    },
    {
     "name": "stdout",
     "output_type": "stream",
     "text": [
      "\n",
      "Epoch 99: 100%|██████████| 11/11 [00:00<00:00, 18.87it/s, train_loss=264.0] "
     ]
    },
    {
     "name": "stderr",
     "output_type": "stream",
     "text": [
      "`Trainer.fit` stopped: `max_epochs=100` reached.\n"
     ]
    },
    {
     "name": "stdout",
     "output_type": "stream",
     "text": [
      "Epoch 99: 100%|██████████| 11/11 [00:00<00:00, 18.80it/s, train_loss=264.0]"
     ]
    },
    {
     "name": "stderr",
     "output_type": "stream",
     "text": [
      "GPU available: False, used: False\n",
      "TPU available: False, using: 0 TPU cores\n",
      "IPU available: False, using: 0 IPUs\n",
      "HPU available: False, using: 0 HPUs\n"
     ]
    },
    {
     "name": "stdout",
     "output_type": "stream",
     "text": [
      "\n",
      "Predicting DataLoader 0: 100%|██████████| 1/1 [00:00<00:00, 124.98it/s]"
     ]
    },
    {
     "name": "stderr",
     "output_type": "stream",
     "text": [
      " 25%|██▌       | 25/100 [27:59<1:24:02, 67.23s/it]GPU available: False, used: False\n"
     ]
    },
    {
     "name": "stdout",
     "output_type": "stream",
     "text": [
      "\n"
     ]
    },
    {
     "name": "stderr",
     "output_type": "stream",
     "text": [
      "TPU available: False, using: 0 TPU cores\n",
      "IPU available: False, using: 0 IPUs\n",
      "HPU available: False, using: 0 HPUs\n",
      "\n",
      "  | Name            | Type             | Params\n",
      "-----------------------------------------------------\n",
      "0 | criterion       | MSELoss          | 0     \n",
      "1 | train_metrics   | MetricCollection | 0     \n",
      "2 | val_metrics     | MetricCollection | 0     \n",
      "3 | decomposition   | _SeriesDecomp    | 0     \n",
      "4 | linear_seasonal | Linear           | 3.6 K \n",
      "5 | linear_trend    | Linear           | 3.6 K \n",
      "-----------------------------------------------------\n",
      "7.2 K     Trainable params\n",
      "0         Non-trainable params\n",
      "7.2 K     Total params\n",
      "0.029     Total estimated model params size (MB)\n"
     ]
    },
    {
     "name": "stdout",
     "output_type": "stream",
     "text": [
      "Epoch 99: 100%|██████████| 11/11 [00:00<00:00, 14.08it/s, train_loss=217.0] "
     ]
    },
    {
     "name": "stderr",
     "output_type": "stream",
     "text": [
      "`Trainer.fit` stopped: `max_epochs=100` reached.\n"
     ]
    },
    {
     "name": "stdout",
     "output_type": "stream",
     "text": [
      "Epoch 99: 100%|██████████| 11/11 [00:00<00:00, 14.02it/s, train_loss=217.0]"
     ]
    },
    {
     "name": "stderr",
     "output_type": "stream",
     "text": [
      "GPU available: False, used: False\n",
      "TPU available: False, using: 0 TPU cores\n",
      "IPU available: False, using: 0 IPUs\n",
      "HPU available: False, using: 0 HPUs\n"
     ]
    },
    {
     "name": "stdout",
     "output_type": "stream",
     "text": [
      "\n",
      "Predicting DataLoader 0: 100%|██████████| 1/1 [00:00<00:00, 37.46it/s]"
     ]
    },
    {
     "name": "stderr",
     "output_type": "stream",
     "text": [
      " 26%|██▌       | 26/100 [29:09<1:23:43, 67.89s/it]GPU available: False, used: False\n",
      "TPU available: False, using: 0 TPU cores\n",
      "IPU available: False, using: 0 IPUs\n",
      "HPU available: False, using: 0 HPUs\n",
      "\n",
      "  | Name            | Type             | Params\n",
      "-----------------------------------------------------\n",
      "0 | criterion       | MSELoss          | 0     \n",
      "1 | train_metrics   | MetricCollection | 0     \n",
      "2 | val_metrics     | MetricCollection | 0     \n",
      "3 | decomposition   | _SeriesDecomp    | 0     \n",
      "4 | linear_seasonal | Linear           | 3.6 K \n",
      "5 | linear_trend    | Linear           | 3.6 K \n",
      "-----------------------------------------------------\n",
      "7.2 K     Trainable params\n",
      "0         Non-trainable params\n",
      "7.2 K     Total params\n",
      "0.029     Total estimated model params size (MB)\n"
     ]
    },
    {
     "name": "stdout",
     "output_type": "stream",
     "text": [
      "\n",
      "Epoch 99: 100%|██████████| 11/11 [00:00<00:00, 19.37it/s, train_loss=248.0] "
     ]
    },
    {
     "name": "stderr",
     "output_type": "stream",
     "text": [
      "`Trainer.fit` stopped: `max_epochs=100` reached.\n"
     ]
    },
    {
     "name": "stdout",
     "output_type": "stream",
     "text": [
      "Epoch 99: 100%|██████████| 11/11 [00:00<00:00, 19.37it/s, train_loss=248.0]"
     ]
    },
    {
     "name": "stderr",
     "output_type": "stream",
     "text": [
      "GPU available: False, used: False\n",
      "TPU available: False, using: 0 TPU cores\n",
      "IPU available: False, using: 0 IPUs\n"
     ]
    },
    {
     "name": "stdout",
     "output_type": "stream",
     "text": [
      "\n"
     ]
    },
    {
     "name": "stderr",
     "output_type": "stream",
     "text": [
      "HPU available: False, using: 0 HPUs\n"
     ]
    },
    {
     "name": "stdout",
     "output_type": "stream",
     "text": [
      "Predicting DataLoader 0: 100%|██████████| 1/1 [00:00<00:00, 135.22it/s]"
     ]
    },
    {
     "name": "stderr",
     "output_type": "stream",
     "text": [
      " 27%|██▋       | 27/100 [30:22<1:24:25, 69.39s/it]GPU available: False, used: False\n"
     ]
    },
    {
     "name": "stdout",
     "output_type": "stream",
     "text": [
      "\n"
     ]
    },
    {
     "name": "stderr",
     "output_type": "stream",
     "text": [
      "TPU available: False, using: 0 TPU cores\n",
      "IPU available: False, using: 0 IPUs\n",
      "HPU available: False, using: 0 HPUs\n",
      "\n",
      "  | Name            | Type             | Params\n",
      "-----------------------------------------------------\n",
      "0 | criterion       | MSELoss          | 0     \n",
      "1 | train_metrics   | MetricCollection | 0     \n",
      "2 | val_metrics     | MetricCollection | 0     \n",
      "3 | decomposition   | _SeriesDecomp    | 0     \n",
      "4 | linear_seasonal | Linear           | 3.6 K \n",
      "5 | linear_trend    | Linear           | 3.6 K \n",
      "-----------------------------------------------------\n",
      "7.2 K     Trainable params\n",
      "0         Non-trainable params\n",
      "7.2 K     Total params\n",
      "0.029     Total estimated model params size (MB)\n"
     ]
    },
    {
     "name": "stdout",
     "output_type": "stream",
     "text": [
      "Epoch 99: 100%|██████████| 11/11 [00:00<00:00, 16.41it/s, train_loss=279.0] "
     ]
    },
    {
     "name": "stderr",
     "output_type": "stream",
     "text": [
      "`Trainer.fit` stopped: `max_epochs=100` reached.\n"
     ]
    },
    {
     "name": "stdout",
     "output_type": "stream",
     "text": [
      "Epoch 99: 100%|██████████| 11/11 [00:00<00:00, 16.34it/s, train_loss=279.0]"
     ]
    },
    {
     "name": "stderr",
     "output_type": "stream",
     "text": [
      "GPU available: False, used: False\n",
      "TPU available: False, using: 0 TPU cores\n",
      "IPU available: False, using: 0 IPUs\n",
      "HPU available: False, using: 0 HPUs\n"
     ]
    },
    {
     "name": "stdout",
     "output_type": "stream",
     "text": [
      "\n",
      "Predicting DataLoader 0: 100%|██████████| 1/1 [00:00<00:00, 108.99it/s]"
     ]
    },
    {
     "name": "stderr",
     "output_type": "stream",
     "text": [
      " 28%|██▊       | 28/100 [31:23<1:20:26, 67.04s/it]GPU available: False, used: False\n"
     ]
    },
    {
     "name": "stdout",
     "output_type": "stream",
     "text": [
      "\n"
     ]
    },
    {
     "name": "stderr",
     "output_type": "stream",
     "text": [
      "TPU available: False, using: 0 TPU cores\n",
      "IPU available: False, using: 0 IPUs\n",
      "HPU available: False, using: 0 HPUs\n",
      "\n",
      "  | Name            | Type             | Params\n",
      "-----------------------------------------------------\n",
      "0 | criterion       | MSELoss          | 0     \n",
      "1 | train_metrics   | MetricCollection | 0     \n",
      "2 | val_metrics     | MetricCollection | 0     \n",
      "3 | decomposition   | _SeriesDecomp    | 0     \n",
      "4 | linear_seasonal | Linear           | 3.6 K \n",
      "5 | linear_trend    | Linear           | 3.6 K \n",
      "-----------------------------------------------------\n",
      "7.2 K     Trainable params\n",
      "0         Non-trainable params\n",
      "7.2 K     Total params\n",
      "0.029     Total estimated model params size (MB)\n"
     ]
    },
    {
     "name": "stdout",
     "output_type": "stream",
     "text": [
      "Epoch 99: 100%|██████████| 11/11 [00:00<00:00, 14.64it/s, train_loss=246.0] "
     ]
    },
    {
     "name": "stderr",
     "output_type": "stream",
     "text": [
      "`Trainer.fit` stopped: `max_epochs=100` reached.\n"
     ]
    },
    {
     "name": "stdout",
     "output_type": "stream",
     "text": [
      "Epoch 99: 100%|██████████| 11/11 [00:00<00:00, 14.64it/s, train_loss=246.0]"
     ]
    },
    {
     "name": "stderr",
     "output_type": "stream",
     "text": [
      "GPU available: False, used: False\n",
      "TPU available: False, using: 0 TPU cores\n",
      "IPU available: False, using: 0 IPUs\n",
      "HPU available: False, using: 0 HPUs\n"
     ]
    },
    {
     "name": "stdout",
     "output_type": "stream",
     "text": [
      "\n",
      "Predicting DataLoader 0: 100%|██████████| 1/1 [00:00<00:00, 123.22it/s]"
     ]
    },
    {
     "name": "stderr",
     "output_type": "stream",
     "text": [
      " 29%|██▉       | 29/100 [32:40<1:22:35, 69.79s/it]GPU available: False, used: False\n",
      "TPU available: False, using: 0 TPU cores\n",
      "IPU available: False, using: 0 IPUs\n",
      "HPU available: False, using: 0 HPUs\n",
      "\n",
      "  | Name            | Type             | Params\n",
      "-----------------------------------------------------\n",
      "0 | criterion       | MSELoss          | 0     \n",
      "1 | train_metrics   | MetricCollection | 0     \n",
      "2 | val_metrics     | MetricCollection | 0     \n",
      "3 | decomposition   | _SeriesDecomp    | 0     \n",
      "4 | linear_seasonal | Linear           | 3.6 K \n",
      "5 | linear_trend    | Linear           | 3.6 K \n",
      "-----------------------------------------------------\n",
      "7.2 K     Trainable params\n",
      "0         Non-trainable params\n",
      "7.2 K     Total params\n",
      "0.029     Total estimated model params size (MB)\n"
     ]
    },
    {
     "name": "stdout",
     "output_type": "stream",
     "text": [
      "\n",
      "Epoch 99: 100%|██████████| 11/11 [00:00<00:00, 17.72it/s, train_loss=318.0] "
     ]
    },
    {
     "name": "stderr",
     "output_type": "stream",
     "text": [
      "`Trainer.fit` stopped: `max_epochs=100` reached.\n"
     ]
    },
    {
     "name": "stdout",
     "output_type": "stream",
     "text": [
      "Epoch 99: 100%|██████████| 11/11 [00:00<00:00, 17.67it/s, train_loss=318.0]"
     ]
    },
    {
     "name": "stderr",
     "output_type": "stream",
     "text": [
      "GPU available: False, used: False\n",
      "TPU available: False, using: 0 TPU cores\n",
      "IPU available: False, using: 0 IPUs\n",
      "HPU available: False, using: 0 HPUs\n"
     ]
    },
    {
     "name": "stdout",
     "output_type": "stream",
     "text": [
      "\n",
      "Predicting DataLoader 0: 100%|██████████| 1/1 [00:00<?, ?it/s]\n"
     ]
    },
    {
     "name": "stderr",
     "output_type": "stream",
     "text": [
      " 30%|███       | 30/100 [33:42<1:18:53, 67.62s/it]GPU available: False, used: False\n",
      "TPU available: False, using: 0 TPU cores\n",
      "IPU available: False, using: 0 IPUs\n",
      "HPU available: False, using: 0 HPUs\n",
      "\n",
      "  | Name            | Type             | Params\n",
      "-----------------------------------------------------\n",
      "0 | criterion       | MSELoss          | 0     \n",
      "1 | train_metrics   | MetricCollection | 0     \n",
      "2 | val_metrics     | MetricCollection | 0     \n",
      "3 | decomposition   | _SeriesDecomp    | 0     \n",
      "4 | linear_seasonal | Linear           | 3.6 K \n",
      "5 | linear_trend    | Linear           | 3.6 K \n",
      "-----------------------------------------------------\n",
      "7.2 K     Trainable params\n",
      "0         Non-trainable params\n",
      "7.2 K     Total params\n",
      "0.029     Total estimated model params size (MB)\n"
     ]
    },
    {
     "name": "stdout",
     "output_type": "stream",
     "text": [
      "Epoch 99: 100%|██████████| 11/11 [00:00<00:00, 14.14it/s, train_loss=237.0] "
     ]
    },
    {
     "name": "stderr",
     "output_type": "stream",
     "text": [
      "`Trainer.fit` stopped: `max_epochs=100` reached.\n"
     ]
    },
    {
     "name": "stdout",
     "output_type": "stream",
     "text": [
      "Epoch 99: 100%|██████████| 11/11 [00:00<00:00, 14.08it/s, train_loss=237.0]"
     ]
    },
    {
     "name": "stderr",
     "output_type": "stream",
     "text": [
      "GPU available: False, used: False\n",
      "TPU available: False, using: 0 TPU cores\n",
      "IPU available: False, using: 0 IPUs\n",
      "HPU available: False, using: 0 HPUs\n"
     ]
    },
    {
     "name": "stdout",
     "output_type": "stream",
     "text": [
      "\n",
      "Predicting DataLoader 0: 100%|██████████| 1/1 [00:00<00:00, 132.97it/s]"
     ]
    },
    {
     "name": "stderr",
     "output_type": "stream",
     "text": [
      " 31%|███       | 31/100 [34:49<1:17:21, 67.26s/it]"
     ]
    },
    {
     "name": "stdout",
     "output_type": "stream",
     "text": [
      "\n"
     ]
    },
    {
     "name": "stderr",
     "output_type": "stream",
     "text": [
      "GPU available: False, used: False\n",
      "TPU available: False, using: 0 TPU cores\n",
      "IPU available: False, using: 0 IPUs\n",
      "HPU available: False, using: 0 HPUs\n",
      "\n",
      "  | Name            | Type             | Params\n",
      "-----------------------------------------------------\n",
      "0 | criterion       | MSELoss          | 0     \n",
      "1 | train_metrics   | MetricCollection | 0     \n",
      "2 | val_metrics     | MetricCollection | 0     \n",
      "3 | decomposition   | _SeriesDecomp    | 0     \n",
      "4 | linear_seasonal | Linear           | 3.6 K \n",
      "5 | linear_trend    | Linear           | 3.6 K \n",
      "-----------------------------------------------------\n",
      "7.2 K     Trainable params\n",
      "0         Non-trainable params\n",
      "7.2 K     Total params\n",
      "0.029     Total estimated model params size (MB)\n"
     ]
    },
    {
     "name": "stdout",
     "output_type": "stream",
     "text": [
      "Epoch 99: 100%|██████████| 11/11 [00:00<00:00, 17.72it/s, train_loss=339.0] "
     ]
    },
    {
     "name": "stderr",
     "output_type": "stream",
     "text": [
      "`Trainer.fit` stopped: `max_epochs=100` reached.\n"
     ]
    },
    {
     "name": "stdout",
     "output_type": "stream",
     "text": [
      "Epoch 99: 100%|██████████| 11/11 [00:00<00:00, 17.66it/s, train_loss=339.0]"
     ]
    },
    {
     "name": "stderr",
     "output_type": "stream",
     "text": [
      "GPU available: False, used: False\n",
      "TPU available: False, using: 0 TPU cores\n",
      "IPU available: False, using: 0 IPUs\n",
      "HPU available: False, using: 0 HPUs\n"
     ]
    },
    {
     "name": "stdout",
     "output_type": "stream",
     "text": [
      "\n",
      "Predicting DataLoader 0: 100%|██████████| 1/1 [00:00<00:00, 133.69it/s]"
     ]
    },
    {
     "name": "stderr",
     "output_type": "stream",
     "text": [
      " 32%|███▏      | 32/100 [36:04<1:18:52, 69.60s/it]GPU available: False, used: False\n",
      "TPU available: False, using: 0 TPU cores\n",
      "IPU available: False, using: 0 IPUs\n",
      "HPU available: False, using: 0 HPUs\n",
      "\n",
      "  | Name            | Type             | Params\n",
      "-----------------------------------------------------\n",
      "0 | criterion       | MSELoss          | 0     \n",
      "1 | train_metrics   | MetricCollection | 0     \n",
      "2 | val_metrics     | MetricCollection | 0     \n",
      "3 | decomposition   | _SeriesDecomp    | 0     \n",
      "4 | linear_seasonal | Linear           | 3.6 K \n",
      "5 | linear_trend    | Linear           | 3.6 K \n",
      "-----------------------------------------------------\n",
      "7.2 K     Trainable params\n",
      "0         Non-trainable params\n",
      "7.2 K     Total params\n",
      "0.029     Total estimated model params size (MB)\n"
     ]
    },
    {
     "name": "stdout",
     "output_type": "stream",
     "text": [
      "\n",
      "Epoch 99: 100%|██████████| 11/11 [00:00<00:00, 17.18it/s, train_loss=250.0] "
     ]
    },
    {
     "name": "stderr",
     "output_type": "stream",
     "text": [
      "`Trainer.fit` stopped: `max_epochs=100` reached.\n"
     ]
    },
    {
     "name": "stdout",
     "output_type": "stream",
     "text": [
      "Epoch 99: 100%|██████████| 11/11 [00:00<00:00, 17.10it/s, train_loss=250.0]\n"
     ]
    },
    {
     "name": "stderr",
     "output_type": "stream",
     "text": [
      "GPU available: False, used: False\n",
      "TPU available: False, using: 0 TPU cores\n",
      "IPU available: False, using: 0 IPUs\n",
      "HPU available: False, using: 0 HPUs\n"
     ]
    },
    {
     "name": "stdout",
     "output_type": "stream",
     "text": [
      "Predicting DataLoader 0: 100%|██████████| 1/1 [00:00<00:00, 67.51it/s]"
     ]
    },
    {
     "name": "stderr",
     "output_type": "stream",
     "text": [
      " 33%|███▎      | 33/100 [37:06<1:15:21, 67.49s/it]GPU available: False, used: False\n",
      "TPU available: False, using: 0 TPU cores\n",
      "IPU available: False, using: 0 IPUs\n",
      "HPU available: False, using: 0 HPUs\n",
      "\n",
      "  | Name            | Type             | Params\n",
      "-----------------------------------------------------\n",
      "0 | criterion       | MSELoss          | 0     \n",
      "1 | train_metrics   | MetricCollection | 0     \n",
      "2 | val_metrics     | MetricCollection | 0     \n",
      "3 | decomposition   | _SeriesDecomp    | 0     \n",
      "4 | linear_seasonal | Linear           | 3.6 K \n",
      "5 | linear_trend    | Linear           | 3.6 K \n",
      "-----------------------------------------------------\n",
      "7.2 K     Trainable params\n",
      "0         Non-trainable params\n",
      "7.2 K     Total params\n",
      "0.029     Total estimated model params size (MB)\n"
     ]
    },
    {
     "name": "stdout",
     "output_type": "stream",
     "text": [
      "\n",
      "Epoch 99: 100%|██████████| 11/11 [00:00<00:00, 14.94it/s, train_loss=253.0] "
     ]
    },
    {
     "name": "stderr",
     "output_type": "stream",
     "text": [
      "`Trainer.fit` stopped: `max_epochs=100` reached.\n"
     ]
    },
    {
     "name": "stdout",
     "output_type": "stream",
     "text": [
      "Epoch 99: 100%|██████████| 11/11 [00:00<00:00, 14.87it/s, train_loss=253.0]"
     ]
    },
    {
     "name": "stderr",
     "output_type": "stream",
     "text": [
      "GPU available: False, used: False\n",
      "TPU available: False, using: 0 TPU cores\n",
      "IPU available: False, using: 0 IPUs\n",
      "HPU available: False, using: 0 HPUs\n"
     ]
    },
    {
     "name": "stdout",
     "output_type": "stream",
     "text": [
      "\n",
      "Predicting DataLoader 0: 100%|██████████| 1/1 [00:00<00:00, 131.34it/s]"
     ]
    },
    {
     "name": "stderr",
     "output_type": "stream",
     "text": [
      " 34%|███▍      | 34/100 [38:24<1:17:32, 70.49s/it]"
     ]
    },
    {
     "name": "stdout",
     "output_type": "stream",
     "text": [
      "\n"
     ]
    },
    {
     "name": "stderr",
     "output_type": "stream",
     "text": [
      "GPU available: False, used: False\n",
      "TPU available: False, using: 0 TPU cores\n",
      "IPU available: False, using: 0 IPUs\n",
      "HPU available: False, using: 0 HPUs\n",
      "\n",
      "  | Name            | Type             | Params\n",
      "-----------------------------------------------------\n",
      "0 | criterion       | MSELoss          | 0     \n",
      "1 | train_metrics   | MetricCollection | 0     \n",
      "2 | val_metrics     | MetricCollection | 0     \n",
      "3 | decomposition   | _SeriesDecomp    | 0     \n",
      "4 | linear_seasonal | Linear           | 3.6 K \n",
      "5 | linear_trend    | Linear           | 3.6 K \n",
      "-----------------------------------------------------\n",
      "7.2 K     Trainable params\n",
      "0         Non-trainable params\n",
      "7.2 K     Total params\n",
      "0.029     Total estimated model params size (MB)\n"
     ]
    },
    {
     "name": "stdout",
     "output_type": "stream",
     "text": [
      "Epoch 99: 100%|██████████| 11/11 [00:00<00:00, 17.80it/s, train_loss=314.0] "
     ]
    },
    {
     "name": "stderr",
     "output_type": "stream",
     "text": [
      "`Trainer.fit` stopped: `max_epochs=100` reached.\n"
     ]
    },
    {
     "name": "stdout",
     "output_type": "stream",
     "text": [
      "Epoch 99: 100%|██████████| 11/11 [00:00<00:00, 17.51it/s, train_loss=314.0]"
     ]
    },
    {
     "name": "stderr",
     "output_type": "stream",
     "text": [
      "GPU available: False, used: False\n",
      "TPU available: False, using: 0 TPU cores\n",
      "IPU available: False, using: 0 IPUs\n",
      "HPU available: False, using: 0 HPUs\n"
     ]
    },
    {
     "name": "stdout",
     "output_type": "stream",
     "text": [
      "\n",
      "Predicting DataLoader 0: 100%|██████████| 1/1 [00:00<00:00, 66.59it/s]"
     ]
    },
    {
     "name": "stderr",
     "output_type": "stream",
     "text": [
      " 35%|███▌      | 35/100 [39:26<1:13:49, 68.15s/it]GPU available: False, used: False\n",
      "TPU available: False, using: 0 TPU cores\n",
      "IPU available: False, using: 0 IPUs\n",
      "HPU available: False, using: 0 HPUs\n",
      "\n",
      "  | Name            | Type             | Params\n",
      "-----------------------------------------------------\n",
      "0 | criterion       | MSELoss          | 0     \n",
      "1 | train_metrics   | MetricCollection | 0     \n",
      "2 | val_metrics     | MetricCollection | 0     \n",
      "3 | decomposition   | _SeriesDecomp    | 0     \n",
      "4 | linear_seasonal | Linear           | 3.6 K \n",
      "5 | linear_trend    | Linear           | 3.6 K \n",
      "-----------------------------------------------------\n",
      "7.2 K     Trainable params\n",
      "0         Non-trainable params\n",
      "7.2 K     Total params\n",
      "0.029     Total estimated model params size (MB)\n"
     ]
    },
    {
     "name": "stdout",
     "output_type": "stream",
     "text": [
      "\n",
      "Epoch 99: 100%|██████████| 11/11 [00:00<00:00, 14.70it/s, train_loss=299.0] "
     ]
    },
    {
     "name": "stderr",
     "output_type": "stream",
     "text": [
      "`Trainer.fit` stopped: `max_epochs=100` reached.\n"
     ]
    },
    {
     "name": "stdout",
     "output_type": "stream",
     "text": [
      "Epoch 99: 100%|██████████| 11/11 [00:00<00:00, 14.65it/s, train_loss=299.0]\n"
     ]
    },
    {
     "name": "stderr",
     "output_type": "stream",
     "text": [
      "GPU available: False, used: False\n",
      "TPU available: False, using: 0 TPU cores\n",
      "IPU available: False, using: 0 IPUs\n",
      "HPU available: False, using: 0 HPUs\n"
     ]
    },
    {
     "name": "stdout",
     "output_type": "stream",
     "text": [
      "Predicting DataLoader 0: 100%|██████████| 1/1 [00:00<00:00, 227.04it/s]"
     ]
    },
    {
     "name": "stderr",
     "output_type": "stream",
     "text": [
      " 36%|███▌      | 36/100 [40:34<1:12:30, 67.98s/it]GPU available: False, used: False\n"
     ]
    },
    {
     "name": "stdout",
     "output_type": "stream",
     "text": [
      "\n"
     ]
    },
    {
     "name": "stderr",
     "output_type": "stream",
     "text": [
      "TPU available: False, using: 0 TPU cores\n",
      "IPU available: False, using: 0 IPUs\n",
      "HPU available: False, using: 0 HPUs\n",
      "\n",
      "  | Name            | Type             | Params\n",
      "-----------------------------------------------------\n",
      "0 | criterion       | MSELoss          | 0     \n",
      "1 | train_metrics   | MetricCollection | 0     \n",
      "2 | val_metrics     | MetricCollection | 0     \n",
      "3 | decomposition   | _SeriesDecomp    | 0     \n",
      "4 | linear_seasonal | Linear           | 3.6 K \n",
      "5 | linear_trend    | Linear           | 3.6 K \n",
      "-----------------------------------------------------\n",
      "7.2 K     Trainable params\n",
      "0         Non-trainable params\n",
      "7.2 K     Total params\n",
      "0.029     Total estimated model params size (MB)\n"
     ]
    },
    {
     "name": "stdout",
     "output_type": "stream",
     "text": [
      "Epoch 99: 100%|██████████| 11/11 [00:00<00:00, 18.98it/s, train_loss=256.0]  "
     ]
    },
    {
     "name": "stderr",
     "output_type": "stream",
     "text": [
      "`Trainer.fit` stopped: `max_epochs=100` reached.\n"
     ]
    },
    {
     "name": "stdout",
     "output_type": "stream",
     "text": [
      "Epoch 99: 100%|██████████| 11/11 [00:00<00:00, 18.98it/s, train_loss=256.0]"
     ]
    },
    {
     "name": "stderr",
     "output_type": "stream",
     "text": [
      "GPU available: False, used: False\n",
      "TPU available: False, using: 0 TPU cores\n",
      "IPU available: False, using: 0 IPUs\n",
      "HPU available: False, using: 0 HPUs\n"
     ]
    },
    {
     "name": "stdout",
     "output_type": "stream",
     "text": [
      "\n",
      "Predicting DataLoader 0: 100%|██████████| 1/1 [00:00<00:00, 50.03it/s]"
     ]
    },
    {
     "name": "stderr",
     "output_type": "stream",
     "text": [
      " 37%|███▋      | 37/100 [41:50<1:13:47, 70.28s/it]GPU available: False, used: False\n",
      "TPU available: False, using: 0 TPU cores\n",
      "IPU available: False, using: 0 IPUs\n",
      "HPU available: False, using: 0 HPUs\n",
      "\n",
      "  | Name            | Type             | Params\n",
      "-----------------------------------------------------\n",
      "0 | criterion       | MSELoss          | 0     \n",
      "1 | train_metrics   | MetricCollection | 0     \n",
      "2 | val_metrics     | MetricCollection | 0     \n",
      "3 | decomposition   | _SeriesDecomp    | 0     \n",
      "4 | linear_seasonal | Linear           | 3.6 K \n",
      "5 | linear_trend    | Linear           | 3.6 K \n",
      "-----------------------------------------------------\n",
      "7.2 K     Trainable params\n",
      "0         Non-trainable params\n",
      "7.2 K     Total params\n",
      "0.029     Total estimated model params size (MB)\n"
     ]
    },
    {
     "name": "stdout",
     "output_type": "stream",
     "text": [
      "\n",
      "Epoch 99: 100%|██████████| 11/11 [00:00<00:00, 15.41it/s, train_loss=293.0] "
     ]
    },
    {
     "name": "stderr",
     "output_type": "stream",
     "text": [
      "`Trainer.fit` stopped: `max_epochs=100` reached.\n"
     ]
    },
    {
     "name": "stdout",
     "output_type": "stream",
     "text": [
      "Epoch 99: 100%|██████████| 11/11 [00:00<00:00, 15.35it/s, train_loss=293.0]"
     ]
    },
    {
     "name": "stderr",
     "output_type": "stream",
     "text": [
      "GPU available: False, used: False\n"
     ]
    },
    {
     "name": "stdout",
     "output_type": "stream",
     "text": [
      "\n"
     ]
    },
    {
     "name": "stderr",
     "output_type": "stream",
     "text": [
      "TPU available: False, using: 0 TPU cores\n",
      "IPU available: False, using: 0 IPUs\n",
      "HPU available: False, using: 0 HPUs\n"
     ]
    },
    {
     "name": "stdout",
     "output_type": "stream",
     "text": [
      "Predicting DataLoader 0: 100%|██████████| 1/1 [00:00<00:00, 125.01it/s]"
     ]
    },
    {
     "name": "stderr",
     "output_type": "stream",
     "text": [
      " 38%|███▊      | 38/100 [42:52<1:10:03, 67.79s/it]GPU available: False, used: False\n"
     ]
    },
    {
     "name": "stdout",
     "output_type": "stream",
     "text": [
      "\n"
     ]
    },
    {
     "name": "stderr",
     "output_type": "stream",
     "text": [
      "TPU available: False, using: 0 TPU cores\n",
      "IPU available: False, using: 0 IPUs\n",
      "HPU available: False, using: 0 HPUs\n",
      "\n",
      "  | Name            | Type             | Params\n",
      "-----------------------------------------------------\n",
      "0 | criterion       | MSELoss          | 0     \n",
      "1 | train_metrics   | MetricCollection | 0     \n",
      "2 | val_metrics     | MetricCollection | 0     \n",
      "3 | decomposition   | _SeriesDecomp    | 0     \n",
      "4 | linear_seasonal | Linear           | 3.6 K \n",
      "5 | linear_trend    | Linear           | 3.6 K \n",
      "-----------------------------------------------------\n",
      "7.2 K     Trainable params\n",
      "0         Non-trainable params\n",
      "7.2 K     Total params\n",
      "0.029     Total estimated model params size (MB)\n"
     ]
    },
    {
     "name": "stdout",
     "output_type": "stream",
     "text": [
      "Epoch 99: 100%|██████████| 11/11 [00:00<00:00, 13.85it/s, train_loss=245.0] "
     ]
    },
    {
     "name": "stderr",
     "output_type": "stream",
     "text": [
      "`Trainer.fit` stopped: `max_epochs=100` reached.\n"
     ]
    },
    {
     "name": "stdout",
     "output_type": "stream",
     "text": [
      "Epoch 99: 100%|██████████| 11/11 [00:00<00:00, 13.23it/s, train_loss=245.0]"
     ]
    },
    {
     "name": "stderr",
     "output_type": "stream",
     "text": [
      "GPU available: False, used: False\n"
     ]
    },
    {
     "name": "stdout",
     "output_type": "stream",
     "text": [
      "\n"
     ]
    },
    {
     "name": "stderr",
     "output_type": "stream",
     "text": [
      "TPU available: False, using: 0 TPU cores\n",
      "IPU available: False, using: 0 IPUs\n",
      "HPU available: False, using: 0 HPUs\n"
     ]
    },
    {
     "name": "stdout",
     "output_type": "stream",
     "text": [
      "Predicting DataLoader 0: 100%|██████████| 1/1 [00:00<00:00, 121.10it/s]"
     ]
    },
    {
     "name": "stderr",
     "output_type": "stream",
     "text": [
      " 39%|███▉      | 39/100 [44:09<1:11:51, 70.68s/it]GPU available: False, used: False\n",
      "TPU available: False, using: 0 TPU cores\n",
      "IPU available: False, using: 0 IPUs\n",
      "HPU available: False, using: 0 HPUs\n",
      "\n",
      "  | Name            | Type             | Params\n",
      "-----------------------------------------------------\n",
      "0 | criterion       | MSELoss          | 0     \n",
      "1 | train_metrics   | MetricCollection | 0     \n",
      "2 | val_metrics     | MetricCollection | 0     \n",
      "3 | decomposition   | _SeriesDecomp    | 0     \n",
      "4 | linear_seasonal | Linear           | 3.6 K \n",
      "5 | linear_trend    | Linear           | 3.6 K \n",
      "-----------------------------------------------------\n",
      "7.2 K     Trainable params\n",
      "0         Non-trainable params\n",
      "7.2 K     Total params\n",
      "0.029     Total estimated model params size (MB)\n"
     ]
    },
    {
     "name": "stdout",
     "output_type": "stream",
     "text": [
      "\n",
      "Epoch 99: 100%|██████████| 11/11 [00:00<00:00, 17.82it/s, train_loss=382.0] "
     ]
    },
    {
     "name": "stderr",
     "output_type": "stream",
     "text": [
      "`Trainer.fit` stopped: `max_epochs=100` reached.\n"
     ]
    },
    {
     "name": "stdout",
     "output_type": "stream",
     "text": [
      "Epoch 99: 100%|██████████| 11/11 [00:00<00:00, 17.51it/s, train_loss=382.0]"
     ]
    },
    {
     "name": "stderr",
     "output_type": "stream",
     "text": [
      "GPU available: False, used: False\n",
      "TPU available: False, using: 0 TPU cores\n",
      "IPU available: False, using: 0 IPUs\n",
      "HPU available: False, using: 0 HPUs\n"
     ]
    },
    {
     "name": "stdout",
     "output_type": "stream",
     "text": [
      "\n",
      "Predicting DataLoader 0: 100%|██████████| 1/1 [00:00<00:00, 49.95it/s]"
     ]
    },
    {
     "name": "stderr",
     "output_type": "stream",
     "text": [
      " 40%|████      | 40/100 [45:13<1:08:47, 68.79s/it]GPU available: False, used: False\n",
      "TPU available: False, using: 0 TPU cores\n",
      "IPU available: False, using: 0 IPUs\n",
      "HPU available: False, using: 0 HPUs\n",
      "\n",
      "  | Name            | Type             | Params\n",
      "-----------------------------------------------------\n",
      "0 | criterion       | MSELoss          | 0     \n",
      "1 | train_metrics   | MetricCollection | 0     \n",
      "2 | val_metrics     | MetricCollection | 0     \n",
      "3 | decomposition   | _SeriesDecomp    | 0     \n",
      "4 | linear_seasonal | Linear           | 3.6 K \n",
      "5 | linear_trend    | Linear           | 3.6 K \n",
      "-----------------------------------------------------\n",
      "7.2 K     Trainable params\n",
      "0         Non-trainable params\n",
      "7.2 K     Total params\n",
      "0.029     Total estimated model params size (MB)\n"
     ]
    },
    {
     "name": "stdout",
     "output_type": "stream",
     "text": [
      "\n",
      "Epoch 99: 100%|██████████| 11/11 [00:00<00:00, 14.29it/s, train_loss=327.0] "
     ]
    },
    {
     "name": "stderr",
     "output_type": "stream",
     "text": [
      "`Trainer.fit` stopped: `max_epochs=100` reached.\n"
     ]
    },
    {
     "name": "stdout",
     "output_type": "stream",
     "text": [
      "Epoch 99: 100%|██████████| 11/11 [00:00<00:00, 14.24it/s, train_loss=327.0]"
     ]
    },
    {
     "name": "stderr",
     "output_type": "stream",
     "text": [
      "GPU available: False, used: False\n",
      "TPU available: False, using: 0 TPU cores\n",
      "IPU available: False, using: 0 IPUs\n",
      "HPU available: False, using: 0 HPUs\n"
     ]
    },
    {
     "name": "stdout",
     "output_type": "stream",
     "text": [
      "\n",
      "Predicting DataLoader 0: 100%|██████████| 1/1 [00:00<00:00, 142.83it/s]"
     ]
    },
    {
     "name": "stderr",
     "output_type": "stream",
     "text": [
      " 41%|████      | 41/100 [46:20<1:07:03, 68.19s/it]GPU available: False, used: False\n"
     ]
    },
    {
     "name": "stdout",
     "output_type": "stream",
     "text": [
      "\n"
     ]
    },
    {
     "name": "stderr",
     "output_type": "stream",
     "text": [
      "TPU available: False, using: 0 TPU cores\n",
      "IPU available: False, using: 0 IPUs\n",
      "HPU available: False, using: 0 HPUs\n",
      "\n",
      "  | Name            | Type             | Params\n",
      "-----------------------------------------------------\n",
      "0 | criterion       | MSELoss          | 0     \n",
      "1 | train_metrics   | MetricCollection | 0     \n",
      "2 | val_metrics     | MetricCollection | 0     \n",
      "3 | decomposition   | _SeriesDecomp    | 0     \n",
      "4 | linear_seasonal | Linear           | 3.6 K \n",
      "5 | linear_trend    | Linear           | 3.6 K \n",
      "-----------------------------------------------------\n",
      "7.2 K     Trainable params\n",
      "0         Non-trainable params\n",
      "7.2 K     Total params\n",
      "0.029     Total estimated model params size (MB)\n"
     ]
    },
    {
     "name": "stdout",
     "output_type": "stream",
     "text": [
      "Epoch 99: 100%|██████████| 11/11 [00:00<00:00, 18.21it/s, train_loss=345.0] "
     ]
    },
    {
     "name": "stderr",
     "output_type": "stream",
     "text": [
      "`Trainer.fit` stopped: `max_epochs=100` reached.\n"
     ]
    },
    {
     "name": "stdout",
     "output_type": "stream",
     "text": [
      "Epoch 99: 100%|██████████| 11/11 [00:00<00:00, 18.21it/s, train_loss=345.0]"
     ]
    },
    {
     "name": "stderr",
     "output_type": "stream",
     "text": [
      "GPU available: False, used: False\n",
      "TPU available: False, using: 0 TPU cores\n",
      "IPU available: False, using: 0 IPUs\n",
      "HPU available: False, using: 0 HPUs\n"
     ]
    },
    {
     "name": "stdout",
     "output_type": "stream",
     "text": [
      "\n",
      "Predicting DataLoader 0: 100%|██████████| 1/1 [00:00<00:00, 71.43it/s]"
     ]
    },
    {
     "name": "stderr",
     "output_type": "stream",
     "text": [
      " 42%|████▏     | 42/100 [47:38<1:08:35, 70.96s/it]GPU available: False, used: False\n"
     ]
    },
    {
     "name": "stdout",
     "output_type": "stream",
     "text": [
      "\n"
     ]
    },
    {
     "name": "stderr",
     "output_type": "stream",
     "text": [
      "TPU available: False, using: 0 TPU cores\n",
      "IPU available: False, using: 0 IPUs\n",
      "HPU available: False, using: 0 HPUs\n",
      "\n",
      "  | Name            | Type             | Params\n",
      "-----------------------------------------------------\n",
      "0 | criterion       | MSELoss          | 0     \n",
      "1 | train_metrics   | MetricCollection | 0     \n",
      "2 | val_metrics     | MetricCollection | 0     \n",
      "3 | decomposition   | _SeriesDecomp    | 0     \n",
      "4 | linear_seasonal | Linear           | 3.6 K \n",
      "5 | linear_trend    | Linear           | 3.6 K \n",
      "-----------------------------------------------------\n",
      "7.2 K     Trainable params\n",
      "0         Non-trainable params\n",
      "7.2 K     Total params\n",
      "0.029     Total estimated model params size (MB)\n"
     ]
    },
    {
     "name": "stdout",
     "output_type": "stream",
     "text": [
      "Epoch 99: 100%|██████████| 11/11 [00:00<00:00, 16.35it/s, train_loss=399.0]  "
     ]
    },
    {
     "name": "stderr",
     "output_type": "stream",
     "text": [
      "`Trainer.fit` stopped: `max_epochs=100` reached.\n"
     ]
    },
    {
     "name": "stdout",
     "output_type": "stream",
     "text": [
      "Epoch 99: 100%|██████████| 11/11 [00:00<00:00, 16.30it/s, train_loss=399.0]"
     ]
    },
    {
     "name": "stderr",
     "output_type": "stream",
     "text": [
      "GPU available: False, used: False\n"
     ]
    },
    {
     "name": "stdout",
     "output_type": "stream",
     "text": [
      "\n"
     ]
    },
    {
     "name": "stderr",
     "output_type": "stream",
     "text": [
      "TPU available: False, using: 0 TPU cores\n",
      "IPU available: False, using: 0 IPUs\n",
      "HPU available: False, using: 0 HPUs\n"
     ]
    },
    {
     "name": "stdout",
     "output_type": "stream",
     "text": [
      "Predicting DataLoader 0: 100%|██████████| 1/1 [00:00<00:00, 136.83it/s]"
     ]
    },
    {
     "name": "stderr",
     "output_type": "stream",
     "text": [
      " 43%|████▎     | 43/100 [48:40<1:04:55, 68.34s/it]GPU available: False, used: False\n"
     ]
    },
    {
     "name": "stdout",
     "output_type": "stream",
     "text": [
      "\n"
     ]
    },
    {
     "name": "stderr",
     "output_type": "stream",
     "text": [
      "TPU available: False, using: 0 TPU cores\n",
      "IPU available: False, using: 0 IPUs\n",
      "HPU available: False, using: 0 HPUs\n",
      "\n",
      "  | Name            | Type             | Params\n",
      "-----------------------------------------------------\n",
      "0 | criterion       | MSELoss          | 0     \n",
      "1 | train_metrics   | MetricCollection | 0     \n",
      "2 | val_metrics     | MetricCollection | 0     \n",
      "3 | decomposition   | _SeriesDecomp    | 0     \n",
      "4 | linear_seasonal | Linear           | 3.6 K \n",
      "5 | linear_trend    | Linear           | 3.6 K \n",
      "-----------------------------------------------------\n",
      "7.2 K     Trainable params\n",
      "0         Non-trainable params\n",
      "7.2 K     Total params\n",
      "0.029     Total estimated model params size (MB)\n"
     ]
    },
    {
     "name": "stdout",
     "output_type": "stream",
     "text": [
      "Epoch 99: 100%|██████████| 11/11 [00:00<00:00, 14.19it/s, train_loss=401.0]  "
     ]
    },
    {
     "name": "stderr",
     "output_type": "stream",
     "text": [
      "`Trainer.fit` stopped: `max_epochs=100` reached.\n"
     ]
    },
    {
     "name": "stdout",
     "output_type": "stream",
     "text": [
      "Epoch 99: 100%|██████████| 11/11 [00:00<00:00, 14.19it/s, train_loss=401.0]"
     ]
    },
    {
     "name": "stderr",
     "output_type": "stream",
     "text": [
      "GPU available: False, used: False\n",
      "TPU available: False, using: 0 TPU cores\n",
      "IPU available: False, using: 0 IPUs\n",
      "HPU available: False, using: 0 HPUs\n"
     ]
    },
    {
     "name": "stdout",
     "output_type": "stream",
     "text": [
      "\n",
      "Predicting DataLoader 0: 100%|██████████| 1/1 [00:00<00:00, 126.99it/s]"
     ]
    },
    {
     "name": "stderr",
     "output_type": "stream",
     "text": [
      " 44%|████▍     | 44/100 [49:56<1:06:06, 70.83s/it]"
     ]
    },
    {
     "name": "stdout",
     "output_type": "stream",
     "text": [
      "\n"
     ]
    },
    {
     "name": "stderr",
     "output_type": "stream",
     "text": [
      "GPU available: False, used: False\n",
      "TPU available: False, using: 0 TPU cores\n",
      "IPU available: False, using: 0 IPUs\n",
      "HPU available: False, using: 0 HPUs\n",
      "\n",
      "  | Name            | Type             | Params\n",
      "-----------------------------------------------------\n",
      "0 | criterion       | MSELoss          | 0     \n",
      "1 | train_metrics   | MetricCollection | 0     \n",
      "2 | val_metrics     | MetricCollection | 0     \n",
      "3 | decomposition   | _SeriesDecomp    | 0     \n",
      "4 | linear_seasonal | Linear           | 3.6 K \n",
      "5 | linear_trend    | Linear           | 3.6 K \n",
      "-----------------------------------------------------\n",
      "7.2 K     Trainable params\n",
      "0         Non-trainable params\n",
      "7.2 K     Total params\n",
      "0.029     Total estimated model params size (MB)\n"
     ]
    },
    {
     "name": "stdout",
     "output_type": "stream",
     "text": [
      "Epoch 99: 100%|██████████| 11/11 [00:00<00:00, 17.15it/s, train_loss=459.0] "
     ]
    },
    {
     "name": "stderr",
     "output_type": "stream",
     "text": [
      "`Trainer.fit` stopped: `max_epochs=100` reached.\n"
     ]
    },
    {
     "name": "stdout",
     "output_type": "stream",
     "text": [
      "Epoch 99: 100%|██████████| 11/11 [00:00<00:00, 17.09it/s, train_loss=459.0]"
     ]
    },
    {
     "name": "stderr",
     "output_type": "stream",
     "text": [
      "GPU available: False, used: False\n",
      "TPU available: False, using: 0 TPU cores\n",
      "IPU available: False, using: 0 IPUs\n",
      "HPU available: False, using: 0 HPUs\n"
     ]
    },
    {
     "name": "stdout",
     "output_type": "stream",
     "text": [
      "\n",
      "Predicting DataLoader 0: 100%|██████████| 1/1 [00:00<00:00, 166.71it/s]"
     ]
    },
    {
     "name": "stderr",
     "output_type": "stream",
     "text": [
      " 45%|████▌     | 45/100 [51:01<1:03:11, 68.94s/it]GPU available: False, used: False\n",
      "TPU available: False, using: 0 TPU cores\n"
     ]
    },
    {
     "name": "stdout",
     "output_type": "stream",
     "text": [
      "\n"
     ]
    },
    {
     "name": "stderr",
     "output_type": "stream",
     "text": [
      "IPU available: False, using: 0 IPUs\n",
      "HPU available: False, using: 0 HPUs\n",
      "\n",
      "  | Name            | Type             | Params\n",
      "-----------------------------------------------------\n",
      "0 | criterion       | MSELoss          | 0     \n",
      "1 | train_metrics   | MetricCollection | 0     \n",
      "2 | val_metrics     | MetricCollection | 0     \n",
      "3 | decomposition   | _SeriesDecomp    | 0     \n",
      "4 | linear_seasonal | Linear           | 3.6 K \n",
      "5 | linear_trend    | Linear           | 3.6 K \n",
      "-----------------------------------------------------\n",
      "7.2 K     Trainable params\n",
      "0         Non-trainable params\n",
      "7.2 K     Total params\n",
      "0.029     Total estimated model params size (MB)\n"
     ]
    },
    {
     "name": "stdout",
     "output_type": "stream",
     "text": [
      "Epoch 99: 100%|██████████| 11/11 [00:00<00:00, 14.49it/s, train_loss=354.0]  "
     ]
    },
    {
     "name": "stderr",
     "output_type": "stream",
     "text": [
      "`Trainer.fit` stopped: `max_epochs=100` reached.\n"
     ]
    },
    {
     "name": "stdout",
     "output_type": "stream",
     "text": [
      "Epoch 99: 100%|██████████| 11/11 [00:00<00:00, 14.49it/s, train_loss=354.0]"
     ]
    },
    {
     "name": "stderr",
     "output_type": "stream",
     "text": [
      "GPU available: False, used: False\n",
      "TPU available: False, using: 0 TPU cores\n",
      "IPU available: False, using: 0 IPUs\n",
      "HPU available: False, using: 0 HPUs\n"
     ]
    },
    {
     "name": "stdout",
     "output_type": "stream",
     "text": [
      "\n",
      "Predicting DataLoader 0: 100%|██████████| 1/1 [00:00<00:00, 132.27it/s]"
     ]
    },
    {
     "name": "stderr",
     "output_type": "stream",
     "text": [
      " 46%|████▌     | 46/100 [52:10<1:02:04, 68.97s/it]"
     ]
    },
    {
     "name": "stdout",
     "output_type": "stream",
     "text": [
      "\n"
     ]
    },
    {
     "name": "stderr",
     "output_type": "stream",
     "text": [
      "GPU available: False, used: False\n",
      "TPU available: False, using: 0 TPU cores\n",
      "IPU available: False, using: 0 IPUs\n",
      "HPU available: False, using: 0 HPUs\n",
      "\n",
      "  | Name            | Type             | Params\n",
      "-----------------------------------------------------\n",
      "0 | criterion       | MSELoss          | 0     \n",
      "1 | train_metrics   | MetricCollection | 0     \n",
      "2 | val_metrics     | MetricCollection | 0     \n",
      "3 | decomposition   | _SeriesDecomp    | 0     \n",
      "4 | linear_seasonal | Linear           | 3.6 K \n",
      "5 | linear_trend    | Linear           | 3.6 K \n",
      "-----------------------------------------------------\n",
      "7.2 K     Trainable params\n",
      "0         Non-trainable params\n",
      "7.2 K     Total params\n",
      "0.029     Total estimated model params size (MB)\n"
     ]
    },
    {
     "name": "stdout",
     "output_type": "stream",
     "text": [
      "Epoch 99: 100%|██████████| 11/11 [00:00<00:00, 18.26it/s, train_loss=266.0]  "
     ]
    },
    {
     "name": "stderr",
     "output_type": "stream",
     "text": [
      "`Trainer.fit` stopped: `max_epochs=100` reached.\n"
     ]
    },
    {
     "name": "stdout",
     "output_type": "stream",
     "text": [
      "Epoch 99: 100%|██████████| 11/11 [00:00<00:00, 18.26it/s, train_loss=266.0]"
     ]
    },
    {
     "name": "stderr",
     "output_type": "stream",
     "text": [
      "GPU available: False, used: False\n",
      "TPU available: False, using: 0 TPU cores\n",
      "IPU available: False, using: 0 IPUs\n",
      "HPU available: False, using: 0 HPUs\n"
     ]
    },
    {
     "name": "stdout",
     "output_type": "stream",
     "text": [
      "\n",
      "Predicting DataLoader 0: 100%|██████████| 1/1 [00:00<00:00, 143.25it/s]"
     ]
    },
    {
     "name": "stderr",
     "output_type": "stream",
     "text": [
      " 47%|████▋     | 47/100 [53:24<1:02:21, 70.59s/it]GPU available: False, used: False\n",
      "TPU available: False, using: 0 TPU cores\n",
      "IPU available: False, using: 0 IPUs\n",
      "HPU available: False, using: 0 HPUs\n",
      "\n",
      "  | Name            | Type             | Params\n",
      "-----------------------------------------------------\n",
      "0 | criterion       | MSELoss          | 0     \n",
      "1 | train_metrics   | MetricCollection | 0     \n",
      "2 | val_metrics     | MetricCollection | 0     \n",
      "3 | decomposition   | _SeriesDecomp    | 0     \n",
      "4 | linear_seasonal | Linear           | 3.6 K \n",
      "5 | linear_trend    | Linear           | 3.6 K \n",
      "-----------------------------------------------------\n",
      "7.2 K     Trainable params\n",
      "0         Non-trainable params\n",
      "7.2 K     Total params\n",
      "0.029     Total estimated model params size (MB)\n"
     ]
    },
    {
     "name": "stdout",
     "output_type": "stream",
     "text": [
      "\n",
      "Epoch 99: 100%|██████████| 11/11 [00:00<00:00, 15.67it/s, train_loss=341.0]  "
     ]
    },
    {
     "name": "stderr",
     "output_type": "stream",
     "text": [
      "`Trainer.fit` stopped: `max_epochs=100` reached.\n"
     ]
    },
    {
     "name": "stdout",
     "output_type": "stream",
     "text": [
      "Epoch 99: 100%|██████████| 11/11 [00:00<00:00, 15.67it/s, train_loss=341.0]"
     ]
    },
    {
     "name": "stderr",
     "output_type": "stream",
     "text": [
      "GPU available: False, used: False\n"
     ]
    },
    {
     "name": "stdout",
     "output_type": "stream",
     "text": [
      "\n"
     ]
    },
    {
     "name": "stderr",
     "output_type": "stream",
     "text": [
      "TPU available: False, using: 0 TPU cores\n",
      "IPU available: False, using: 0 IPUs\n",
      "HPU available: False, using: 0 HPUs\n"
     ]
    },
    {
     "name": "stdout",
     "output_type": "stream",
     "text": [
      "Predicting DataLoader 0: 100%|██████████| 1/1 [00:00<00:00, 126.88it/s]"
     ]
    },
    {
     "name": "stderr",
     "output_type": "stream",
     "text": [
      " 48%|████▊     | 48/100 [54:28<59:27, 68.60s/it]  "
     ]
    },
    {
     "name": "stdout",
     "output_type": "stream",
     "text": [
      "\n"
     ]
    },
    {
     "name": "stderr",
     "output_type": "stream",
     "text": [
      "GPU available: False, used: False\n",
      "TPU available: False, using: 0 TPU cores\n",
      "IPU available: False, using: 0 IPUs\n",
      "HPU available: False, using: 0 HPUs\n",
      "\n",
      "  | Name            | Type             | Params\n",
      "-----------------------------------------------------\n",
      "0 | criterion       | MSELoss          | 0     \n",
      "1 | train_metrics   | MetricCollection | 0     \n",
      "2 | val_metrics     | MetricCollection | 0     \n",
      "3 | decomposition   | _SeriesDecomp    | 0     \n",
      "4 | linear_seasonal | Linear           | 3.6 K \n",
      "5 | linear_trend    | Linear           | 3.6 K \n",
      "-----------------------------------------------------\n",
      "7.2 K     Trainable params\n",
      "0         Non-trainable params\n",
      "7.2 K     Total params\n",
      "0.029     Total estimated model params size (MB)\n"
     ]
    },
    {
     "name": "stdout",
     "output_type": "stream",
     "text": [
      "Epoch 99: 100%|██████████| 11/11 [00:00<00:00, 15.42it/s, train_loss=297.0]  "
     ]
    },
    {
     "name": "stderr",
     "output_type": "stream",
     "text": [
      "`Trainer.fit` stopped: `max_epochs=100` reached.\n"
     ]
    },
    {
     "name": "stdout",
     "output_type": "stream",
     "text": [
      "Epoch 99: 100%|██████████| 11/11 [00:00<00:00, 15.34it/s, train_loss=297.0]"
     ]
    },
    {
     "name": "stderr",
     "output_type": "stream",
     "text": [
      "GPU available: False, used: False\n",
      "TPU available: False, using: 0 TPU cores\n",
      "IPU available: False, using: 0 IPUs\n",
      "HPU available: False, using: 0 HPUs\n"
     ]
    },
    {
     "name": "stdout",
     "output_type": "stream",
     "text": [
      "\n",
      "Predicting DataLoader 0: 100%|██████████| 1/1 [00:00<00:00, 99.98it/s] "
     ]
    },
    {
     "name": "stderr",
     "output_type": "stream",
     "text": [
      " 49%|████▉     | 49/100 [55:47<1:00:48, 71.53s/it]GPU available: False, used: False\n"
     ]
    },
    {
     "name": "stdout",
     "output_type": "stream",
     "text": [
      "\n"
     ]
    },
    {
     "name": "stderr",
     "output_type": "stream",
     "text": [
      "TPU available: False, using: 0 TPU cores\n",
      "IPU available: False, using: 0 IPUs\n",
      "HPU available: False, using: 0 HPUs\n",
      "\n",
      "  | Name            | Type             | Params\n",
      "-----------------------------------------------------\n",
      "0 | criterion       | MSELoss          | 0     \n",
      "1 | train_metrics   | MetricCollection | 0     \n",
      "2 | val_metrics     | MetricCollection | 0     \n",
      "3 | decomposition   | _SeriesDecomp    | 0     \n",
      "4 | linear_seasonal | Linear           | 3.6 K \n",
      "5 | linear_trend    | Linear           | 3.6 K \n",
      "-----------------------------------------------------\n",
      "7.2 K     Trainable params\n",
      "0         Non-trainable params\n",
      "7.2 K     Total params\n",
      "0.029     Total estimated model params size (MB)\n"
     ]
    },
    {
     "name": "stdout",
     "output_type": "stream",
     "text": [
      "Epoch 99: 100%|██████████| 11/11 [00:00<00:00, 17.52it/s, train_loss=402.0]  "
     ]
    },
    {
     "name": "stderr",
     "output_type": "stream",
     "text": [
      "`Trainer.fit` stopped: `max_epochs=100` reached.\n"
     ]
    },
    {
     "name": "stdout",
     "output_type": "stream",
     "text": [
      "Epoch 99: 100%|██████████| 11/11 [00:00<00:00, 17.52it/s, train_loss=402.0]"
     ]
    },
    {
     "name": "stderr",
     "output_type": "stream",
     "text": [
      "GPU available: False, used: False\n"
     ]
    },
    {
     "name": "stdout",
     "output_type": "stream",
     "text": [
      "\n"
     ]
    },
    {
     "name": "stderr",
     "output_type": "stream",
     "text": [
      "TPU available: False, using: 0 TPU cores\n",
      "IPU available: False, using: 0 IPUs\n",
      "HPU available: False, using: 0 HPUs\n"
     ]
    },
    {
     "name": "stdout",
     "output_type": "stream",
     "text": [
      "Predicting DataLoader 0: 100%|██████████| 1/1 [00:00<00:00, 129.65it/s]"
     ]
    },
    {
     "name": "stderr",
     "output_type": "stream",
     "text": [
      " 50%|█████     | 50/100 [56:49<57:22, 68.86s/it]  GPU available: False, used: False\n",
      "TPU available: False, using: 0 TPU cores\n",
      "IPU available: False, using: 0 IPUs\n",
      "HPU available: False, using: 0 HPUs\n",
      "\n",
      "  | Name            | Type             | Params\n",
      "-----------------------------------------------------\n",
      "0 | criterion       | MSELoss          | 0     \n",
      "1 | train_metrics   | MetricCollection | 0     \n",
      "2 | val_metrics     | MetricCollection | 0     \n",
      "3 | decomposition   | _SeriesDecomp    | 0     \n",
      "4 | linear_seasonal | Linear           | 3.6 K \n",
      "5 | linear_trend    | Linear           | 3.6 K \n",
      "-----------------------------------------------------\n",
      "7.2 K     Trainable params\n",
      "0         Non-trainable params\n",
      "7.2 K     Total params\n",
      "0.029     Total estimated model params size (MB)\n"
     ]
    },
    {
     "name": "stdout",
     "output_type": "stream",
     "text": [
      "\n",
      "Epoch 99: 100%|██████████| 11/11 [00:00<00:00, 12.44it/s, train_loss=338.0]  "
     ]
    },
    {
     "name": "stderr",
     "output_type": "stream",
     "text": [
      "`Trainer.fit` stopped: `max_epochs=100` reached.\n"
     ]
    },
    {
     "name": "stdout",
     "output_type": "stream",
     "text": [
      "Epoch 99: 100%|██████████| 11/11 [00:00<00:00, 12.40it/s, train_loss=338.0]"
     ]
    },
    {
     "name": "stderr",
     "output_type": "stream",
     "text": [
      "GPU available: False, used: False\n",
      "TPU available: False, using: 0 TPU cores\n",
      "IPU available: False, using: 0 IPUs\n"
     ]
    },
    {
     "name": "stdout",
     "output_type": "stream",
     "text": [
      "\n"
     ]
    },
    {
     "name": "stderr",
     "output_type": "stream",
     "text": [
      "HPU available: False, using: 0 HPUs\n"
     ]
    },
    {
     "name": "stdout",
     "output_type": "stream",
     "text": [
      "Predicting DataLoader 0: 100%|██████████| 1/1 [00:00<00:00, 122.48it/s]"
     ]
    },
    {
     "name": "stderr",
     "output_type": "stream",
     "text": [
      " 51%|█████     | 51/100 [58:02<57:13, 70.07s/it]GPU available: False, used: False\n",
      "TPU available: False, using: 0 TPU cores\n",
      "IPU available: False, using: 0 IPUs\n",
      "HPU available: False, using: 0 HPUs\n",
      "\n",
      "  | Name            | Type             | Params\n",
      "-----------------------------------------------------\n",
      "0 | criterion       | MSELoss          | 0     \n",
      "1 | train_metrics   | MetricCollection | 0     \n",
      "2 | val_metrics     | MetricCollection | 0     \n",
      "3 | decomposition   | _SeriesDecomp    | 0     \n",
      "4 | linear_seasonal | Linear           | 3.6 K \n",
      "5 | linear_trend    | Linear           | 3.6 K \n",
      "-----------------------------------------------------\n",
      "7.2 K     Trainable params\n",
      "0         Non-trainable params\n",
      "7.2 K     Total params\n",
      "0.029     Total estimated model params size (MB)\n"
     ]
    },
    {
     "name": "stdout",
     "output_type": "stream",
     "text": [
      "\n",
      "Epoch 99: 100%|██████████| 11/11 [00:00<00:00, 18.85it/s, train_loss=396.0]  "
     ]
    },
    {
     "name": "stderr",
     "output_type": "stream",
     "text": [
      "`Trainer.fit` stopped: `max_epochs=100` reached.\n"
     ]
    },
    {
     "name": "stdout",
     "output_type": "stream",
     "text": [
      "Epoch 99: 100%|██████████| 11/11 [00:00<00:00, 18.79it/s, train_loss=396.0]\n"
     ]
    },
    {
     "name": "stderr",
     "output_type": "stream",
     "text": [
      "GPU available: False, used: False\n",
      "TPU available: False, using: 0 TPU cores\n",
      "IPU available: False, using: 0 IPUs\n",
      "HPU available: False, using: 0 HPUs\n"
     ]
    },
    {
     "name": "stdout",
     "output_type": "stream",
     "text": [
      "Predicting DataLoader 0: 100%|██████████| 1/1 [00:00<00:00, 64.50it/s]"
     ]
    },
    {
     "name": "stderr",
     "output_type": "stream",
     "text": [
      " 52%|█████▏    | 52/100 [59:13<56:11, 70.23s/it]GPU available: False, used: False\n"
     ]
    },
    {
     "name": "stdout",
     "output_type": "stream",
     "text": [
      "\n"
     ]
    },
    {
     "name": "stderr",
     "output_type": "stream",
     "text": [
      "TPU available: False, using: 0 TPU cores\n",
      "IPU available: False, using: 0 IPUs\n",
      "HPU available: False, using: 0 HPUs\n",
      "\n",
      "  | Name            | Type             | Params\n",
      "-----------------------------------------------------\n",
      "0 | criterion       | MSELoss          | 0     \n",
      "1 | train_metrics   | MetricCollection | 0     \n",
      "2 | val_metrics     | MetricCollection | 0     \n",
      "3 | decomposition   | _SeriesDecomp    | 0     \n",
      "4 | linear_seasonal | Linear           | 3.6 K \n",
      "5 | linear_trend    | Linear           | 3.6 K \n",
      "-----------------------------------------------------\n",
      "7.2 K     Trainable params\n",
      "0         Non-trainable params\n",
      "7.2 K     Total params\n",
      "0.029     Total estimated model params size (MB)\n"
     ]
    },
    {
     "name": "stdout",
     "output_type": "stream",
     "text": [
      "Epoch 99: 100%|██████████| 11/11 [00:00<00:00, 14.91it/s, train_loss=352.0]  "
     ]
    },
    {
     "name": "stderr",
     "output_type": "stream",
     "text": [
      "`Trainer.fit` stopped: `max_epochs=100` reached.\n"
     ]
    },
    {
     "name": "stdout",
     "output_type": "stream",
     "text": [
      "Epoch 99: 100%|██████████| 11/11 [00:00<00:00, 14.86it/s, train_loss=352.0]"
     ]
    },
    {
     "name": "stderr",
     "output_type": "stream",
     "text": [
      "GPU available: False, used: False\n",
      "TPU available: False, using: 0 TPU cores\n",
      "IPU available: False, using: 0 IPUs\n",
      "HPU available: False, using: 0 HPUs\n"
     ]
    },
    {
     "name": "stdout",
     "output_type": "stream",
     "text": [
      "\n",
      "Predicting DataLoader 0: 100%|██████████| 1/1 [00:00<00:00, 126.51it/s]"
     ]
    },
    {
     "name": "stderr",
     "output_type": "stream",
     "text": [
      " 53%|█████▎    | 53/100 [1:00:19<54:00, 68.94s/it]GPU available: False, used: False\n"
     ]
    },
    {
     "name": "stdout",
     "output_type": "stream",
     "text": [
      "\n"
     ]
    },
    {
     "name": "stderr",
     "output_type": "stream",
     "text": [
      "TPU available: False, using: 0 TPU cores\n",
      "IPU available: False, using: 0 IPUs\n",
      "HPU available: False, using: 0 HPUs\n",
      "\n",
      "  | Name            | Type             | Params\n",
      "-----------------------------------------------------\n",
      "0 | criterion       | MSELoss          | 0     \n",
      "1 | train_metrics   | MetricCollection | 0     \n",
      "2 | val_metrics     | MetricCollection | 0     \n",
      "3 | decomposition   | _SeriesDecomp    | 0     \n",
      "4 | linear_seasonal | Linear           | 3.6 K \n",
      "5 | linear_trend    | Linear           | 3.6 K \n",
      "-----------------------------------------------------\n",
      "7.2 K     Trainable params\n",
      "0         Non-trainable params\n",
      "7.2 K     Total params\n",
      "0.029     Total estimated model params size (MB)\n"
     ]
    },
    {
     "name": "stdout",
     "output_type": "stream",
     "text": [
      "Epoch 99: 100%|██████████| 11/11 [00:00<00:00, 16.05it/s, train_loss=359.0]  "
     ]
    },
    {
     "name": "stderr",
     "output_type": "stream",
     "text": [
      "`Trainer.fit` stopped: `max_epochs=100` reached.\n"
     ]
    },
    {
     "name": "stdout",
     "output_type": "stream",
     "text": [
      "Epoch 99: 100%|██████████| 11/11 [00:00<00:00, 16.01it/s, train_loss=359.0]"
     ]
    },
    {
     "name": "stderr",
     "output_type": "stream",
     "text": [
      "GPU available: False, used: False\n"
     ]
    },
    {
     "name": "stdout",
     "output_type": "stream",
     "text": [
      "\n"
     ]
    },
    {
     "name": "stderr",
     "output_type": "stream",
     "text": [
      "TPU available: False, using: 0 TPU cores\n",
      "IPU available: False, using: 0 IPUs\n",
      "HPU available: False, using: 0 HPUs\n"
     ]
    },
    {
     "name": "stdout",
     "output_type": "stream",
     "text": [
      "Predicting DataLoader 0: 100%|██████████| 1/1 [00:00<00:00, 131.53it/s]"
     ]
    },
    {
     "name": "stderr",
     "output_type": "stream",
     "text": [
      " 54%|█████▍    | 54/100 [1:01:37<55:05, 71.87s/it]GPU available: False, used: False\n"
     ]
    },
    {
     "name": "stdout",
     "output_type": "stream",
     "text": [
      "\n"
     ]
    },
    {
     "name": "stderr",
     "output_type": "stream",
     "text": [
      "TPU available: False, using: 0 TPU cores\n",
      "IPU available: False, using: 0 IPUs\n",
      "HPU available: False, using: 0 HPUs\n",
      "\n",
      "  | Name            | Type             | Params\n",
      "-----------------------------------------------------\n",
      "0 | criterion       | MSELoss          | 0     \n",
      "1 | train_metrics   | MetricCollection | 0     \n",
      "2 | val_metrics     | MetricCollection | 0     \n",
      "3 | decomposition   | _SeriesDecomp    | 0     \n",
      "4 | linear_seasonal | Linear           | 3.6 K \n",
      "5 | linear_trend    | Linear           | 3.6 K \n",
      "-----------------------------------------------------\n",
      "7.2 K     Trainable params\n",
      "0         Non-trainable params\n",
      "7.2 K     Total params\n",
      "0.029     Total estimated model params size (MB)\n"
     ]
    },
    {
     "name": "stdout",
     "output_type": "stream",
     "text": [
      "Epoch 99: 100%|██████████| 11/11 [00:00<00:00, 17.06it/s, train_loss=275.0] "
     ]
    },
    {
     "name": "stderr",
     "output_type": "stream",
     "text": [
      "`Trainer.fit` stopped: `max_epochs=100` reached.\n"
     ]
    },
    {
     "name": "stdout",
     "output_type": "stream",
     "text": [
      "Epoch 99: 100%|██████████| 11/11 [00:00<00:00, 17.00it/s, train_loss=275.0]"
     ]
    },
    {
     "name": "stderr",
     "output_type": "stream",
     "text": [
      "GPU available: False, used: False\n"
     ]
    },
    {
     "name": "stdout",
     "output_type": "stream",
     "text": [
      "\n"
     ]
    },
    {
     "name": "stderr",
     "output_type": "stream",
     "text": [
      "TPU available: False, using: 0 TPU cores\n",
      "IPU available: False, using: 0 IPUs\n",
      "HPU available: False, using: 0 HPUs\n"
     ]
    },
    {
     "name": "stdout",
     "output_type": "stream",
     "text": [
      "Predicting DataLoader 0: 100%|██████████| 1/1 [00:00<00:00, 137.49it/s]"
     ]
    },
    {
     "name": "stderr",
     "output_type": "stream",
     "text": [
      " 55%|█████▌    | 55/100 [1:02:40<51:47, 69.05s/it]GPU available: False, used: False\n",
      "TPU available: False, using: 0 TPU cores\n",
      "IPU available: False, using: 0 IPUs\n",
      "HPU available: False, using: 0 HPUs\n",
      "\n",
      "  | Name            | Type             | Params\n",
      "-----------------------------------------------------\n",
      "0 | criterion       | MSELoss          | 0     \n",
      "1 | train_metrics   | MetricCollection | 0     \n",
      "2 | val_metrics     | MetricCollection | 0     \n",
      "3 | decomposition   | _SeriesDecomp    | 0     \n",
      "4 | linear_seasonal | Linear           | 3.6 K \n",
      "5 | linear_trend    | Linear           | 3.6 K \n",
      "-----------------------------------------------------\n",
      "7.2 K     Trainable params\n",
      "0         Non-trainable params\n",
      "7.2 K     Total params\n",
      "0.029     Total estimated model params size (MB)\n"
     ]
    },
    {
     "name": "stdout",
     "output_type": "stream",
     "text": [
      "\n",
      "Epoch 99: 100%|██████████| 11/11 [00:00<00:00, 12.90it/s, train_loss=363.0]  "
     ]
    },
    {
     "name": "stderr",
     "output_type": "stream",
     "text": [
      "`Trainer.fit` stopped: `max_epochs=100` reached.\n"
     ]
    },
    {
     "name": "stdout",
     "output_type": "stream",
     "text": [
      "Epoch 99: 100%|██████████| 11/11 [00:00<00:00, 12.84it/s, train_loss=363.0]"
     ]
    },
    {
     "name": "stderr",
     "output_type": "stream",
     "text": [
      "GPU available: False, used: False\n",
      "TPU available: False, using: 0 TPU cores\n",
      "IPU available: False, using: 0 IPUs\n",
      "HPU available: False, using: 0 HPUs\n"
     ]
    },
    {
     "name": "stdout",
     "output_type": "stream",
     "text": [
      "\n",
      "Predicting DataLoader 0: 100%|██████████| 1/1 [00:00<00:00, 119.78it/s]"
     ]
    },
    {
     "name": "stderr",
     "output_type": "stream",
     "text": [
      " 56%|█████▌    | 56/100 [1:03:56<52:09, 71.13s/it]GPU available: False, used: False\n",
      "TPU available: False, using: 0 TPU cores\n",
      "IPU available: False, using: 0 IPUs\n",
      "HPU available: False, using: 0 HPUs\n",
      "\n",
      "  | Name            | Type             | Params\n",
      "-----------------------------------------------------\n",
      "0 | criterion       | MSELoss          | 0     \n",
      "1 | train_metrics   | MetricCollection | 0     \n",
      "2 | val_metrics     | MetricCollection | 0     \n",
      "3 | decomposition   | _SeriesDecomp    | 0     \n",
      "4 | linear_seasonal | Linear           | 3.6 K \n",
      "5 | linear_trend    | Linear           | 3.6 K \n",
      "-----------------------------------------------------\n",
      "7.2 K     Trainable params\n",
      "0         Non-trainable params\n",
      "7.2 K     Total params\n",
      "0.029     Total estimated model params size (MB)\n"
     ]
    },
    {
     "name": "stdout",
     "output_type": "stream",
     "text": [
      "\n",
      "Epoch 99: 100%|██████████| 11/11 [00:00<00:00, 18.19it/s, train_loss=385.0] "
     ]
    },
    {
     "name": "stderr",
     "output_type": "stream",
     "text": [
      "`Trainer.fit` stopped: `max_epochs=100` reached.\n"
     ]
    },
    {
     "name": "stdout",
     "output_type": "stream",
     "text": [
      "Epoch 99: 100%|██████████| 11/11 [00:00<00:00, 18.11it/s, train_loss=385.0]"
     ]
    },
    {
     "name": "stderr",
     "output_type": "stream",
     "text": [
      "GPU available: False, used: False\n"
     ]
    },
    {
     "name": "stdout",
     "output_type": "stream",
     "text": [
      "\n"
     ]
    },
    {
     "name": "stderr",
     "output_type": "stream",
     "text": [
      "TPU available: False, using: 0 TPU cores\n",
      "IPU available: False, using: 0 IPUs\n",
      "HPU available: False, using: 0 HPUs\n"
     ]
    },
    {
     "name": "stdout",
     "output_type": "stream",
     "text": [
      "Predicting DataLoader 0: 100%|██████████| 1/1 [00:00<00:00, 142.86it/s]"
     ]
    },
    {
     "name": "stderr",
     "output_type": "stream",
     "text": [
      " 57%|█████▋    | 57/100 [1:05:04<50:17, 70.16s/it]GPU available: False, used: False\n",
      "TPU available: False, using: 0 TPU cores\n",
      "IPU available: False, using: 0 IPUs\n"
     ]
    },
    {
     "name": "stdout",
     "output_type": "stream",
     "text": [
      "\n"
     ]
    },
    {
     "name": "stderr",
     "output_type": "stream",
     "text": [
      "HPU available: False, using: 0 HPUs\n",
      "\n",
      "  | Name            | Type             | Params\n",
      "-----------------------------------------------------\n",
      "0 | criterion       | MSELoss          | 0     \n",
      "1 | train_metrics   | MetricCollection | 0     \n",
      "2 | val_metrics     | MetricCollection | 0     \n",
      "3 | decomposition   | _SeriesDecomp    | 0     \n",
      "4 | linear_seasonal | Linear           | 3.6 K \n",
      "5 | linear_trend    | Linear           | 3.6 K \n",
      "-----------------------------------------------------\n",
      "7.2 K     Trainable params\n",
      "0         Non-trainable params\n",
      "7.2 K     Total params\n",
      "0.029     Total estimated model params size (MB)\n"
     ]
    },
    {
     "name": "stdout",
     "output_type": "stream",
     "text": [
      "Epoch 99: 100%|██████████| 11/11 [00:00<00:00, 14.66it/s, train_loss=418.0]  "
     ]
    },
    {
     "name": "stderr",
     "output_type": "stream",
     "text": [
      "`Trainer.fit` stopped: `max_epochs=100` reached.\n"
     ]
    },
    {
     "name": "stdout",
     "output_type": "stream",
     "text": [
      "Epoch 99: 100%|██████████| 11/11 [00:00<00:00, 14.59it/s, train_loss=418.0]"
     ]
    },
    {
     "name": "stderr",
     "output_type": "stream",
     "text": [
      "GPU available: False, used: False\n",
      "TPU available: False, using: 0 TPU cores\n",
      "IPU available: False, using: 0 IPUs\n",
      "HPU available: False, using: 0 HPUs\n"
     ]
    },
    {
     "name": "stdout",
     "output_type": "stream",
     "text": [
      "\n",
      "Predicting DataLoader 0: 100%|██████████| 1/1 [00:00<00:00, 142.76it/s]"
     ]
    },
    {
     "name": "stderr",
     "output_type": "stream",
     "text": [
      " 58%|█████▊    | 58/100 [1:06:12<48:37, 69.46s/it]GPU available: False, used: False\n",
      "TPU available: False, using: 0 TPU cores\n",
      "IPU available: False, using: 0 IPUs\n",
      "HPU available: False, using: 0 HPUs\n",
      "\n",
      "  | Name            | Type             | Params\n",
      "-----------------------------------------------------\n",
      "0 | criterion       | MSELoss          | 0     \n",
      "1 | train_metrics   | MetricCollection | 0     \n",
      "2 | val_metrics     | MetricCollection | 0     \n",
      "3 | decomposition   | _SeriesDecomp    | 0     \n",
      "4 | linear_seasonal | Linear           | 3.6 K \n",
      "5 | linear_trend    | Linear           | 3.6 K \n",
      "-----------------------------------------------------\n",
      "7.2 K     Trainable params\n",
      "0         Non-trainable params\n",
      "7.2 K     Total params\n",
      "0.029     Total estimated model params size (MB)\n"
     ]
    },
    {
     "name": "stdout",
     "output_type": "stream",
     "text": [
      "\n",
      "Epoch 99: 100%|██████████| 11/11 [00:00<00:00, 17.35it/s, train_loss=382.0]  "
     ]
    },
    {
     "name": "stderr",
     "output_type": "stream",
     "text": [
      "`Trainer.fit` stopped: `max_epochs=100` reached.\n"
     ]
    },
    {
     "name": "stdout",
     "output_type": "stream",
     "text": [
      "Epoch 99: 100%|██████████| 11/11 [00:00<00:00, 17.35it/s, train_loss=382.0]"
     ]
    },
    {
     "name": "stderr",
     "output_type": "stream",
     "text": [
      "GPU available: False, used: False\n",
      "TPU available: False, using: 0 TPU cores\n",
      "IPU available: False, using: 0 IPUs\n",
      "HPU available: False, using: 0 HPUs\n"
     ]
    },
    {
     "name": "stdout",
     "output_type": "stream",
     "text": [
      "\n",
      "Predicting DataLoader 0: 100%|██████████| 1/1 [00:00<00:00, 46.07it/s]\n"
     ]
    },
    {
     "name": "stderr",
     "output_type": "stream",
     "text": [
      " 59%|█████▉    | 59/100 [1:07:29<49:10, 71.97s/it]GPU available: False, used: False\n",
      "TPU available: False, using: 0 TPU cores\n",
      "IPU available: False, using: 0 IPUs\n",
      "HPU available: False, using: 0 HPUs\n",
      "\n",
      "  | Name            | Type             | Params\n",
      "-----------------------------------------------------\n",
      "0 | criterion       | MSELoss          | 0     \n",
      "1 | train_metrics   | MetricCollection | 0     \n",
      "2 | val_metrics     | MetricCollection | 0     \n",
      "3 | decomposition   | _SeriesDecomp    | 0     \n",
      "4 | linear_seasonal | Linear           | 3.6 K \n",
      "5 | linear_trend    | Linear           | 3.6 K \n",
      "-----------------------------------------------------\n",
      "7.2 K     Trainable params\n",
      "0         Non-trainable params\n",
      "7.2 K     Total params\n",
      "0.029     Total estimated model params size (MB)\n"
     ]
    },
    {
     "name": "stdout",
     "output_type": "stream",
     "text": [
      "Epoch 99: 100%|██████████| 11/11 [00:00<00:00, 16.45it/s, train_loss=357.0]  "
     ]
    },
    {
     "name": "stderr",
     "output_type": "stream",
     "text": [
      "`Trainer.fit` stopped: `max_epochs=100` reached.\n"
     ]
    },
    {
     "name": "stdout",
     "output_type": "stream",
     "text": [
      "Epoch 99: 100%|██████████| 11/11 [00:00<00:00, 16.38it/s, train_loss=357.0]"
     ]
    },
    {
     "name": "stderr",
     "output_type": "stream",
     "text": [
      "GPU available: False, used: False\n"
     ]
    },
    {
     "name": "stdout",
     "output_type": "stream",
     "text": [
      "\n"
     ]
    },
    {
     "name": "stderr",
     "output_type": "stream",
     "text": [
      "TPU available: False, using: 0 TPU cores\n",
      "IPU available: False, using: 0 IPUs\n",
      "HPU available: False, using: 0 HPUs\n"
     ]
    },
    {
     "name": "stdout",
     "output_type": "stream",
     "text": [
      "Predicting DataLoader 0: 100%|██████████| 1/1 [00:00<00:00, 105.84it/s]"
     ]
    },
    {
     "name": "stderr",
     "output_type": "stream",
     "text": [
      " 60%|██████    | 60/100 [1:08:33<46:15, 69.39s/it]"
     ]
    },
    {
     "name": "stdout",
     "output_type": "stream",
     "text": [
      "\n"
     ]
    },
    {
     "name": "stderr",
     "output_type": "stream",
     "text": [
      "GPU available: False, used: False\n",
      "TPU available: False, using: 0 TPU cores\n",
      "IPU available: False, using: 0 IPUs\n",
      "HPU available: False, using: 0 HPUs\n",
      "\n",
      "  | Name            | Type             | Params\n",
      "-----------------------------------------------------\n",
      "0 | criterion       | MSELoss          | 0     \n",
      "1 | train_metrics   | MetricCollection | 0     \n",
      "2 | val_metrics     | MetricCollection | 0     \n",
      "3 | decomposition   | _SeriesDecomp    | 0     \n",
      "4 | linear_seasonal | Linear           | 3.6 K \n",
      "5 | linear_trend    | Linear           | 3.6 K \n",
      "-----------------------------------------------------\n",
      "7.2 K     Trainable params\n",
      "0         Non-trainable params\n",
      "7.2 K     Total params\n",
      "0.029     Total estimated model params size (MB)\n"
     ]
    },
    {
     "name": "stdout",
     "output_type": "stream",
     "text": [
      "Epoch 99: 100%|██████████| 11/11 [00:00<00:00, 13.08it/s, train_loss=445.0]  "
     ]
    },
    {
     "name": "stderr",
     "output_type": "stream",
     "text": [
      "`Trainer.fit` stopped: `max_epochs=100` reached.\n"
     ]
    },
    {
     "name": "stdout",
     "output_type": "stream",
     "text": [
      "Epoch 99: 100%|██████████| 11/11 [00:00<00:00, 13.04it/s, train_loss=445.0]"
     ]
    },
    {
     "name": "stderr",
     "output_type": "stream",
     "text": [
      "GPU available: False, used: False\n",
      "TPU available: False, using: 0 TPU cores\n",
      "IPU available: False, using: 0 IPUs\n",
      "HPU available: False, using: 0 HPUs\n"
     ]
    },
    {
     "name": "stdout",
     "output_type": "stream",
     "text": [
      "\n",
      "Predicting DataLoader 0: 100%|██████████| 1/1 [00:00<00:00, 151.08it/s]"
     ]
    },
    {
     "name": "stderr",
     "output_type": "stream",
     "text": [
      " 61%|██████    | 61/100 [1:09:51<46:53, 72.15s/it]"
     ]
    },
    {
     "name": "stdout",
     "output_type": "stream",
     "text": [
      "\n"
     ]
    },
    {
     "name": "stderr",
     "output_type": "stream",
     "text": [
      "GPU available: False, used: False\n",
      "TPU available: False, using: 0 TPU cores\n",
      "IPU available: False, using: 0 IPUs\n",
      "HPU available: False, using: 0 HPUs\n",
      "\n",
      "  | Name            | Type             | Params\n",
      "-----------------------------------------------------\n",
      "0 | criterion       | MSELoss          | 0     \n",
      "1 | train_metrics   | MetricCollection | 0     \n",
      "2 | val_metrics     | MetricCollection | 0     \n",
      "3 | decomposition   | _SeriesDecomp    | 0     \n",
      "4 | linear_seasonal | Linear           | 3.6 K \n",
      "5 | linear_trend    | Linear           | 3.6 K \n",
      "-----------------------------------------------------\n",
      "7.2 K     Trainable params\n",
      "0         Non-trainable params\n",
      "7.2 K     Total params\n",
      "0.029     Total estimated model params size (MB)\n"
     ]
    },
    {
     "name": "stdout",
     "output_type": "stream",
     "text": [
      "Epoch 99: 100%|██████████| 11/11 [00:00<00:00, 17.01it/s, train_loss=401.0]  "
     ]
    },
    {
     "name": "stderr",
     "output_type": "stream",
     "text": [
      "`Trainer.fit` stopped: `max_epochs=100` reached.\n"
     ]
    },
    {
     "name": "stdout",
     "output_type": "stream",
     "text": [
      "Epoch 99: 100%|██████████| 11/11 [00:00<00:00, 16.96it/s, train_loss=401.0]"
     ]
    },
    {
     "name": "stderr",
     "output_type": "stream",
     "text": [
      "GPU available: False, used: False\n"
     ]
    },
    {
     "name": "stdout",
     "output_type": "stream",
     "text": [
      "\n"
     ]
    },
    {
     "name": "stderr",
     "output_type": "stream",
     "text": [
      "TPU available: False, using: 0 TPU cores\n",
      "IPU available: False, using: 0 IPUs\n",
      "HPU available: False, using: 0 HPUs\n"
     ]
    },
    {
     "name": "stdout",
     "output_type": "stream",
     "text": [
      "Predicting DataLoader 0: 100%|██████████| 1/1 [00:00<00:00, 121.36it/s]"
     ]
    },
    {
     "name": "stderr",
     "output_type": "stream",
     "text": [
      " 62%|██████▏   | 62/100 [1:10:56<44:16, 69.92s/it]GPU available: False, used: False\n",
      "TPU available: False, using: 0 TPU cores\n",
      "IPU available: False, using: 0 IPUs\n",
      "HPU available: False, using: 0 HPUs\n"
     ]
    },
    {
     "name": "stdout",
     "output_type": "stream",
     "text": [
      "\n"
     ]
    },
    {
     "name": "stderr",
     "output_type": "stream",
     "text": [
      "\n",
      "  | Name            | Type             | Params\n",
      "-----------------------------------------------------\n",
      "0 | criterion       | MSELoss          | 0     \n",
      "1 | train_metrics   | MetricCollection | 0     \n",
      "2 | val_metrics     | MetricCollection | 0     \n",
      "3 | decomposition   | _SeriesDecomp    | 0     \n",
      "4 | linear_seasonal | Linear           | 3.6 K \n",
      "5 | linear_trend    | Linear           | 3.6 K \n",
      "-----------------------------------------------------\n",
      "7.2 K     Trainable params\n",
      "0         Non-trainable params\n",
      "7.2 K     Total params\n",
      "0.029     Total estimated model params size (MB)\n"
     ]
    },
    {
     "name": "stdout",
     "output_type": "stream",
     "text": [
      "Epoch 99: 100%|██████████| 11/11 [00:00<00:00, 12.56it/s, train_loss=575.0]  "
     ]
    },
    {
     "name": "stderr",
     "output_type": "stream",
     "text": [
      "`Trainer.fit` stopped: `max_epochs=100` reached.\n"
     ]
    },
    {
     "name": "stdout",
     "output_type": "stream",
     "text": [
      "Epoch 99: 100%|██████████| 11/11 [00:00<00:00, 12.53it/s, train_loss=575.0]"
     ]
    },
    {
     "name": "stderr",
     "output_type": "stream",
     "text": [
      "GPU available: False, used: False\n"
     ]
    },
    {
     "name": "stdout",
     "output_type": "stream",
     "text": [
      "\n"
     ]
    },
    {
     "name": "stderr",
     "output_type": "stream",
     "text": [
      "TPU available: False, using: 0 TPU cores\n",
      "IPU available: False, using: 0 IPUs\n",
      "HPU available: False, using: 0 HPUs\n"
     ]
    },
    {
     "name": "stdout",
     "output_type": "stream",
     "text": [
      "Predicting DataLoader 0: 100%|██████████| 1/1 [00:00<00:00, 105.14it/s]"
     ]
    },
    {
     "name": "stderr",
     "output_type": "stream",
     "text": [
      " 63%|██████▎   | 63/100 [1:12:07<43:17, 70.20s/it]GPU available: False, used: False\n",
      "TPU available: False, using: 0 TPU cores\n",
      "IPU available: False, using: 0 IPUs\n",
      "HPU available: False, using: 0 HPUs\n",
      "\n",
      "  | Name            | Type             | Params\n",
      "-----------------------------------------------------\n",
      "0 | criterion       | MSELoss          | 0     \n",
      "1 | train_metrics   | MetricCollection | 0     \n",
      "2 | val_metrics     | MetricCollection | 0     \n",
      "3 | decomposition   | _SeriesDecomp    | 0     \n",
      "4 | linear_seasonal | Linear           | 3.6 K \n",
      "5 | linear_trend    | Linear           | 3.6 K \n",
      "-----------------------------------------------------\n",
      "7.2 K     Trainable params\n",
      "0         Non-trainable params\n",
      "7.2 K     Total params\n",
      "0.029     Total estimated model params size (MB)\n"
     ]
    },
    {
     "name": "stdout",
     "output_type": "stream",
     "text": [
      "\n",
      "Epoch 99: 100%|██████████| 11/11 [00:00<00:00, 19.03it/s, train_loss=551.0]  "
     ]
    },
    {
     "name": "stderr",
     "output_type": "stream",
     "text": [
      "`Trainer.fit` stopped: `max_epochs=100` reached.\n"
     ]
    },
    {
     "name": "stdout",
     "output_type": "stream",
     "text": [
      "Epoch 99: 100%|██████████| 11/11 [00:00<00:00, 19.00it/s, train_loss=551.0]"
     ]
    },
    {
     "name": "stderr",
     "output_type": "stream",
     "text": [
      "GPU available: False, used: False\n",
      "TPU available: False, using: 0 TPU cores\n",
      "IPU available: False, using: 0 IPUs\n",
      "HPU available: False, using: 0 HPUs\n"
     ]
    },
    {
     "name": "stdout",
     "output_type": "stream",
     "text": [
      "\n",
      "Predicting DataLoader 0: 100%|██████████| 1/1 [00:00<00:00, 142.87it/s]"
     ]
    },
    {
     "name": "stderr",
     "output_type": "stream",
     "text": [
      " 64%|██████▍   | 64/100 [1:13:22<42:59, 71.65s/it]GPU available: False, used: False\n"
     ]
    },
    {
     "name": "stdout",
     "output_type": "stream",
     "text": [
      "\n"
     ]
    },
    {
     "name": "stderr",
     "output_type": "stream",
     "text": [
      "TPU available: False, using: 0 TPU cores\n",
      "IPU available: False, using: 0 IPUs\n",
      "HPU available: False, using: 0 HPUs\n",
      "\n",
      "  | Name            | Type             | Params\n",
      "-----------------------------------------------------\n",
      "0 | criterion       | MSELoss          | 0     \n",
      "1 | train_metrics   | MetricCollection | 0     \n",
      "2 | val_metrics     | MetricCollection | 0     \n",
      "3 | decomposition   | _SeriesDecomp    | 0     \n",
      "4 | linear_seasonal | Linear           | 3.6 K \n",
      "5 | linear_trend    | Linear           | 3.6 K \n",
      "-----------------------------------------------------\n",
      "7.2 K     Trainable params\n",
      "0         Non-trainable params\n",
      "7.2 K     Total params\n",
      "0.029     Total estimated model params size (MB)\n"
     ]
    },
    {
     "name": "stdout",
     "output_type": "stream",
     "text": [
      "Epoch 99: 100%|██████████| 11/11 [00:00<00:00, 16.35it/s, train_loss=428.0]  "
     ]
    },
    {
     "name": "stderr",
     "output_type": "stream",
     "text": [
      "`Trainer.fit` stopped: `max_epochs=100` reached.\n"
     ]
    },
    {
     "name": "stdout",
     "output_type": "stream",
     "text": [
      "Epoch 99: 100%|██████████| 11/11 [00:00<00:00, 16.35it/s, train_loss=428.0]"
     ]
    },
    {
     "name": "stderr",
     "output_type": "stream",
     "text": [
      "GPU available: False, used: False\n"
     ]
    },
    {
     "name": "stdout",
     "output_type": "stream",
     "text": [
      "\n"
     ]
    },
    {
     "name": "stderr",
     "output_type": "stream",
     "text": [
      "TPU available: False, using: 0 TPU cores\n",
      "IPU available: False, using: 0 IPUs\n",
      "HPU available: False, using: 0 HPUs\n"
     ]
    },
    {
     "name": "stdout",
     "output_type": "stream",
     "text": [
      "Predicting DataLoader 0: 100%|██████████| 1/1 [00:00<00:00, 512.06it/s]"
     ]
    },
    {
     "name": "stderr",
     "output_type": "stream",
     "text": [
      " 65%|██████▌   | 65/100 [1:14:25<40:17, 69.06s/it]GPU available: False, used: False\n",
      "TPU available: False, using: 0 TPU cores\n",
      "IPU available: False, using: 0 IPUs\n",
      "HPU available: False, using: 0 HPUs\n",
      "\n",
      "  | Name            | Type             | Params\n",
      "-----------------------------------------------------\n",
      "0 | criterion       | MSELoss          | 0     \n",
      "1 | train_metrics   | MetricCollection | 0     \n",
      "2 | val_metrics     | MetricCollection | 0     \n",
      "3 | decomposition   | _SeriesDecomp    | 0     \n",
      "4 | linear_seasonal | Linear           | 3.6 K \n",
      "5 | linear_trend    | Linear           | 3.6 K \n",
      "-----------------------------------------------------\n",
      "7.2 K     Trainable params\n",
      "0         Non-trainable params\n",
      "7.2 K     Total params\n",
      "0.029     Total estimated model params size (MB)\n"
     ]
    },
    {
     "name": "stdout",
     "output_type": "stream",
     "text": [
      "\n",
      "Epoch 99: 100%|██████████| 11/11 [00:00<00:00, 17.65it/s, train_loss=431.0]  "
     ]
    },
    {
     "name": "stderr",
     "output_type": "stream",
     "text": [
      "`Trainer.fit` stopped: `max_epochs=100` reached.\n"
     ]
    },
    {
     "name": "stdout",
     "output_type": "stream",
     "text": [
      "Epoch 99: 100%|██████████| 11/11 [00:00<00:00, 17.60it/s, train_loss=431.0]"
     ]
    },
    {
     "name": "stderr",
     "output_type": "stream",
     "text": [
      "GPU available: False, used: False\n"
     ]
    },
    {
     "name": "stdout",
     "output_type": "stream",
     "text": [
      "\n"
     ]
    },
    {
     "name": "stderr",
     "output_type": "stream",
     "text": [
      "TPU available: False, using: 0 TPU cores\n",
      "IPU available: False, using: 0 IPUs\n",
      "HPU available: False, using: 0 HPUs\n"
     ]
    },
    {
     "name": "stdout",
     "output_type": "stream",
     "text": [
      "Predicting DataLoader 0: 100%|██████████| 1/1 [00:00<00:00, 200.01it/s]"
     ]
    },
    {
     "name": "stderr",
     "output_type": "stream",
     "text": [
      " 66%|██████▌   | 66/100 [1:15:39<39:55, 70.45s/it]GPU available: False, used: False\n",
      "TPU available: False, using: 0 TPU cores\n",
      "IPU available: False, using: 0 IPUs\n",
      "HPU available: False, using: 0 HPUs\n",
      "\n",
      "  | Name            | Type             | Params\n",
      "-----------------------------------------------------\n",
      "0 | criterion       | MSELoss          | 0     \n",
      "1 | train_metrics   | MetricCollection | 0     \n",
      "2 | val_metrics     | MetricCollection | 0     \n",
      "3 | decomposition   | _SeriesDecomp    | 0     \n",
      "4 | linear_seasonal | Linear           | 3.6 K \n",
      "5 | linear_trend    | Linear           | 3.6 K \n",
      "-----------------------------------------------------\n",
      "7.2 K     Trainable params\n",
      "0         Non-trainable params\n",
      "7.2 K     Total params\n",
      "0.029     Total estimated model params size (MB)\n"
     ]
    },
    {
     "name": "stdout",
     "output_type": "stream",
     "text": [
      "\n",
      "Epoch 99: 100%|██████████| 11/11 [00:00<00:00, 18.95it/s, train_loss=402.0]  "
     ]
    },
    {
     "name": "stderr",
     "output_type": "stream",
     "text": [
      "`Trainer.fit` stopped: `max_epochs=100` reached.\n"
     ]
    },
    {
     "name": "stdout",
     "output_type": "stream",
     "text": [
      "Epoch 99: 100%|██████████| 11/11 [00:00<00:00, 18.95it/s, train_loss=402.0]"
     ]
    },
    {
     "name": "stderr",
     "output_type": "stream",
     "text": [
      "GPU available: False, used: False\n",
      "TPU available: False, using: 0 TPU cores\n",
      "IPU available: False, using: 0 IPUs\n",
      "HPU available: False, using: 0 HPUs\n"
     ]
    },
    {
     "name": "stdout",
     "output_type": "stream",
     "text": [
      "\n",
      "Predicting DataLoader 0: 100%|██████████| 1/1 [00:00<00:00, 63.67it/s] "
     ]
    },
    {
     "name": "stderr",
     "output_type": "stream",
     "text": [
      " 67%|██████▋   | 67/100 [1:16:38<36:53, 67.06s/it]"
     ]
    },
    {
     "name": "stdout",
     "output_type": "stream",
     "text": [
      "\n"
     ]
    },
    {
     "name": "stderr",
     "output_type": "stream",
     "text": [
      "GPU available: False, used: False\n",
      "TPU available: False, using: 0 TPU cores\n",
      "IPU available: False, using: 0 IPUs\n",
      "HPU available: False, using: 0 HPUs\n",
      "\n",
      "  | Name            | Type             | Params\n",
      "-----------------------------------------------------\n",
      "0 | criterion       | MSELoss          | 0     \n",
      "1 | train_metrics   | MetricCollection | 0     \n",
      "2 | val_metrics     | MetricCollection | 0     \n",
      "3 | decomposition   | _SeriesDecomp    | 0     \n",
      "4 | linear_seasonal | Linear           | 3.6 K \n",
      "5 | linear_trend    | Linear           | 3.6 K \n",
      "-----------------------------------------------------\n",
      "7.2 K     Trainable params\n",
      "0         Non-trainable params\n",
      "7.2 K     Total params\n",
      "0.029     Total estimated model params size (MB)\n"
     ]
    },
    {
     "name": "stdout",
     "output_type": "stream",
     "text": [
      "Epoch 99: 100%|██████████| 11/11 [00:00<00:00, 14.31it/s, train_loss=408.0]  "
     ]
    },
    {
     "name": "stderr",
     "output_type": "stream",
     "text": [
      "`Trainer.fit` stopped: `max_epochs=100` reached.\n"
     ]
    },
    {
     "name": "stdout",
     "output_type": "stream",
     "text": [
      "Epoch 99: 100%|██████████| 11/11 [00:00<00:00, 14.04it/s, train_loss=408.0]\n"
     ]
    },
    {
     "name": "stderr",
     "output_type": "stream",
     "text": [
      "GPU available: False, used: False\n",
      "TPU available: False, using: 0 TPU cores\n",
      "IPU available: False, using: 0 IPUs\n",
      "HPU available: False, using: 0 HPUs\n"
     ]
    },
    {
     "name": "stdout",
     "output_type": "stream",
     "text": [
      "Predicting DataLoader 0: 100%|██████████| 1/1 [00:00<00:00, 242.18it/s]"
     ]
    },
    {
     "name": "stderr",
     "output_type": "stream",
     "text": [
      " 68%|██████▊   | 68/100 [1:17:47<36:01, 67.53s/it]GPU available: False, used: False\n",
      "TPU available: False, using: 0 TPU cores\n",
      "IPU available: False, using: 0 IPUs\n"
     ]
    },
    {
     "name": "stdout",
     "output_type": "stream",
     "text": [
      "\n"
     ]
    },
    {
     "name": "stderr",
     "output_type": "stream",
     "text": [
      "HPU available: False, using: 0 HPUs\n",
      "\n",
      "  | Name            | Type             | Params\n",
      "-----------------------------------------------------\n",
      "0 | criterion       | MSELoss          | 0     \n",
      "1 | train_metrics   | MetricCollection | 0     \n",
      "2 | val_metrics     | MetricCollection | 0     \n",
      "3 | decomposition   | _SeriesDecomp    | 0     \n",
      "4 | linear_seasonal | Linear           | 3.6 K \n",
      "5 | linear_trend    | Linear           | 3.6 K \n",
      "-----------------------------------------------------\n",
      "7.2 K     Trainable params\n",
      "0         Non-trainable params\n",
      "7.2 K     Total params\n",
      "0.029     Total estimated model params size (MB)\n"
     ]
    },
    {
     "name": "stdout",
     "output_type": "stream",
     "text": [
      "Epoch 99: 100%|██████████| 11/11 [00:00<00:00, 19.49it/s, train_loss=430.0]  "
     ]
    },
    {
     "name": "stderr",
     "output_type": "stream",
     "text": [
      "`Trainer.fit` stopped: `max_epochs=100` reached.\n"
     ]
    },
    {
     "name": "stdout",
     "output_type": "stream",
     "text": [
      "Epoch 99: 100%|██████████| 11/11 [00:00<00:00, 19.49it/s, train_loss=430.0]\n"
     ]
    },
    {
     "name": "stderr",
     "output_type": "stream",
     "text": [
      "GPU available: False, used: False\n",
      "TPU available: False, using: 0 TPU cores\n",
      "IPU available: False, using: 0 IPUs\n",
      "HPU available: False, using: 0 HPUs\n"
     ]
    },
    {
     "name": "stdout",
     "output_type": "stream",
     "text": [
      "Predicting DataLoader 0: 100%|██████████| 1/1 [00:00<?, ?it/s]"
     ]
    },
    {
     "name": "stderr",
     "output_type": "stream",
     "text": [
      " 69%|██████▉   | 69/100 [1:18:57<35:22, 68.47s/it]GPU available: False, used: False\n"
     ]
    },
    {
     "name": "stdout",
     "output_type": "stream",
     "text": [
      "\n"
     ]
    },
    {
     "name": "stderr",
     "output_type": "stream",
     "text": [
      "TPU available: False, using: 0 TPU cores\n",
      "IPU available: False, using: 0 IPUs\n",
      "HPU available: False, using: 0 HPUs\n",
      "\n",
      "  | Name            | Type             | Params\n",
      "-----------------------------------------------------\n",
      "0 | criterion       | MSELoss          | 0     \n",
      "1 | train_metrics   | MetricCollection | 0     \n",
      "2 | val_metrics     | MetricCollection | 0     \n",
      "3 | decomposition   | _SeriesDecomp    | 0     \n",
      "4 | linear_seasonal | Linear           | 3.6 K \n",
      "5 | linear_trend    | Linear           | 3.6 K \n",
      "-----------------------------------------------------\n",
      "7.2 K     Trainable params\n",
      "0         Non-trainable params\n",
      "7.2 K     Total params\n",
      "0.029     Total estimated model params size (MB)\n"
     ]
    },
    {
     "name": "stdout",
     "output_type": "stream",
     "text": [
      "Epoch 99: 100%|██████████| 11/11 [00:00<00:00, 17.32it/s, train_loss=486.0]  "
     ]
    },
    {
     "name": "stderr",
     "output_type": "stream",
     "text": [
      "`Trainer.fit` stopped: `max_epochs=100` reached.\n"
     ]
    },
    {
     "name": "stdout",
     "output_type": "stream",
     "text": [
      "Epoch 99: 100%|██████████| 11/11 [00:00<00:00, 17.32it/s, train_loss=486.0]\n"
     ]
    },
    {
     "name": "stderr",
     "output_type": "stream",
     "text": [
      "GPU available: False, used: False\n",
      "TPU available: False, using: 0 TPU cores\n",
      "IPU available: False, using: 0 IPUs\n",
      "HPU available: False, using: 0 HPUs\n"
     ]
    },
    {
     "name": "stdout",
     "output_type": "stream",
     "text": [
      "Predicting DataLoader 0: 100%|██████████| 1/1 [00:00<00:00, 66.64it/s]"
     ]
    },
    {
     "name": "stderr",
     "output_type": "stream",
     "text": [
      " 70%|███████   | 70/100 [1:19:58<33:09, 66.31s/it]GPU available: False, used: False\n"
     ]
    },
    {
     "name": "stdout",
     "output_type": "stream",
     "text": [
      "\n"
     ]
    },
    {
     "name": "stderr",
     "output_type": "stream",
     "text": [
      "TPU available: False, using: 0 TPU cores\n",
      "IPU available: False, using: 0 IPUs\n",
      "HPU available: False, using: 0 HPUs\n",
      "\n",
      "  | Name            | Type             | Params\n",
      "-----------------------------------------------------\n",
      "0 | criterion       | MSELoss          | 0     \n",
      "1 | train_metrics   | MetricCollection | 0     \n",
      "2 | val_metrics     | MetricCollection | 0     \n",
      "3 | decomposition   | _SeriesDecomp    | 0     \n",
      "4 | linear_seasonal | Linear           | 3.6 K \n",
      "5 | linear_trend    | Linear           | 3.6 K \n",
      "-----------------------------------------------------\n",
      "7.2 K     Trainable params\n",
      "0         Non-trainable params\n",
      "7.2 K     Total params\n",
      "0.029     Total estimated model params size (MB)\n"
     ]
    },
    {
     "name": "stdout",
     "output_type": "stream",
     "text": [
      "Epoch 99: 100%|██████████| 11/11 [00:00<00:00, 14.81it/s, train_loss=359.0]  "
     ]
    },
    {
     "name": "stderr",
     "output_type": "stream",
     "text": [
      "`Trainer.fit` stopped: `max_epochs=100` reached.\n"
     ]
    },
    {
     "name": "stdout",
     "output_type": "stream",
     "text": [
      "Epoch 99: 100%|██████████| 11/11 [00:00<00:00, 14.50it/s, train_loss=359.0]"
     ]
    },
    {
     "name": "stderr",
     "output_type": "stream",
     "text": [
      "GPU available: False, used: False\n",
      "TPU available: False, using: 0 TPU cores\n",
      "IPU available: False, using: 0 IPUs\n",
      "HPU available: False, using: 0 HPUs\n"
     ]
    },
    {
     "name": "stdout",
     "output_type": "stream",
     "text": [
      "\n",
      "Predicting DataLoader 0: 100%|██████████| 1/1 [00:00<00:00, 278.93it/s]"
     ]
    },
    {
     "name": "stderr",
     "output_type": "stream",
     "text": [
      " 71%|███████   | 71/100 [1:21:13<33:17, 68.87s/it]GPU available: False, used: False\n"
     ]
    },
    {
     "name": "stdout",
     "output_type": "stream",
     "text": [
      "\n"
     ]
    },
    {
     "name": "stderr",
     "output_type": "stream",
     "text": [
      "TPU available: False, using: 0 TPU cores\n",
      "IPU available: False, using: 0 IPUs\n",
      "HPU available: False, using: 0 HPUs\n",
      "\n",
      "  | Name            | Type             | Params\n",
      "-----------------------------------------------------\n",
      "0 | criterion       | MSELoss          | 0     \n",
      "1 | train_metrics   | MetricCollection | 0     \n",
      "2 | val_metrics     | MetricCollection | 0     \n",
      "3 | decomposition   | _SeriesDecomp    | 0     \n",
      "4 | linear_seasonal | Linear           | 3.6 K \n",
      "5 | linear_trend    | Linear           | 3.6 K \n",
      "-----------------------------------------------------\n",
      "7.2 K     Trainable params\n",
      "0         Non-trainable params\n",
      "7.2 K     Total params\n",
      "0.029     Total estimated model params size (MB)\n"
     ]
    },
    {
     "name": "stdout",
     "output_type": "stream",
     "text": [
      "Epoch 99: 100%|██████████| 11/11 [00:00<00:00, 18.40it/s, train_loss=371.0]  "
     ]
    },
    {
     "name": "stderr",
     "output_type": "stream",
     "text": [
      "`Trainer.fit` stopped: `max_epochs=100` reached.\n"
     ]
    },
    {
     "name": "stdout",
     "output_type": "stream",
     "text": [
      "Epoch 99: 100%|██████████| 11/11 [00:00<00:00, 18.40it/s, train_loss=371.0]"
     ]
    },
    {
     "name": "stderr",
     "output_type": "stream",
     "text": [
      "GPU available: False, used: False\n"
     ]
    },
    {
     "name": "stdout",
     "output_type": "stream",
     "text": [
      "\n"
     ]
    },
    {
     "name": "stderr",
     "output_type": "stream",
     "text": [
      "TPU available: False, using: 0 TPU cores\n",
      "IPU available: False, using: 0 IPUs\n",
      "HPU available: False, using: 0 HPUs\n"
     ]
    },
    {
     "name": "stdout",
     "output_type": "stream",
     "text": [
      "Predicting DataLoader 0: 100%|██████████| 1/1 [00:00<00:00, 86.22it/s]"
     ]
    },
    {
     "name": "stderr",
     "output_type": "stream",
     "text": [
      " 72%|███████▏  | 72/100 [1:22:14<30:59, 66.41s/it]GPU available: False, used: False\n",
      "TPU available: False, using: 0 TPU cores\n",
      "IPU available: False, using: 0 IPUs\n",
      "HPU available: False, using: 0 HPUs\n",
      "\n",
      "  | Name            | Type             | Params\n",
      "-----------------------------------------------------\n",
      "0 | criterion       | MSELoss          | 0     \n",
      "1 | train_metrics   | MetricCollection | 0     \n",
      "2 | val_metrics     | MetricCollection | 0     \n",
      "3 | decomposition   | _SeriesDecomp    | 0     \n",
      "4 | linear_seasonal | Linear           | 3.6 K \n",
      "5 | linear_trend    | Linear           | 3.6 K \n",
      "-----------------------------------------------------\n",
      "7.2 K     Trainable params\n",
      "0         Non-trainable params\n",
      "7.2 K     Total params\n",
      "0.029     Total estimated model params size (MB)\n"
     ]
    },
    {
     "name": "stdout",
     "output_type": "stream",
     "text": [
      "\n",
      "Epoch 99: 100%|██████████| 11/11 [00:00<00:00, 15.35it/s, train_loss=361.0]  "
     ]
    },
    {
     "name": "stderr",
     "output_type": "stream",
     "text": [
      "`Trainer.fit` stopped: `max_epochs=100` reached.\n"
     ]
    },
    {
     "name": "stdout",
     "output_type": "stream",
     "text": [
      "Epoch 99: 100%|██████████| 11/11 [00:00<00:00, 15.02it/s, train_loss=361.0]"
     ]
    },
    {
     "name": "stderr",
     "output_type": "stream",
     "text": [
      "GPU available: False, used: False\n",
      "TPU available: False, using: 0 TPU cores\n",
      "IPU available: False, using: 0 IPUs\n",
      "HPU available: False, using: 0 HPUs\n"
     ]
    },
    {
     "name": "stdout",
     "output_type": "stream",
     "text": [
      "\n",
      "Predicting DataLoader 0: 100%|██████████| 1/1 [00:00<?, ?it/s]\n"
     ]
    },
    {
     "name": "stderr",
     "output_type": "stream",
     "text": [
      " 73%|███████▎  | 73/100 [1:23:21<30:01, 66.72s/it]GPU available: False, used: False\n",
      "TPU available: False, using: 0 TPU cores\n",
      "IPU available: False, using: 0 IPUs\n",
      "HPU available: False, using: 0 HPUs\n",
      "\n",
      "  | Name            | Type             | Params\n",
      "-----------------------------------------------------\n",
      "0 | criterion       | MSELoss          | 0     \n",
      "1 | train_metrics   | MetricCollection | 0     \n",
      "2 | val_metrics     | MetricCollection | 0     \n",
      "3 | decomposition   | _SeriesDecomp    | 0     \n",
      "4 | linear_seasonal | Linear           | 3.6 K \n",
      "5 | linear_trend    | Linear           | 3.6 K \n",
      "-----------------------------------------------------\n",
      "7.2 K     Trainable params\n",
      "0         Non-trainable params\n",
      "7.2 K     Total params\n",
      "0.029     Total estimated model params size (MB)\n"
     ]
    },
    {
     "name": "stdout",
     "output_type": "stream",
     "text": [
      "Epoch 99: 100%|██████████| 11/11 [00:00<00:00, 20.05it/s, train_loss=445.0]  "
     ]
    },
    {
     "name": "stderr",
     "output_type": "stream",
     "text": [
      "`Trainer.fit` stopped: `max_epochs=100` reached.\n"
     ]
    },
    {
     "name": "stdout",
     "output_type": "stream",
     "text": [
      "Epoch 99: 100%|██████████| 11/11 [00:00<00:00, 20.05it/s, train_loss=445.0]"
     ]
    },
    {
     "name": "stderr",
     "output_type": "stream",
     "text": [
      "GPU available: False, used: False\n",
      "TPU available: False, using: 0 TPU cores\n",
      "IPU available: False, using: 0 IPUs\n",
      "HPU available: False, using: 0 HPUs\n"
     ]
    },
    {
     "name": "stdout",
     "output_type": "stream",
     "text": [
      "\n",
      "Predicting DataLoader 0: 100%|██████████| 1/1 [00:00<?, ?it/s]"
     ]
    },
    {
     "name": "stderr",
     "output_type": "stream",
     "text": [
      " 74%|███████▍  | 74/100 [1:24:33<29:33, 68.22s/it]GPU available: False, used: False\n",
      "TPU available: False, using: 0 TPU cores\n",
      "IPU available: False, using: 0 IPUs\n",
      "HPU available: False, using: 0 HPUs\n",
      "\n",
      "  | Name            | Type             | Params\n",
      "-----------------------------------------------------\n",
      "0 | criterion       | MSELoss          | 0     \n",
      "1 | train_metrics   | MetricCollection | 0     \n",
      "2 | val_metrics     | MetricCollection | 0     \n",
      "3 | decomposition   | _SeriesDecomp    | 0     \n",
      "4 | linear_seasonal | Linear           | 3.6 K \n",
      "5 | linear_trend    | Linear           | 3.6 K \n",
      "-----------------------------------------------------\n",
      "7.2 K     Trainable params\n",
      "0         Non-trainable params\n",
      "7.2 K     Total params\n",
      "0.029     Total estimated model params size (MB)\n"
     ]
    },
    {
     "name": "stdout",
     "output_type": "stream",
     "text": [
      "\n",
      "Epoch 99: 100%|██████████| 11/11 [00:00<00:00, 17.26it/s, train_loss=513.0]  "
     ]
    },
    {
     "name": "stderr",
     "output_type": "stream",
     "text": [
      "`Trainer.fit` stopped: `max_epochs=100` reached.\n"
     ]
    },
    {
     "name": "stdout",
     "output_type": "stream",
     "text": [
      "Epoch 99: 100%|██████████| 11/11 [00:00<00:00, 17.26it/s, train_loss=513.0]"
     ]
    },
    {
     "name": "stderr",
     "output_type": "stream",
     "text": [
      "GPU available: False, used: False\n"
     ]
    },
    {
     "name": "stdout",
     "output_type": "stream",
     "text": [
      "\n"
     ]
    },
    {
     "name": "stderr",
     "output_type": "stream",
     "text": [
      "TPU available: False, using: 0 TPU cores\n",
      "IPU available: False, using: 0 IPUs\n",
      "HPU available: False, using: 0 HPUs\n"
     ]
    },
    {
     "name": "stdout",
     "output_type": "stream",
     "text": [
      "Predicting DataLoader 0: 100%|██████████| 1/1 [00:00<00:00, 53.00it/s]"
     ]
    },
    {
     "name": "stderr",
     "output_type": "stream",
     "text": [
      " 75%|███████▌  | 75/100 [1:25:34<27:32, 66.08s/it]GPU available: False, used: False\n",
      "TPU available: False, using: 0 TPU cores\n",
      "IPU available: False, using: 0 IPUs\n",
      "HPU available: False, using: 0 HPUs\n",
      "\n",
      "  | Name            | Type             | Params\n",
      "-----------------------------------------------------\n",
      "0 | criterion       | MSELoss          | 0     \n",
      "1 | train_metrics   | MetricCollection | 0     \n",
      "2 | val_metrics     | MetricCollection | 0     \n",
      "3 | decomposition   | _SeriesDecomp    | 0     \n",
      "4 | linear_seasonal | Linear           | 3.6 K \n",
      "5 | linear_trend    | Linear           | 3.6 K \n",
      "-----------------------------------------------------\n",
      "7.2 K     Trainable params\n",
      "0         Non-trainable params\n",
      "7.2 K     Total params\n",
      "0.029     Total estimated model params size (MB)\n"
     ]
    },
    {
     "name": "stdout",
     "output_type": "stream",
     "text": [
      "\n",
      "Epoch 99: 100%|██████████| 11/11 [00:00<00:00, 15.00it/s, train_loss=421.0]  "
     ]
    },
    {
     "name": "stderr",
     "output_type": "stream",
     "text": [
      "`Trainer.fit` stopped: `max_epochs=100` reached.\n"
     ]
    },
    {
     "name": "stdout",
     "output_type": "stream",
     "text": [
      "Epoch 99: 100%|██████████| 11/11 [00:00<00:00, 14.70it/s, train_loss=421.0]"
     ]
    },
    {
     "name": "stderr",
     "output_type": "stream",
     "text": [
      "GPU available: False, used: False\n",
      "TPU available: False, using: 0 TPU cores\n",
      "IPU available: False, using: 0 IPUs\n",
      "HPU available: False, using: 0 HPUs\n"
     ]
    },
    {
     "name": "stdout",
     "output_type": "stream",
     "text": [
      "\n",
      "Predicting DataLoader 0: 100%|██████████| 1/1 [00:00<00:00, 163.95it/s]"
     ]
    },
    {
     "name": "stderr",
     "output_type": "stream",
     "text": [
      " 76%|███████▌  | 76/100 [1:26:49<27:27, 68.63s/it]GPU available: False, used: False\n"
     ]
    },
    {
     "name": "stdout",
     "output_type": "stream",
     "text": [
      "\n"
     ]
    },
    {
     "name": "stderr",
     "output_type": "stream",
     "text": [
      "TPU available: False, using: 0 TPU cores\n",
      "IPU available: False, using: 0 IPUs\n",
      "HPU available: False, using: 0 HPUs\n",
      "\n",
      "  | Name            | Type             | Params\n",
      "-----------------------------------------------------\n",
      "0 | criterion       | MSELoss          | 0     \n",
      "1 | train_metrics   | MetricCollection | 0     \n",
      "2 | val_metrics     | MetricCollection | 0     \n",
      "3 | decomposition   | _SeriesDecomp    | 0     \n",
      "4 | linear_seasonal | Linear           | 3.6 K \n",
      "5 | linear_trend    | Linear           | 3.6 K \n",
      "-----------------------------------------------------\n",
      "7.2 K     Trainable params\n",
      "0         Non-trainable params\n",
      "7.2 K     Total params\n",
      "0.029     Total estimated model params size (MB)\n"
     ]
    },
    {
     "name": "stdout",
     "output_type": "stream",
     "text": [
      "Epoch 99: 100%|██████████| 11/11 [00:00<00:00, 18.31it/s, train_loss=323.0]  "
     ]
    },
    {
     "name": "stderr",
     "output_type": "stream",
     "text": [
      "`Trainer.fit` stopped: `max_epochs=100` reached.\n"
     ]
    },
    {
     "name": "stdout",
     "output_type": "stream",
     "text": [
      "Epoch 99: 100%|██████████| 11/11 [00:00<00:00, 18.31it/s, train_loss=323.0]"
     ]
    },
    {
     "name": "stderr",
     "output_type": "stream",
     "text": [
      "GPU available: False, used: False\n",
      "TPU available: False, using: 0 TPU cores\n",
      "IPU available: False, using: 0 IPUs\n",
      "HPU available: False, using: 0 HPUs\n"
     ]
    },
    {
     "name": "stdout",
     "output_type": "stream",
     "text": [
      "\n",
      "Predicting DataLoader 0: 100%|██████████| 1/1 [00:00<00:00, 84.75it/s]"
     ]
    },
    {
     "name": "stderr",
     "output_type": "stream",
     "text": [
      " 77%|███████▋  | 77/100 [1:27:49<25:22, 66.19s/it]GPU available: False, used: False\n",
      "TPU available: False, using: 0 TPU cores\n",
      "IPU available: False, using: 0 IPUs\n",
      "HPU available: False, using: 0 HPUs\n",
      "\n",
      "  | Name            | Type             | Params\n",
      "-----------------------------------------------------\n",
      "0 | criterion       | MSELoss          | 0     \n",
      "1 | train_metrics   | MetricCollection | 0     \n",
      "2 | val_metrics     | MetricCollection | 0     \n",
      "3 | decomposition   | _SeriesDecomp    | 0     \n",
      "4 | linear_seasonal | Linear           | 3.6 K \n",
      "5 | linear_trend    | Linear           | 3.6 K \n",
      "-----------------------------------------------------\n",
      "7.2 K     Trainable params\n",
      "0         Non-trainable params\n",
      "7.2 K     Total params\n",
      "0.029     Total estimated model params size (MB)\n"
     ]
    },
    {
     "name": "stdout",
     "output_type": "stream",
     "text": [
      "\n",
      "Epoch 99: 100%|██████████| 11/11 [00:00<00:00, 14.67it/s, train_loss=546.0]  "
     ]
    },
    {
     "name": "stderr",
     "output_type": "stream",
     "text": [
      "`Trainer.fit` stopped: `max_epochs=100` reached.\n"
     ]
    },
    {
     "name": "stdout",
     "output_type": "stream",
     "text": [
      "Epoch 99: 100%|██████████| 11/11 [00:00<00:00, 14.37it/s, train_loss=546.0]"
     ]
    },
    {
     "name": "stderr",
     "output_type": "stream",
     "text": [
      "GPU available: False, used: False\n",
      "TPU available: False, using: 0 TPU cores\n",
      "IPU available: False, using: 0 IPUs\n",
      "HPU available: False, using: 0 HPUs\n"
     ]
    },
    {
     "name": "stdout",
     "output_type": "stream",
     "text": [
      "\n",
      "Predicting DataLoader 0: 100%|██████████| 1/1 [00:00<?, ?it/s]"
     ]
    },
    {
     "name": "stderr",
     "output_type": "stream",
     "text": [
      " 78%|███████▊  | 78/100 [1:28:56<24:20, 66.40s/it]GPU available: False, used: False\n"
     ]
    },
    {
     "name": "stdout",
     "output_type": "stream",
     "text": [
      "\n"
     ]
    },
    {
     "name": "stderr",
     "output_type": "stream",
     "text": [
      "TPU available: False, using: 0 TPU cores\n",
      "IPU available: False, using: 0 IPUs\n",
      "HPU available: False, using: 0 HPUs\n",
      "\n",
      "  | Name            | Type             | Params\n",
      "-----------------------------------------------------\n",
      "0 | criterion       | MSELoss          | 0     \n",
      "1 | train_metrics   | MetricCollection | 0     \n",
      "2 | val_metrics     | MetricCollection | 0     \n",
      "3 | decomposition   | _SeriesDecomp    | 0     \n",
      "4 | linear_seasonal | Linear           | 3.6 K \n",
      "5 | linear_trend    | Linear           | 3.6 K \n",
      "-----------------------------------------------------\n",
      "7.2 K     Trainable params\n",
      "0         Non-trainable params\n",
      "7.2 K     Total params\n",
      "0.029     Total estimated model params size (MB)\n"
     ]
    },
    {
     "name": "stdout",
     "output_type": "stream",
     "text": [
      "Epoch 99: 100%|██████████| 11/11 [00:00<00:00, 20.64it/s, train_loss=399.0]  "
     ]
    },
    {
     "name": "stderr",
     "output_type": "stream",
     "text": [
      "`Trainer.fit` stopped: `max_epochs=100` reached.\n"
     ]
    },
    {
     "name": "stdout",
     "output_type": "stream",
     "text": [
      "Epoch 99: 100%|██████████| 11/11 [00:00<00:00, 20.04it/s, train_loss=399.0]"
     ]
    },
    {
     "name": "stderr",
     "output_type": "stream",
     "text": [
      "GPU available: False, used: False\n",
      "TPU available: False, using: 0 TPU cores\n",
      "IPU available: False, using: 0 IPUs\n",
      "HPU available: False, using: 0 HPUs\n"
     ]
    },
    {
     "name": "stdout",
     "output_type": "stream",
     "text": [
      "\n",
      "Predicting DataLoader 0: 100%|██████████| 1/1 [00:00<00:00, 54.40it/s]"
     ]
    },
    {
     "name": "stderr",
     "output_type": "stream",
     "text": [
      " 79%|███████▉  | 79/100 [1:30:08<23:51, 68.15s/it]GPU available: False, used: False\n",
      "TPU available: False, using: 0 TPU cores\n",
      "IPU available: False, using: 0 IPUs\n",
      "HPU available: False, using: 0 HPUs\n",
      "\n",
      "  | Name            | Type             | Params\n",
      "-----------------------------------------------------\n",
      "0 | criterion       | MSELoss          | 0     \n",
      "1 | train_metrics   | MetricCollection | 0     \n",
      "2 | val_metrics     | MetricCollection | 0     \n",
      "3 | decomposition   | _SeriesDecomp    | 0     \n",
      "4 | linear_seasonal | Linear           | 3.6 K \n",
      "5 | linear_trend    | Linear           | 3.6 K \n",
      "-----------------------------------------------------\n",
      "7.2 K     Trainable params\n",
      "0         Non-trainable params\n",
      "7.2 K     Total params\n",
      "0.029     Total estimated model params size (MB)\n"
     ]
    },
    {
     "name": "stdout",
     "output_type": "stream",
     "text": [
      "\n",
      "Epoch 99: 100%|██████████| 11/11 [00:00<00:00, 16.57it/s, train_loss=431.0]  "
     ]
    },
    {
     "name": "stderr",
     "output_type": "stream",
     "text": [
      "`Trainer.fit` stopped: `max_epochs=100` reached.\n"
     ]
    },
    {
     "name": "stdout",
     "output_type": "stream",
     "text": [
      "Epoch 99: 100%|██████████| 11/11 [00:00<00:00, 16.57it/s, train_loss=431.0]\n"
     ]
    },
    {
     "name": "stderr",
     "output_type": "stream",
     "text": [
      "GPU available: False, used: False\n",
      "TPU available: False, using: 0 TPU cores\n",
      "IPU available: False, using: 0 IPUs\n",
      "HPU available: False, using: 0 HPUs\n"
     ]
    },
    {
     "name": "stdout",
     "output_type": "stream",
     "text": [
      "Predicting DataLoader 0: 100%|██████████| 1/1 [00:00<00:00, 64.00it/s]"
     ]
    },
    {
     "name": "stderr",
     "output_type": "stream",
     "text": [
      " 80%|████████  | 80/100 [1:31:09<21:57, 65.88s/it]GPU available: False, used: False\n"
     ]
    },
    {
     "name": "stdout",
     "output_type": "stream",
     "text": [
      "\n"
     ]
    },
    {
     "name": "stderr",
     "output_type": "stream",
     "text": [
      "TPU available: False, using: 0 TPU cores\n",
      "IPU available: False, using: 0 IPUs\n",
      "HPU available: False, using: 0 HPUs\n",
      "\n",
      "  | Name            | Type             | Params\n",
      "-----------------------------------------------------\n",
      "0 | criterion       | MSELoss          | 0     \n",
      "1 | train_metrics   | MetricCollection | 0     \n",
      "2 | val_metrics     | MetricCollection | 0     \n",
      "3 | decomposition   | _SeriesDecomp    | 0     \n",
      "4 | linear_seasonal | Linear           | 3.6 K \n",
      "5 | linear_trend    | Linear           | 3.6 K \n",
      "-----------------------------------------------------\n",
      "7.2 K     Trainable params\n",
      "0         Non-trainable params\n",
      "7.2 K     Total params\n",
      "0.029     Total estimated model params size (MB)\n"
     ]
    },
    {
     "name": "stdout",
     "output_type": "stream",
     "text": [
      "Epoch 99: 100%|██████████| 11/11 [00:00<00:00, 15.34it/s, train_loss=369.0]  "
     ]
    },
    {
     "name": "stderr",
     "output_type": "stream",
     "text": [
      "`Trainer.fit` stopped: `max_epochs=100` reached.\n"
     ]
    },
    {
     "name": "stdout",
     "output_type": "stream",
     "text": [
      "Epoch 99: 100%|██████████| 11/11 [00:00<00:00, 15.34it/s, train_loss=369.0]\n"
     ]
    },
    {
     "name": "stderr",
     "output_type": "stream",
     "text": [
      "GPU available: False, used: False\n",
      "TPU available: False, using: 0 TPU cores\n",
      "IPU available: False, using: 0 IPUs\n",
      "HPU available: False, using: 0 HPUs\n"
     ]
    },
    {
     "name": "stdout",
     "output_type": "stream",
     "text": [
      "Predicting DataLoader 0: 100%|██████████| 1/1 [00:00<00:00, 70.26it/s]"
     ]
    },
    {
     "name": "stderr",
     "output_type": "stream",
     "text": [
      " 81%|████████  | 81/100 [1:32:24<21:41, 68.48s/it]"
     ]
    },
    {
     "name": "stdout",
     "output_type": "stream",
     "text": [
      "\n"
     ]
    },
    {
     "name": "stderr",
     "output_type": "stream",
     "text": [
      "GPU available: False, used: False\n",
      "TPU available: False, using: 0 TPU cores\n",
      "IPU available: False, using: 0 IPUs\n",
      "HPU available: False, using: 0 HPUs\n",
      "\n",
      "  | Name            | Type             | Params\n",
      "-----------------------------------------------------\n",
      "0 | criterion       | MSELoss          | 0     \n",
      "1 | train_metrics   | MetricCollection | 0     \n",
      "2 | val_metrics     | MetricCollection | 0     \n",
      "3 | decomposition   | _SeriesDecomp    | 0     \n",
      "4 | linear_seasonal | Linear           | 3.6 K \n",
      "5 | linear_trend    | Linear           | 3.6 K \n",
      "-----------------------------------------------------\n",
      "7.2 K     Trainable params\n",
      "0         Non-trainable params\n",
      "7.2 K     Total params\n",
      "0.029     Total estimated model params size (MB)\n"
     ]
    },
    {
     "name": "stdout",
     "output_type": "stream",
     "text": [
      "Epoch 99: 100%|██████████| 11/11 [00:00<00:00, 19.40it/s, train_loss=411.0]  "
     ]
    },
    {
     "name": "stderr",
     "output_type": "stream",
     "text": [
      "`Trainer.fit` stopped: `max_epochs=100` reached.\n"
     ]
    },
    {
     "name": "stdout",
     "output_type": "stream",
     "text": [
      "Epoch 99: 100%|██████████| 11/11 [00:00<00:00, 19.34it/s, train_loss=411.0]"
     ]
    },
    {
     "name": "stderr",
     "output_type": "stream",
     "text": [
      "GPU available: False, used: False\n",
      "TPU available: False, using: 0 TPU cores\n",
      "IPU available: False, using: 0 IPUs\n",
      "HPU available: False, using: 0 HPUs\n"
     ]
    },
    {
     "name": "stdout",
     "output_type": "stream",
     "text": [
      "\n",
      "Predicting DataLoader 0: 100%|██████████| 1/1 [00:00<00:00, 259.77it/s]"
     ]
    },
    {
     "name": "stderr",
     "output_type": "stream",
     "text": [
      " 82%|████████▏ | 82/100 [1:33:25<19:55, 66.41s/it]GPU available: False, used: False\n",
      "TPU available: False, using: 0 TPU cores\n",
      "IPU available: False, using: 0 IPUs\n",
      "HPU available: False, using: 0 HPUs\n",
      "\n",
      "  | Name            | Type             | Params\n",
      "-----------------------------------------------------\n",
      "0 | criterion       | MSELoss          | 0     \n",
      "1 | train_metrics   | MetricCollection | 0     \n",
      "2 | val_metrics     | MetricCollection | 0     \n",
      "3 | decomposition   | _SeriesDecomp    | 0     \n",
      "4 | linear_seasonal | Linear           | 3.6 K \n",
      "5 | linear_trend    | Linear           | 3.6 K \n",
      "-----------------------------------------------------\n",
      "7.2 K     Trainable params\n",
      "0         Non-trainable params\n",
      "7.2 K     Total params\n",
      "0.029     Total estimated model params size (MB)\n"
     ]
    },
    {
     "name": "stdout",
     "output_type": "stream",
     "text": [
      "\n",
      "Epoch 99: 100%|██████████| 11/11 [00:00<00:00, 13.78it/s, train_loss=364.0]  "
     ]
    },
    {
     "name": "stderr",
     "output_type": "stream",
     "text": [
      "`Trainer.fit` stopped: `max_epochs=100` reached.\n"
     ]
    },
    {
     "name": "stdout",
     "output_type": "stream",
     "text": [
      "Epoch 99: 100%|██████████| 11/11 [00:00<00:00, 13.75it/s, train_loss=364.0]"
     ]
    },
    {
     "name": "stderr",
     "output_type": "stream",
     "text": [
      "GPU available: False, used: False\n"
     ]
    },
    {
     "name": "stdout",
     "output_type": "stream",
     "text": [
      "\n"
     ]
    },
    {
     "name": "stderr",
     "output_type": "stream",
     "text": [
      "TPU available: False, using: 0 TPU cores\n",
      "IPU available: False, using: 0 IPUs\n",
      "HPU available: False, using: 0 HPUs\n"
     ]
    },
    {
     "name": "stdout",
     "output_type": "stream",
     "text": [
      "Predicting DataLoader 0: 100%|██████████| 1/1 [00:00<?, ?it/s]"
     ]
    },
    {
     "name": "stderr",
     "output_type": "stream",
     "text": [
      " 83%|████████▎ | 83/100 [1:34:31<18:44, 66.16s/it]"
     ]
    },
    {
     "name": "stdout",
     "output_type": "stream",
     "text": [
      "\n"
     ]
    },
    {
     "name": "stderr",
     "output_type": "stream",
     "text": [
      "GPU available: False, used: False\n",
      "TPU available: False, using: 0 TPU cores\n",
      "IPU available: False, using: 0 IPUs\n",
      "HPU available: False, using: 0 HPUs\n",
      "\n",
      "  | Name            | Type             | Params\n",
      "-----------------------------------------------------\n",
      "0 | criterion       | MSELoss          | 0     \n",
      "1 | train_metrics   | MetricCollection | 0     \n",
      "2 | val_metrics     | MetricCollection | 0     \n",
      "3 | decomposition   | _SeriesDecomp    | 0     \n",
      "4 | linear_seasonal | Linear           | 3.6 K \n",
      "5 | linear_trend    | Linear           | 3.6 K \n",
      "-----------------------------------------------------\n",
      "7.2 K     Trainable params\n",
      "0         Non-trainable params\n",
      "7.2 K     Total params\n",
      "0.029     Total estimated model params size (MB)\n"
     ]
    },
    {
     "name": "stdout",
     "output_type": "stream",
     "text": [
      "Epoch 99: 100%|██████████| 11/11 [00:00<00:00, 18.91it/s, train_loss=426.0] "
     ]
    },
    {
     "name": "stderr",
     "output_type": "stream",
     "text": [
      "`Trainer.fit` stopped: `max_epochs=100` reached.\n"
     ]
    },
    {
     "name": "stdout",
     "output_type": "stream",
     "text": [
      "Epoch 99: 100%|██████████| 11/11 [00:00<00:00, 18.91it/s, train_loss=426.0]"
     ]
    },
    {
     "name": "stderr",
     "output_type": "stream",
     "text": [
      "GPU available: False, used: False\n",
      "TPU available: False, using: 0 TPU cores\n",
      "IPU available: False, using: 0 IPUs\n",
      "HPU available: False, using: 0 HPUs\n"
     ]
    },
    {
     "name": "stdout",
     "output_type": "stream",
     "text": [
      "\n",
      "Predicting DataLoader 0: 100%|██████████| 1/1 [00:00<00:00, 31.81it/s]"
     ]
    },
    {
     "name": "stderr",
     "output_type": "stream",
     "text": [
      " 84%|████████▍ | 84/100 [1:35:44<18:12, 68.29s/it]GPU available: False, used: False\n"
     ]
    },
    {
     "name": "stdout",
     "output_type": "stream",
     "text": [
      "\n"
     ]
    },
    {
     "name": "stderr",
     "output_type": "stream",
     "text": [
      "TPU available: False, using: 0 TPU cores\n",
      "IPU available: False, using: 0 IPUs\n",
      "HPU available: False, using: 0 HPUs\n",
      "\n",
      "  | Name            | Type             | Params\n",
      "-----------------------------------------------------\n",
      "0 | criterion       | MSELoss          | 0     \n",
      "1 | train_metrics   | MetricCollection | 0     \n",
      "2 | val_metrics     | MetricCollection | 0     \n",
      "3 | decomposition   | _SeriesDecomp    | 0     \n",
      "4 | linear_seasonal | Linear           | 3.6 K \n",
      "5 | linear_trend    | Linear           | 3.6 K \n",
      "-----------------------------------------------------\n",
      "7.2 K     Trainable params\n",
      "0         Non-trainable params\n",
      "7.2 K     Total params\n",
      "0.029     Total estimated model params size (MB)\n"
     ]
    },
    {
     "name": "stdout",
     "output_type": "stream",
     "text": [
      "Epoch 99: 100%|██████████| 11/11 [00:00<00:00, 16.90it/s, train_loss=307.0]  "
     ]
    },
    {
     "name": "stderr",
     "output_type": "stream",
     "text": [
      "`Trainer.fit` stopped: `max_epochs=100` reached.\n"
     ]
    },
    {
     "name": "stdout",
     "output_type": "stream",
     "text": [
      "Epoch 99: 100%|██████████| 11/11 [00:00<00:00, 16.90it/s, train_loss=307.0]\n"
     ]
    },
    {
     "name": "stderr",
     "output_type": "stream",
     "text": [
      "GPU available: False, used: False\n",
      "TPU available: False, using: 0 TPU cores\n",
      "IPU available: False, using: 0 IPUs\n",
      "HPU available: False, using: 0 HPUs\n"
     ]
    },
    {
     "name": "stdout",
     "output_type": "stream",
     "text": [
      "Predicting DataLoader 0: 100%|██████████| 1/1 [00:00<00:00, 200.00it/s]"
     ]
    },
    {
     "name": "stderr",
     "output_type": "stream",
     "text": [
      " 85%|████████▌ | 85/100 [1:36:44<16:28, 65.91s/it]GPU available: False, used: False\n"
     ]
    },
    {
     "name": "stdout",
     "output_type": "stream",
     "text": [
      "\n"
     ]
    },
    {
     "name": "stderr",
     "output_type": "stream",
     "text": [
      "TPU available: False, using: 0 TPU cores\n",
      "IPU available: False, using: 0 IPUs\n",
      "HPU available: False, using: 0 HPUs\n",
      "\n",
      "  | Name            | Type             | Params\n",
      "-----------------------------------------------------\n",
      "0 | criterion       | MSELoss          | 0     \n",
      "1 | train_metrics   | MetricCollection | 0     \n",
      "2 | val_metrics     | MetricCollection | 0     \n",
      "3 | decomposition   | _SeriesDecomp    | 0     \n",
      "4 | linear_seasonal | Linear           | 3.6 K \n",
      "5 | linear_trend    | Linear           | 3.6 K \n",
      "-----------------------------------------------------\n",
      "7.2 K     Trainable params\n",
      "0         Non-trainable params\n",
      "7.2 K     Total params\n",
      "0.029     Total estimated model params size (MB)\n"
     ]
    },
    {
     "name": "stdout",
     "output_type": "stream",
     "text": [
      "Epoch 99: 100%|██████████| 11/11 [00:00<00:00, 13.69it/s, train_loss=306.0]  "
     ]
    },
    {
     "name": "stderr",
     "output_type": "stream",
     "text": [
      "`Trainer.fit` stopped: `max_epochs=100` reached.\n"
     ]
    },
    {
     "name": "stdout",
     "output_type": "stream",
     "text": [
      "Epoch 99: 100%|██████████| 11/11 [00:00<00:00, 13.69it/s, train_loss=306.0]"
     ]
    },
    {
     "name": "stderr",
     "output_type": "stream",
     "text": [
      "GPU available: False, used: False\n",
      "TPU available: False, using: 0 TPU cores\n",
      "IPU available: False, using: 0 IPUs\n",
      "HPU available: False, using: 0 HPUs\n"
     ]
    },
    {
     "name": "stdout",
     "output_type": "stream",
     "text": [
      "\n",
      "Predicting DataLoader 0: 100%|██████████| 1/1 [00:00<?, ?it/s]"
     ]
    },
    {
     "name": "stderr",
     "output_type": "stream",
     "text": [
      " 86%|████████▌ | 86/100 [1:37:58<15:54, 68.20s/it]"
     ]
    },
    {
     "name": "stdout",
     "output_type": "stream",
     "text": [
      "\n"
     ]
    },
    {
     "name": "stderr",
     "output_type": "stream",
     "text": [
      "GPU available: False, used: False\n",
      "TPU available: False, using: 0 TPU cores\n",
      "IPU available: False, using: 0 IPUs\n",
      "HPU available: False, using: 0 HPUs\n",
      "\n",
      "  | Name            | Type             | Params\n",
      "-----------------------------------------------------\n",
      "0 | criterion       | MSELoss          | 0     \n",
      "1 | train_metrics   | MetricCollection | 0     \n",
      "2 | val_metrics     | MetricCollection | 0     \n",
      "3 | decomposition   | _SeriesDecomp    | 0     \n",
      "4 | linear_seasonal | Linear           | 3.6 K \n",
      "5 | linear_trend    | Linear           | 3.6 K \n",
      "-----------------------------------------------------\n",
      "7.2 K     Trainable params\n",
      "0         Non-trainable params\n",
      "7.2 K     Total params\n",
      "0.029     Total estimated model params size (MB)\n"
     ]
    },
    {
     "name": "stdout",
     "output_type": "stream",
     "text": [
      "Epoch 99: 100%|██████████| 11/11 [00:00<00:00, 18.85it/s, train_loss=409.0]  "
     ]
    },
    {
     "name": "stderr",
     "output_type": "stream",
     "text": [
      "`Trainer.fit` stopped: `max_epochs=100` reached.\n"
     ]
    },
    {
     "name": "stdout",
     "output_type": "stream",
     "text": [
      "Epoch 99: 100%|██████████| 11/11 [00:00<00:00, 18.85it/s, train_loss=409.0]"
     ]
    },
    {
     "name": "stderr",
     "output_type": "stream",
     "text": [
      "GPU available: False, used: False\n"
     ]
    },
    {
     "name": "stdout",
     "output_type": "stream",
     "text": [
      "\n"
     ]
    },
    {
     "name": "stderr",
     "output_type": "stream",
     "text": [
      "TPU available: False, using: 0 TPU cores\n",
      "IPU available: False, using: 0 IPUs\n",
      "HPU available: False, using: 0 HPUs\n"
     ]
    },
    {
     "name": "stdout",
     "output_type": "stream",
     "text": [
      "Predicting DataLoader 0: 100%|██████████| 1/1 [00:00<00:00, 156.31it/s]"
     ]
    },
    {
     "name": "stderr",
     "output_type": "stream",
     "text": [
      " 87%|████████▋ | 87/100 [1:39:01<14:27, 66.71s/it]GPU available: False, used: False\n",
      "TPU available: False, using: 0 TPU cores\n",
      "IPU available: False, using: 0 IPUs\n",
      "HPU available: False, using: 0 HPUs\n",
      "\n",
      "  | Name            | Type             | Params\n",
      "-----------------------------------------------------\n",
      "0 | criterion       | MSELoss          | 0     \n",
      "1 | train_metrics   | MetricCollection | 0     \n",
      "2 | val_metrics     | MetricCollection | 0     \n",
      "3 | decomposition   | _SeriesDecomp    | 0     \n",
      "4 | linear_seasonal | Linear           | 3.6 K \n",
      "5 | linear_trend    | Linear           | 3.6 K \n",
      "-----------------------------------------------------\n",
      "7.2 K     Trainable params\n",
      "0         Non-trainable params\n",
      "7.2 K     Total params\n",
      "0.029     Total estimated model params size (MB)\n"
     ]
    },
    {
     "name": "stdout",
     "output_type": "stream",
     "text": [
      "\n",
      "Epoch 99: 100%|██████████| 11/11 [00:00<00:00, 14.91it/s, train_loss=496.0]  "
     ]
    },
    {
     "name": "stderr",
     "output_type": "stream",
     "text": [
      "`Trainer.fit` stopped: `max_epochs=100` reached.\n"
     ]
    },
    {
     "name": "stdout",
     "output_type": "stream",
     "text": [
      "Epoch 99: 100%|██████████| 11/11 [00:00<00:00, 14.91it/s, train_loss=496.0]"
     ]
    },
    {
     "name": "stderr",
     "output_type": "stream",
     "text": [
      "GPU available: False, used: False\n",
      "TPU available: False, using: 0 TPU cores\n",
      "IPU available: False, using: 0 IPUs\n",
      "HPU available: False, using: 0 HPUs\n"
     ]
    },
    {
     "name": "stdout",
     "output_type": "stream",
     "text": [
      "\n",
      "Predicting DataLoader 0: 100%|██████████| 1/1 [00:00<00:00, 146.58it/s]"
     ]
    },
    {
     "name": "stderr",
     "output_type": "stream",
     "text": [
      " 88%|████████▊ | 88/100 [1:40:06<13:12, 66.05s/it]GPU available: False, used: False\n"
     ]
    },
    {
     "name": "stdout",
     "output_type": "stream",
     "text": [
      "\n"
     ]
    },
    {
     "name": "stderr",
     "output_type": "stream",
     "text": [
      "TPU available: False, using: 0 TPU cores\n",
      "IPU available: False, using: 0 IPUs\n",
      "HPU available: False, using: 0 HPUs\n",
      "\n",
      "  | Name            | Type             | Params\n",
      "-----------------------------------------------------\n",
      "0 | criterion       | MSELoss          | 0     \n",
      "1 | train_metrics   | MetricCollection | 0     \n",
      "2 | val_metrics     | MetricCollection | 0     \n",
      "3 | decomposition   | _SeriesDecomp    | 0     \n",
      "4 | linear_seasonal | Linear           | 3.6 K \n",
      "5 | linear_trend    | Linear           | 3.6 K \n",
      "-----------------------------------------------------\n",
      "7.2 K     Trainable params\n",
      "0         Non-trainable params\n",
      "7.2 K     Total params\n",
      "0.029     Total estimated model params size (MB)\n"
     ]
    },
    {
     "name": "stdout",
     "output_type": "stream",
     "text": [
      "Epoch 99: 100%|██████████| 11/11 [00:00<00:00, 17.38it/s, train_loss=377.0] "
     ]
    },
    {
     "name": "stderr",
     "output_type": "stream",
     "text": [
      "`Trainer.fit` stopped: `max_epochs=100` reached.\n"
     ]
    },
    {
     "name": "stdout",
     "output_type": "stream",
     "text": [
      "Epoch 99: 100%|██████████| 11/11 [00:00<00:00, 17.38it/s, train_loss=377.0]"
     ]
    },
    {
     "name": "stderr",
     "output_type": "stream",
     "text": [
      "GPU available: False, used: False\n"
     ]
    },
    {
     "name": "stdout",
     "output_type": "stream",
     "text": [
      "\n"
     ]
    },
    {
     "name": "stderr",
     "output_type": "stream",
     "text": [
      "TPU available: False, using: 0 TPU cores\n",
      "IPU available: False, using: 0 IPUs\n",
      "HPU available: False, using: 0 HPUs\n"
     ]
    },
    {
     "name": "stdout",
     "output_type": "stream",
     "text": [
      "Predicting DataLoader 0: 100%|██████████| 1/1 [00:00<?, ?it/s]"
     ]
    },
    {
     "name": "stderr",
     "output_type": "stream",
     "text": [
      " 89%|████████▉ | 89/100 [1:41:19<12:30, 68.26s/it]GPU available: False, used: False\n",
      "TPU available: False, using: 0 TPU cores\n",
      "IPU available: False, using: 0 IPUs\n",
      "HPU available: False, using: 0 HPUs\n",
      "\n",
      "  | Name            | Type             | Params\n",
      "-----------------------------------------------------\n",
      "0 | criterion       | MSELoss          | 0     \n",
      "1 | train_metrics   | MetricCollection | 0     \n",
      "2 | val_metrics     | MetricCollection | 0     \n",
      "3 | decomposition   | _SeriesDecomp    | 0     \n",
      "4 | linear_seasonal | Linear           | 3.6 K \n",
      "5 | linear_trend    | Linear           | 3.6 K \n",
      "-----------------------------------------------------\n",
      "7.2 K     Trainable params\n",
      "0         Non-trainable params\n",
      "7.2 K     Total params\n",
      "0.029     Total estimated model params size (MB)\n"
     ]
    },
    {
     "name": "stdout",
     "output_type": "stream",
     "text": [
      "\n",
      "Epoch 99: 100%|██████████| 11/11 [00:00<00:00, 17.33it/s, train_loss=416.0]  "
     ]
    },
    {
     "name": "stderr",
     "output_type": "stream",
     "text": [
      "`Trainer.fit` stopped: `max_epochs=100` reached.\n"
     ]
    },
    {
     "name": "stdout",
     "output_type": "stream",
     "text": [
      "Epoch 99: 100%|██████████| 11/11 [00:00<00:00, 17.33it/s, train_loss=416.0]"
     ]
    },
    {
     "name": "stderr",
     "output_type": "stream",
     "text": [
      "GPU available: False, used: False\n"
     ]
    },
    {
     "name": "stdout",
     "output_type": "stream",
     "text": [
      "\n"
     ]
    },
    {
     "name": "stderr",
     "output_type": "stream",
     "text": [
      "TPU available: False, using: 0 TPU cores\n",
      "IPU available: False, using: 0 IPUs\n",
      "HPU available: False, using: 0 HPUs\n"
     ]
    },
    {
     "name": "stdout",
     "output_type": "stream",
     "text": [
      "Predicting DataLoader 0: 100%|██████████| 1/1 [00:00<00:00, 305.24it/s]"
     ]
    },
    {
     "name": "stderr",
     "output_type": "stream",
     "text": [
      " 90%|█████████ | 90/100 [1:42:20<11:01, 66.10s/it]GPU available: False, used: False\n",
      "TPU available: False, using: 0 TPU cores\n",
      "IPU available: False, using: 0 IPUs\n",
      "HPU available: False, using: 0 HPUs\n",
      "\n",
      "  | Name            | Type             | Params\n",
      "-----------------------------------------------------\n",
      "0 | criterion       | MSELoss          | 0     \n",
      "1 | train_metrics   | MetricCollection | 0     \n",
      "2 | val_metrics     | MetricCollection | 0     \n",
      "3 | decomposition   | _SeriesDecomp    | 0     \n",
      "4 | linear_seasonal | Linear           | 3.6 K \n",
      "5 | linear_trend    | Linear           | 3.6 K \n",
      "-----------------------------------------------------\n",
      "7.2 K     Trainable params\n",
      "0         Non-trainable params\n",
      "7.2 K     Total params\n",
      "0.029     Total estimated model params size (MB)\n"
     ]
    },
    {
     "name": "stdout",
     "output_type": "stream",
     "text": [
      "\n",
      "Epoch 99: 100%|██████████| 11/11 [00:00<00:00, 14.36it/s, train_loss=383.0]  "
     ]
    },
    {
     "name": "stderr",
     "output_type": "stream",
     "text": [
      "`Trainer.fit` stopped: `max_epochs=100` reached.\n"
     ]
    },
    {
     "name": "stdout",
     "output_type": "stream",
     "text": [
      "Epoch 99: 100%|██████████| 11/11 [00:00<00:00, 14.36it/s, train_loss=383.0]"
     ]
    },
    {
     "name": "stderr",
     "output_type": "stream",
     "text": [
      "GPU available: False, used: False\n",
      "TPU available: False, using: 0 TPU cores\n",
      "IPU available: False, using: 0 IPUs\n",
      "HPU available: False, using: 0 HPUs\n"
     ]
    },
    {
     "name": "stdout",
     "output_type": "stream",
     "text": [
      "\n",
      "Predicting DataLoader 0: 100%|██████████| 1/1 [00:00<00:00, 569.34it/s]"
     ]
    },
    {
     "name": "stderr",
     "output_type": "stream",
     "text": [
      " 91%|█████████ | 91/100 [1:43:33<10:13, 68.19s/it]GPU available: False, used: False\n",
      "TPU available: False, using: 0 TPU cores\n",
      "IPU available: False, using: 0 IPUs\n",
      "HPU available: False, using: 0 HPUs\n",
      "\n",
      "  | Name            | Type             | Params\n",
      "-----------------------------------------------------\n",
      "0 | criterion       | MSELoss          | 0     \n",
      "1 | train_metrics   | MetricCollection | 0     \n",
      "2 | val_metrics     | MetricCollection | 0     \n",
      "3 | decomposition   | _SeriesDecomp    | 0     \n",
      "4 | linear_seasonal | Linear           | 3.6 K \n",
      "5 | linear_trend    | Linear           | 3.6 K \n",
      "-----------------------------------------------------\n",
      "7.2 K     Trainable params\n",
      "0         Non-trainable params\n",
      "7.2 K     Total params\n",
      "0.029     Total estimated model params size (MB)\n"
     ]
    },
    {
     "name": "stdout",
     "output_type": "stream",
     "text": [
      "\n",
      "Epoch 99: 100%|██████████| 11/11 [00:00<00:00, 18.60it/s, train_loss=381.0]  "
     ]
    },
    {
     "name": "stderr",
     "output_type": "stream",
     "text": [
      "`Trainer.fit` stopped: `max_epochs=100` reached.\n"
     ]
    },
    {
     "name": "stdout",
     "output_type": "stream",
     "text": [
      "Epoch 99: 100%|██████████| 11/11 [00:00<00:00, 18.60it/s, train_loss=381.0]"
     ]
    },
    {
     "name": "stderr",
     "output_type": "stream",
     "text": [
      "GPU available: False, used: False\n"
     ]
    },
    {
     "name": "stdout",
     "output_type": "stream",
     "text": [
      "\n"
     ]
    },
    {
     "name": "stderr",
     "output_type": "stream",
     "text": [
      "TPU available: False, using: 0 TPU cores\n",
      "IPU available: False, using: 0 IPUs\n",
      "HPU available: False, using: 0 HPUs\n"
     ]
    },
    {
     "name": "stdout",
     "output_type": "stream",
     "text": [
      "Predicting DataLoader 0: 100%|██████████| 1/1 [00:00<00:00, 156.16it/s]"
     ]
    },
    {
     "name": "stderr",
     "output_type": "stream",
     "text": [
      " 92%|█████████▏| 92/100 [1:44:37<08:55, 66.92s/it]GPU available: False, used: False\n",
      "TPU available: False, using: 0 TPU cores\n",
      "IPU available: False, using: 0 IPUs\n",
      "HPU available: False, using: 0 HPUs\n",
      "\n",
      "  | Name            | Type             | Params\n",
      "-----------------------------------------------------\n",
      "0 | criterion       | MSELoss          | 0     \n",
      "1 | train_metrics   | MetricCollection | 0     \n",
      "2 | val_metrics     | MetricCollection | 0     \n",
      "3 | decomposition   | _SeriesDecomp    | 0     \n",
      "4 | linear_seasonal | Linear           | 3.6 K \n",
      "5 | linear_trend    | Linear           | 3.6 K \n",
      "-----------------------------------------------------\n",
      "7.2 K     Trainable params\n",
      "0         Non-trainable params\n",
      "7.2 K     Total params\n",
      "0.029     Total estimated model params size (MB)\n"
     ]
    },
    {
     "name": "stdout",
     "output_type": "stream",
     "text": [
      "\n",
      "Epoch 99: 100%|██████████| 11/11 [00:00<00:00, 16.50it/s, train_loss=439.0]  "
     ]
    },
    {
     "name": "stderr",
     "output_type": "stream",
     "text": [
      "`Trainer.fit` stopped: `max_epochs=100` reached.\n"
     ]
    },
    {
     "name": "stdout",
     "output_type": "stream",
     "text": [
      "Epoch 99: 100%|██████████| 11/11 [00:00<00:00, 16.50it/s, train_loss=439.0]"
     ]
    },
    {
     "name": "stderr",
     "output_type": "stream",
     "text": [
      "GPU available: False, used: False\n"
     ]
    },
    {
     "name": "stdout",
     "output_type": "stream",
     "text": [
      "\n"
     ]
    },
    {
     "name": "stderr",
     "output_type": "stream",
     "text": [
      "TPU available: False, using: 0 TPU cores\n",
      "IPU available: False, using: 0 IPUs\n",
      "HPU available: False, using: 0 HPUs\n"
     ]
    },
    {
     "name": "stdout",
     "output_type": "stream",
     "text": [
      "Predicting DataLoader 0: 100%|██████████| 1/1 [00:00<00:00, 59.14it/s]"
     ]
    },
    {
     "name": "stderr",
     "output_type": "stream",
     "text": [
      " 93%|█████████▎| 93/100 [1:45:41<07:42, 66.01s/it]GPU available: False, used: False\n",
      "TPU available: False, using: 0 TPU cores\n",
      "IPU available: False, using: 0 IPUs\n",
      "HPU available: False, using: 0 HPUs\n",
      "\n",
      "  | Name            | Type             | Params\n",
      "-----------------------------------------------------\n",
      "0 | criterion       | MSELoss          | 0     \n",
      "1 | train_metrics   | MetricCollection | 0     \n",
      "2 | val_metrics     | MetricCollection | 0     \n",
      "3 | decomposition   | _SeriesDecomp    | 0     \n",
      "4 | linear_seasonal | Linear           | 3.6 K \n",
      "5 | linear_trend    | Linear           | 3.6 K \n",
      "-----------------------------------------------------\n",
      "7.2 K     Trainable params\n",
      "0         Non-trainable params\n",
      "7.2 K     Total params\n",
      "0.029     Total estimated model params size (MB)\n"
     ]
    },
    {
     "name": "stdout",
     "output_type": "stream",
     "text": [
      "\n",
      "Epoch 99: 100%|██████████| 11/11 [00:00<00:00, 17.83it/s, train_loss=374.0]  "
     ]
    },
    {
     "name": "stderr",
     "output_type": "stream",
     "text": [
      "`Trainer.fit` stopped: `max_epochs=100` reached.\n"
     ]
    },
    {
     "name": "stdout",
     "output_type": "stream",
     "text": [
      "Epoch 99: 100%|██████████| 11/11 [00:00<00:00, 17.77it/s, train_loss=374.0]"
     ]
    },
    {
     "name": "stderr",
     "output_type": "stream",
     "text": [
      "GPU available: False, used: False\n"
     ]
    },
    {
     "name": "stdout",
     "output_type": "stream",
     "text": [
      "\n"
     ]
    },
    {
     "name": "stderr",
     "output_type": "stream",
     "text": [
      "TPU available: False, using: 0 TPU cores\n",
      "IPU available: False, using: 0 IPUs\n",
      "HPU available: False, using: 0 HPUs\n"
     ]
    },
    {
     "name": "stdout",
     "output_type": "stream",
     "text": [
      "Predicting DataLoader 0: 100%|██████████| 1/1 [00:00<00:00, 368.96it/s]"
     ]
    },
    {
     "name": "stderr",
     "output_type": "stream",
     "text": [
      " 94%|█████████▍| 94/100 [1:46:55<06:50, 68.42s/it]GPU available: False, used: False\n"
     ]
    },
    {
     "name": "stdout",
     "output_type": "stream",
     "text": [
      "\n"
     ]
    },
    {
     "name": "stderr",
     "output_type": "stream",
     "text": [
      "TPU available: False, using: 0 TPU cores\n",
      "IPU available: False, using: 0 IPUs\n",
      "HPU available: False, using: 0 HPUs\n",
      "\n",
      "  | Name            | Type             | Params\n",
      "-----------------------------------------------------\n",
      "0 | criterion       | MSELoss          | 0     \n",
      "1 | train_metrics   | MetricCollection | 0     \n",
      "2 | val_metrics     | MetricCollection | 0     \n",
      "3 | decomposition   | _SeriesDecomp    | 0     \n",
      "4 | linear_seasonal | Linear           | 3.6 K \n",
      "5 | linear_trend    | Linear           | 3.6 K \n",
      "-----------------------------------------------------\n",
      "7.2 K     Trainable params\n",
      "0         Non-trainable params\n",
      "7.2 K     Total params\n",
      "0.029     Total estimated model params size (MB)\n"
     ]
    },
    {
     "name": "stdout",
     "output_type": "stream",
     "text": [
      "Epoch 99: 100%|██████████| 11/11 [00:00<00:00, 17.18it/s, train_loss=485.0]  "
     ]
    },
    {
     "name": "stderr",
     "output_type": "stream",
     "text": [
      "`Trainer.fit` stopped: `max_epochs=100` reached.\n"
     ]
    },
    {
     "name": "stdout",
     "output_type": "stream",
     "text": [
      "Epoch 99: 100%|██████████| 11/11 [00:00<00:00, 17.18it/s, train_loss=485.0]\n"
     ]
    },
    {
     "name": "stderr",
     "output_type": "stream",
     "text": [
      "GPU available: False, used: False\n",
      "TPU available: False, using: 0 TPU cores\n",
      "IPU available: False, using: 0 IPUs\n",
      "HPU available: False, using: 0 HPUs\n"
     ]
    },
    {
     "name": "stdout",
     "output_type": "stream",
     "text": [
      "Predicting DataLoader 0: 100%|██████████| 1/1 [00:00<?, ?it/s]"
     ]
    },
    {
     "name": "stderr",
     "output_type": "stream",
     "text": [
      " 95%|█████████▌| 95/100 [1:47:55<05:29, 65.82s/it]GPU available: False, used: False\n",
      "TPU available: False, using: 0 TPU cores\n"
     ]
    },
    {
     "name": "stdout",
     "output_type": "stream",
     "text": [
      "\n"
     ]
    },
    {
     "name": "stderr",
     "output_type": "stream",
     "text": [
      "IPU available: False, using: 0 IPUs\n",
      "HPU available: False, using: 0 HPUs\n",
      "\n",
      "  | Name            | Type             | Params\n",
      "-----------------------------------------------------\n",
      "0 | criterion       | MSELoss          | 0     \n",
      "1 | train_metrics   | MetricCollection | 0     \n",
      "2 | val_metrics     | MetricCollection | 0     \n",
      "3 | decomposition   | _SeriesDecomp    | 0     \n",
      "4 | linear_seasonal | Linear           | 3.6 K \n",
      "5 | linear_trend    | Linear           | 3.6 K \n",
      "-----------------------------------------------------\n",
      "7.2 K     Trainable params\n",
      "0         Non-trainable params\n",
      "7.2 K     Total params\n",
      "0.029     Total estimated model params size (MB)\n"
     ]
    },
    {
     "name": "stdout",
     "output_type": "stream",
     "text": [
      "Epoch 99: 100%|██████████| 11/11 [00:00<00:00, 13.18it/s, train_loss=415.0]  "
     ]
    },
    {
     "name": "stderr",
     "output_type": "stream",
     "text": [
      "`Trainer.fit` stopped: `max_epochs=100` reached.\n"
     ]
    },
    {
     "name": "stdout",
     "output_type": "stream",
     "text": [
      "Epoch 99: 100%|██████████| 11/11 [00:00<00:00, 12.95it/s, train_loss=415.0]"
     ]
    },
    {
     "name": "stderr",
     "output_type": "stream",
     "text": [
      "GPU available: False, used: False\n",
      "TPU available: False, using: 0 TPU cores\n",
      "IPU available: False, using: 0 IPUs\n",
      "HPU available: False, using: 0 HPUs\n"
     ]
    },
    {
     "name": "stdout",
     "output_type": "stream",
     "text": [
      "\n",
      "Predicting DataLoader 0: 100%|██████████| 1/1 [00:00<?, ?it/s]"
     ]
    },
    {
     "name": "stderr",
     "output_type": "stream",
     "text": [
      " 96%|█████████▌| 96/100 [1:49:07<04:31, 67.77s/it]"
     ]
    },
    {
     "name": "stdout",
     "output_type": "stream",
     "text": [
      "\n"
     ]
    },
    {
     "name": "stderr",
     "output_type": "stream",
     "text": [
      "GPU available: False, used: False\n",
      "TPU available: False, using: 0 TPU cores\n",
      "IPU available: False, using: 0 IPUs\n",
      "HPU available: False, using: 0 HPUs\n",
      "\n",
      "  | Name            | Type             | Params\n",
      "-----------------------------------------------------\n",
      "0 | criterion       | MSELoss          | 0     \n",
      "1 | train_metrics   | MetricCollection | 0     \n",
      "2 | val_metrics     | MetricCollection | 0     \n",
      "3 | decomposition   | _SeriesDecomp    | 0     \n",
      "4 | linear_seasonal | Linear           | 3.6 K \n",
      "5 | linear_trend    | Linear           | 3.6 K \n",
      "-----------------------------------------------------\n",
      "7.2 K     Trainable params\n",
      "0         Non-trainable params\n",
      "7.2 K     Total params\n",
      "0.029     Total estimated model params size (MB)\n"
     ]
    },
    {
     "name": "stdout",
     "output_type": "stream",
     "text": [
      "Epoch 99: 100%|██████████| 11/11 [00:00<00:00, 17.80it/s, train_loss=423.0]  "
     ]
    },
    {
     "name": "stderr",
     "output_type": "stream",
     "text": [
      "`Trainer.fit` stopped: `max_epochs=100` reached.\n"
     ]
    },
    {
     "name": "stdout",
     "output_type": "stream",
     "text": [
      "Epoch 99: 100%|██████████| 11/11 [00:00<00:00, 17.80it/s, train_loss=423.0]"
     ]
    },
    {
     "name": "stderr",
     "output_type": "stream",
     "text": [
      "GPU available: False, used: False\n",
      "TPU available: False, using: 0 TPU cores\n",
      "IPU available: False, using: 0 IPUs\n",
      "HPU available: False, using: 0 HPUs\n"
     ]
    },
    {
     "name": "stdout",
     "output_type": "stream",
     "text": [
      "\n",
      "Predicting DataLoader 0: 100%|██████████| 1/1 [00:00<00:00, 102.13it/s]"
     ]
    },
    {
     "name": "stderr",
     "output_type": "stream",
     "text": [
      " 97%|█████████▋| 97/100 [1:50:12<03:20, 66.91s/it]GPU available: False, used: False\n",
      "TPU available: False, using: 0 TPU cores\n",
      "IPU available: False, using: 0 IPUs\n",
      "HPU available: False, using: 0 HPUs\n",
      "\n",
      "  | Name            | Type             | Params\n",
      "-----------------------------------------------------\n",
      "0 | criterion       | MSELoss          | 0     \n",
      "1 | train_metrics   | MetricCollection | 0     \n",
      "2 | val_metrics     | MetricCollection | 0     \n",
      "3 | decomposition   | _SeriesDecomp    | 0     \n",
      "4 | linear_seasonal | Linear           | 3.6 K \n",
      "5 | linear_trend    | Linear           | 3.6 K \n",
      "-----------------------------------------------------\n",
      "7.2 K     Trainable params\n",
      "0         Non-trainable params\n",
      "7.2 K     Total params\n",
      "0.029     Total estimated model params size (MB)\n"
     ]
    },
    {
     "name": "stdout",
     "output_type": "stream",
     "text": [
      "\n",
      "Epoch 99: 100%|██████████| 11/11 [00:00<00:00, 15.27it/s, train_loss=500.0]  "
     ]
    },
    {
     "name": "stderr",
     "output_type": "stream",
     "text": [
      "`Trainer.fit` stopped: `max_epochs=100` reached.\n"
     ]
    },
    {
     "name": "stdout",
     "output_type": "stream",
     "text": [
      "Epoch 99: 100%|██████████| 11/11 [00:00<00:00, 15.27it/s, train_loss=500.0]\n"
     ]
    },
    {
     "name": "stderr",
     "output_type": "stream",
     "text": [
      "GPU available: False, used: False\n",
      "TPU available: False, using: 0 TPU cores\n",
      "IPU available: False, using: 0 IPUs\n",
      "HPU available: False, using: 0 HPUs\n"
     ]
    },
    {
     "name": "stdout",
     "output_type": "stream",
     "text": [
      "Predicting DataLoader 0: 100%|██████████| 1/1 [00:00<00:00, 74.08it/s]"
     ]
    },
    {
     "name": "stderr",
     "output_type": "stream",
     "text": [
      " 98%|█████████▊| 98/100 [1:51:15<02:11, 65.86s/it]GPU available: False, used: False\n"
     ]
    },
    {
     "name": "stdout",
     "output_type": "stream",
     "text": [
      "\n"
     ]
    },
    {
     "name": "stderr",
     "output_type": "stream",
     "text": [
      "TPU available: False, using: 0 TPU cores\n",
      "IPU available: False, using: 0 IPUs\n",
      "HPU available: False, using: 0 HPUs\n",
      "\n",
      "  | Name            | Type             | Params\n",
      "-----------------------------------------------------\n",
      "0 | criterion       | MSELoss          | 0     \n",
      "1 | train_metrics   | MetricCollection | 0     \n",
      "2 | val_metrics     | MetricCollection | 0     \n",
      "3 | decomposition   | _SeriesDecomp    | 0     \n",
      "4 | linear_seasonal | Linear           | 3.6 K \n",
      "5 | linear_trend    | Linear           | 3.6 K \n",
      "-----------------------------------------------------\n",
      "7.2 K     Trainable params\n",
      "0         Non-trainable params\n",
      "7.2 K     Total params\n",
      "0.029     Total estimated model params size (MB)\n"
     ]
    },
    {
     "name": "stdout",
     "output_type": "stream",
     "text": [
      "Epoch 99: 100%|██████████| 11/11 [00:00<00:00, 18.07it/s, train_loss=369.0]  "
     ]
    },
    {
     "name": "stderr",
     "output_type": "stream",
     "text": [
      "`Trainer.fit` stopped: `max_epochs=100` reached.\n"
     ]
    },
    {
     "name": "stdout",
     "output_type": "stream",
     "text": [
      "Epoch 99: 100%|██████████| 11/11 [00:00<00:00, 17.63it/s, train_loss=369.0]"
     ]
    },
    {
     "name": "stderr",
     "output_type": "stream",
     "text": [
      "GPU available: False, used: False\n",
      "TPU available: False, using: 0 TPU cores\n",
      "IPU available: False, using: 0 IPUs\n",
      "HPU available: False, using: 0 HPUs\n"
     ]
    },
    {
     "name": "stdout",
     "output_type": "stream",
     "text": [
      "\n",
      "Predicting DataLoader 0: 100%|██████████| 1/1 [00:00<00:00, 597.31it/s]"
     ]
    },
    {
     "name": "stderr",
     "output_type": "stream",
     "text": [
      " 99%|█████████▉| 99/100 [1:52:29<01:08, 68.21s/it]GPU available: False, used: False\n",
      "TPU available: False, using: 0 TPU cores\n",
      "IPU available: False, using: 0 IPUs\n",
      "HPU available: False, using: 0 HPUs\n",
      "\n",
      "  | Name            | Type             | Params\n",
      "-----------------------------------------------------\n",
      "0 | criterion       | MSELoss          | 0     \n",
      "1 | train_metrics   | MetricCollection | 0     \n",
      "2 | val_metrics     | MetricCollection | 0     \n",
      "3 | decomposition   | _SeriesDecomp    | 0     \n",
      "4 | linear_seasonal | Linear           | 3.6 K \n",
      "5 | linear_trend    | Linear           | 3.6 K \n",
      "-----------------------------------------------------\n",
      "7.2 K     Trainable params\n",
      "0         Non-trainable params\n",
      "7.2 K     Total params\n",
      "0.029     Total estimated model params size (MB)\n"
     ]
    },
    {
     "name": "stdout",
     "output_type": "stream",
     "text": [
      "\n",
      "Epoch 99: 100%|██████████| 11/11 [00:00<00:00, 17.81it/s, train_loss=366.0]  "
     ]
    },
    {
     "name": "stderr",
     "output_type": "stream",
     "text": [
      "`Trainer.fit` stopped: `max_epochs=100` reached.\n"
     ]
    },
    {
     "name": "stdout",
     "output_type": "stream",
     "text": [
      "Epoch 99: 100%|██████████| 11/11 [00:00<00:00, 17.37it/s, train_loss=366.0]\n"
     ]
    },
    {
     "name": "stderr",
     "output_type": "stream",
     "text": [
      "GPU available: False, used: False\n",
      "TPU available: False, using: 0 TPU cores\n",
      "IPU available: False, using: 0 IPUs\n",
      "HPU available: False, using: 0 HPUs\n"
     ]
    },
    {
     "name": "stdout",
     "output_type": "stream",
     "text": [
      "Predicting DataLoader 0: 100%|██████████| 1/1 [00:00<00:00, 124.94it/s]"
     ]
    },
    {
     "name": "stderr",
     "output_type": "stream",
     "text": [
      "100%|██████████| 100/100 [1:53:29<00:00, 68.10s/it]"
     ]
    },
    {
     "name": "stdout",
     "output_type": "stream",
     "text": [
      "\n"
     ]
    },
    {
     "name": "stderr",
     "output_type": "stream",
     "text": [
      "\n"
     ]
    }
   ],
   "source": [
    "df = pd.read_csv(\"./Busheling_price.csv\")\n",
    "df = df[['날짜', '생철A (Busheling A) 평균']]\n",
    "\n",
    "# 중복값 제거\n",
    "df.drop_duplicates(subset='날짜',inplace=True)\n",
    "\n",
    "# 선형 보간\n",
    "df = pre_processing(df)\n",
    "\n",
    "# 컬렴명 변경\n",
    "df.rename(columns={'날짜':'date', '생철A (Busheling A) 평균':'avg'}, inplace=True)\n",
    "\n",
    "# df 생성\n",
    "days_700 = df.iloc[-700:].reset_index(drop=True)\n",
    "days_700['pred'] = 0\n",
    "\n",
    "# TimeSeries 객체로 변환\n",
    "series = TimeSeries.from_dataframe(df, \"date\", \"avg\")\n",
    "\n",
    "pred_list = []\n",
    "\n",
    "for n in tqdm(list(range(693,-1,-7))):\n",
    "\n",
    "    # 2850일로 7일 예측하기\n",
    "    train = series[-2857-n:-7-n]\n",
    "\n",
    "    # DLinear 모델\n",
    "    model = DLinearModel(input_chunk_length=128, output_chunk_length=28, batch_size=256, n_epochs=100)\n",
    "    model.fit(train)\n",
    "\n",
    "    pred = model.predict(7)\n",
    "    pred = list(pred.values().flatten())\n",
    "\n",
    "    pred_list += pred\n"
   ]
  },
  {
   "cell_type": "code",
   "execution_count": 18,
   "metadata": {},
   "outputs": [
    {
     "data": {
      "text/plain": [
       "[618.7916158756419,\n",
       " 617.6585110168485,\n",
       " 615.9628404578543,\n",
       " 618.4863107611769,\n",
       " 621.4778291125085,\n",
       " 621.1264586330504,\n",
       " 621.3000426281726,\n",
       " 614.6461655009658,\n",
       " 612.3218852842408,\n",
       " 614.7506369371588,\n",
       " 612.4920450303489,\n",
       " 613.806706780091,\n",
       " 608.161504680343,\n",
       " 610.6355049093454,\n",
       " 610.3629012810204,\n",
       " 608.6300385170183,\n",
       " 607.4090099114628,\n",
       " 608.1897318232235,\n",
       " 609.2851930658937,\n",
       " 610.004032519548,\n",
       " 611.5557221963182,\n",
       " 613.3461341445263,\n",
       " 615.8289799673331,\n",
       " 618.1104224866399,\n",
       " 622.1785288928493,\n",
       " 624.5789266780187,\n",
       " 626.9749377369814,\n",
       " 625.3939732579252,\n",
       " 610.5562476745461,\n",
       " 611.5695882134663,\n",
       " 613.5992530949752,\n",
       " 614.7695713018267,\n",
       " 611.1033345697166,\n",
       " 611.1586761769312,\n",
       " 608.6356221092329,\n",
       " 637.8123934896357,\n",
       " 639.7498927872663,\n",
       " 641.2988581317422,\n",
       " 641.910765400549,\n",
       " 642.6009868893188,\n",
       " 644.2474445528657,\n",
       " 646.0156198261541,\n",
       " 642.6233768935202,\n",
       " 641.5442301450432,\n",
       " 640.1469285490035,\n",
       " 639.2336524252265,\n",
       " 641.7499497461872,\n",
       " 642.5404995997217,\n",
       " 640.0472620400693,\n",
       " 654.6387524144791,\n",
       " 654.8084346944149,\n",
       " 653.8321846631238,\n",
       " 652.5764708929402,\n",
       " 651.6267410608017,\n",
       " 651.7210805025534,\n",
       " 651.5504775130378,\n",
       " 647.8109560396335,\n",
       " 649.887823362651,\n",
       " 650.1201935375121,\n",
       " 645.9957705994536,\n",
       " 647.893082140553,\n",
       " 649.7703864546288,\n",
       " 650.1442429558866,\n",
       " 664.5467930480592,\n",
       " 665.6023559912367,\n",
       " 667.3647364552443,\n",
       " 671.9158726833725,\n",
       " 674.4431912095446,\n",
       " 673.5036115737489,\n",
       " 671.9343727511371,\n",
       " 676.8780259812573,\n",
       " 678.3921268636997,\n",
       " 679.8598715104416,\n",
       " 679.0579703389172,\n",
       " 678.6834312920556,\n",
       " 678.8492227902806,\n",
       " 679.1860538473546,\n",
       " 687.0987432358726,\n",
       " 688.4899882539889,\n",
       " 689.2283244721293,\n",
       " 688.7111940759182,\n",
       " 688.7741709371278,\n",
       " 691.4175057450648,\n",
       " 691.7711069444313,\n",
       " 694.5656262989412,\n",
       " 694.097950420482,\n",
       " 692.1871798665989,\n",
       " 691.5388604829278,\n",
       " 689.38477699742,\n",
       " 691.147128607021,\n",
       " 690.2907364779169,\n",
       " 691.3819325022437,\n",
       " 690.4369832910438,\n",
       " 692.5307690809198,\n",
       " 695.6050771716716,\n",
       " 692.7339634479669,\n",
       " 690.6660281717767,\n",
       " 691.731238482552,\n",
       " 723.1561053177172,\n",
       " 725.4755031587308,\n",
       " 729.67813170003,\n",
       " 730.1666322181729,\n",
       " 731.373414574945,\n",
       " 730.9848235971491,\n",
       " 732.8092000232958,\n",
       " 724.2446493797705,\n",
       " 724.5137261941304,\n",
       " 724.6329269531074,\n",
       " 725.456302018611,\n",
       " 726.9633609178883,\n",
       " 727.0205758196543,\n",
       " 728.520599283836,\n",
       " 723.9263258246982,\n",
       " 723.38619099655,\n",
       " 722.437312210405,\n",
       " 721.8183400290395,\n",
       " 721.9890098043699,\n",
       " 722.1868062322218,\n",
       " 722.9823996492639,\n",
       " 723.3838142595736,\n",
       " 723.4292689642383,\n",
       " 724.837061995441,\n",
       " 723.2108873184895,\n",
       " 724.2634253376061,\n",
       " 721.7765546483869,\n",
       " 721.1152355461566,\n",
       " 726.5310192527522,\n",
       " 728.3905605761043,\n",
       " 727.6371642906865,\n",
       " 728.5992449873655,\n",
       " 727.5892570898109,\n",
       " 725.1949042525139,\n",
       " 725.5793096151665,\n",
       " 717.7872210401757,\n",
       " 720.0724998494849,\n",
       " 724.4180748659421,\n",
       " 723.8534933076277,\n",
       " 722.1607737349456,\n",
       " 718.4392709385572,\n",
       " 712.5068145682568,\n",
       " 708.029564821326,\n",
       " 709.075829128349,\n",
       " 710.2876744286411,\n",
       " 713.1682172704618,\n",
       " 713.1354021016881,\n",
       " 709.735523971235,\n",
       " 706.6507516006067,\n",
       " 701.7667643254554,\n",
       " 703.154586889501,\n",
       " 703.5527759537215,\n",
       " 706.3274352105719,\n",
       " 708.3045095041798,\n",
       " 703.4433634343017,\n",
       " 695.8780641232779,\n",
       " 691.2800931852488,\n",
       " 691.7875823286963,\n",
       " 694.0168541342395,\n",
       " 695.5279487547466,\n",
       " 696.5008335917879,\n",
       " 697.8074819305009,\n",
       " 698.6103238058934,\n",
       " 675.2874687883481,\n",
       " 675.4407776619207,\n",
       " 677.0007960577661,\n",
       " 678.7416332692983,\n",
       " 677.886825151911,\n",
       " 677.5825379834079,\n",
       " 678.4929259173089,\n",
       " 663.2459350503786,\n",
       " 660.9365633758459,\n",
       " 660.9178208223399,\n",
       " 660.6139856196734,\n",
       " 660.8841921326399,\n",
       " 658.9520348113329,\n",
       " 657.8543131081481,\n",
       " 651.9712274496294,\n",
       " 653.71169616687,\n",
       " 650.8077676501753,\n",
       " 645.4771596589759,\n",
       " 645.4602162785197,\n",
       " 643.2696167173646,\n",
       " 644.020974093307,\n",
       " 642.8508757998263,\n",
       " 642.8195893469633,\n",
       " 640.5828984044651,\n",
       " 640.8293870305519,\n",
       " 644.6715203236953,\n",
       " 645.0135188369512,\n",
       " 645.7919430704599,\n",
       " 634.5614371583413,\n",
       " 634.03250491508,\n",
       " 634.334319414961,\n",
       " 635.9152972112738,\n",
       " 638.3960665478021,\n",
       " 636.6019827226593,\n",
       " 636.9139981680459,\n",
       " 632.8188014940395,\n",
       " 633.0406608128843,\n",
       " 631.3580319362544,\n",
       " 629.5237851504855,\n",
       " 628.0934033811035,\n",
       " 629.3513651307146,\n",
       " 630.3029703466624,\n",
       " 604.0741391642675,\n",
       " 600.5409383268749,\n",
       " 596.7894263040901,\n",
       " 594.9093436311406,\n",
       " 596.0455570009169,\n",
       " 592.9441583978074,\n",
       " 594.7999836687454,\n",
       " 549.5882203658846,\n",
       " 546.2393971813148,\n",
       " 542.7920905641059,\n",
       " 539.9448334102184,\n",
       " 537.982552028922,\n",
       " 537.2447453337934,\n",
       " 534.1125189901807,\n",
       " 503.001562554575,\n",
       " 498.09126299559307,\n",
       " 495.1441745490158,\n",
       " 491.00317726522815,\n",
       " 485.1553619680271,\n",
       " 483.3719019290797,\n",
       " 479.8415035757206,\n",
       " 466.25781863866314,\n",
       " 464.5873257320587,\n",
       " 465.0460263162727,\n",
       " 463.4956547198833,\n",
       " 459.8814078521247,\n",
       " 456.2602661378602,\n",
       " 454.5499414305465,\n",
       " 462.3379810091329,\n",
       " 461.7206486783738,\n",
       " 460.2077046834869,\n",
       " 460.88588434099984,\n",
       " 462.16659986000184,\n",
       " 462.94592680053734,\n",
       " 462.08103672234034,\n",
       " 431.06484497532944,\n",
       " 428.8896848595781,\n",
       " 425.12124363691925,\n",
       " 421.17548065195876,\n",
       " 419.45892171354353,\n",
       " 418.62058389222364,\n",
       " 415.23162018792397,\n",
       " 426.46261356997843,\n",
       " 426.7352647197823,\n",
       " 427.8294478426963,\n",
       " 424.9871520762822,\n",
       " 423.37158151689414,\n",
       " 425.96384934070056,\n",
       " 425.12703984181786,\n",
       " 426.99657482764263,\n",
       " 425.96345861033166,\n",
       " 426.2333460504091,\n",
       " 430.9757147847908,\n",
       " 427.39326974182956,\n",
       " 427.73593392758227,\n",
       " 425.3141588846804,\n",
       " 447.77503620739293,\n",
       " 451.31792800430765,\n",
       " 455.14273823797913,\n",
       " 459.3421217442908,\n",
       " 460.4928907415867,\n",
       " 458.582857465081,\n",
       " 456.4323123521248,\n",
       " 472.7245120083022,\n",
       " 476.4426580602295,\n",
       " 480.06142087146304,\n",
       " 482.29423989140827,\n",
       " 483.77287034751646,\n",
       " 483.90648735409604,\n",
       " 482.0339191618399,\n",
       " 519.7244378797258,\n",
       " 523.2644067275425,\n",
       " 527.466623818345,\n",
       " 530.4775166801645,\n",
       " 533.0191844770634,\n",
       " 534.391777445604,\n",
       " 535.2105848969692,\n",
       " 534.3809823606143,\n",
       " 537.9659483942644,\n",
       " 536.6693159143416,\n",
       " 533.9708368573457,\n",
       " 537.8741435613729,\n",
       " 539.6892552250782,\n",
       " 538.6988713622314,\n",
       " 555.6301231121575,\n",
       " 556.3303816042992,\n",
       " 557.3549634106813,\n",
       " 558.1065300511962,\n",
       " 557.3341549313849,\n",
       " 552.8388501129933,\n",
       " 553.9336166823254,\n",
       " 548.2259860798114,\n",
       " 547.1813099126348,\n",
       " 545.6692945314508,\n",
       " 544.096882880657,\n",
       " 544.279797182892,\n",
       " 546.6484269262288,\n",
       " 548.2610597989515,\n",
       " 549.562147901489,\n",
       " 549.3690645320935,\n",
       " 549.631001782383,\n",
       " 546.8797092797543,\n",
       " 546.6316213066513,\n",
       " 546.0714518008645,\n",
       " 545.3437855590498,\n",
       " 555.7186157490597,\n",
       " 556.5198337075864,\n",
       " 556.561753034496,\n",
       " 556.9647527081734,\n",
       " 559.8097241382011,\n",
       " 559.9431804981488,\n",
       " 561.2206906404563,\n",
       " 574.6018379925989,\n",
       " 576.7500583310896,\n",
       " 579.7125858772143,\n",
       " 581.0429024804065,\n",
       " 581.9511183136913,\n",
       " 581.1701440052939,\n",
       " 582.5123806112477,\n",
       " 589.745438579959,\n",
       " 591.4880653464878,\n",
       " 593.7026497047776,\n",
       " 593.5609645802792,\n",
       " 595.8815728343551,\n",
       " 599.9416459531477,\n",
       " 602.0403188347722,\n",
       " 591.7463392857447,\n",
       " 592.0129554630665,\n",
       " 593.8401134287205,\n",
       " 591.6238942572688,\n",
       " 589.2894110794348,\n",
       " 590.4041046829855,\n",
       " 591.9223496776127,\n",
       " 560.6572066180523,\n",
       " 558.6881565306954,\n",
       " 557.737625245461,\n",
       " 556.0102084358771,\n",
       " 554.3375981412653,\n",
       " 552.338606475905,\n",
       " 552.0994297540557,\n",
       " 541.1654011028842,\n",
       " 538.9637615983256,\n",
       " 536.7457697091405,\n",
       " 532.7997795119586,\n",
       " 529.8428068584697,\n",
       " 530.1959122428937,\n",
       " 530.5004616227953,\n",
       " 482.35142515062097,\n",
       " 477.8146848070849,\n",
       " 472.9368149497716,\n",
       " 468.83127551700363,\n",
       " 465.61592532641777,\n",
       " 462.82718756780116,\n",
       " 461.0825397667287,\n",
       " 459.86522088912494,\n",
       " 459.1346937537228,\n",
       " 457.9381790532418,\n",
       " 456.11217347549916,\n",
       " 454.4213865439875,\n",
       " 453.0432796825562,\n",
       " 451.40835927674084,\n",
       " 457.27331416766066,\n",
       " 458.2884008820271,\n",
       " 457.94278747245846,\n",
       " 456.70937893876993,\n",
       " 457.38836733661606,\n",
       " 461.0745852390384,\n",
       " 462.9253305296092,\n",
       " 456.9429388154361,\n",
       " 458.0061971626334,\n",
       " 459.2912663544888,\n",
       " 458.7589777685841,\n",
       " 457.3492675545426,\n",
       " 458.89217377357437,\n",
       " 458.6869667634417,\n",
       " 478.8893198793945,\n",
       " 480.69004247605204,\n",
       " 483.21398972418945,\n",
       " 484.39120269033083,\n",
       " 485.68104671615106,\n",
       " 488.6845628714829,\n",
       " 490.627362605063,\n",
       " 523.7949341817994,\n",
       " 527.9631103373653,\n",
       " 531.7316651313797,\n",
       " 534.5227064710056,\n",
       " 536.9705899725625,\n",
       " 540.3698564480126,\n",
       " 545.2336982577433,\n",
       " 544.7931026842737,\n",
       " 548.1412280673119,\n",
       " 549.7232496930832,\n",
       " 550.2836179229123,\n",
       " 549.516396478836,\n",
       " 555.017435606849,\n",
       " 560.5003700652555,\n",
       " 539.7292648406346,\n",
       " 541.4299852639352,\n",
       " 540.0647278156839,\n",
       " 537.6039203222001,\n",
       " 537.0335707969447,\n",
       " 537.7335530766354,\n",
       " 540.9616731372735,\n",
       " 525.0328309651122,\n",
       " 527.1904854820444,\n",
       " 523.7812946968764,\n",
       " 521.4010132075526,\n",
       " 522.6238331815717,\n",
       " 524.6948411079038,\n",
       " 521.7164139448174,\n",
       " 525.7692538766881,\n",
       " 526.3742387618055,\n",
       " 527.2516154069486,\n",
       " 528.1755641207568,\n",
       " 528.3856582844422,\n",
       " 528.2096153091712,\n",
       " 527.1565601475772,\n",
       " 533.7748147632648,\n",
       " 535.3058360490675,\n",
       " 537.2849135469667,\n",
       " 538.6776878817698,\n",
       " 540.7146026073035,\n",
       " 541.6319697003543,\n",
       " 540.8685123670333,\n",
       " 530.3212027071776,\n",
       " 530.9492596657981,\n",
       " 532.7272456381819,\n",
       " 535.0670953892582,\n",
       " 536.9108155682899,\n",
       " 537.8790710344446,\n",
       " 537.7274426255889,\n",
       " 528.2127429883195,\n",
       " 527.3626236667075,\n",
       " 526.3282761197491,\n",
       " 527.4413854532215,\n",
       " 529.4072330703328,\n",
       " 533.3200970330175,\n",
       " 536.7035323877737,\n",
       " 526.9870607355921,\n",
       " 525.5987110513566,\n",
       " 524.7787644349047,\n",
       " 522.897246837081,\n",
       " 521.9679076463128,\n",
       " 523.4846853281732,\n",
       " 521.0531844817915,\n",
       " 527.0585744460731,\n",
       " 527.1619819695151,\n",
       " 527.9159052710132,\n",
       " 527.7962212596525,\n",
       " 528.6546775173649,\n",
       " 529.5481747657525,\n",
       " 530.0407397440257,\n",
       " 523.4024815170343,\n",
       " 523.0513424247057,\n",
       " 523.7809262440607,\n",
       " 524.8324722803839,\n",
       " 524.265918423169,\n",
       " 523.3040678885847,\n",
       " 522.1719046181553,\n",
       " 520.3898613308488,\n",
       " 520.7860322502488,\n",
       " 517.4680169083183,\n",
       " 515.8452389239047,\n",
       " 518.5546738139946,\n",
       " 515.6356553208851,\n",
       " 512.2881882164193,\n",
       " 523.5374167887604,\n",
       " 523.0730434433355,\n",
       " 521.8723711519049,\n",
       " 522.2161394365038,\n",
       " 523.7833337326748,\n",
       " 525.4663959410597,\n",
       " 526.3285852852324,\n",
       " 525.3725416919953,\n",
       " 525.8512375517134,\n",
       " 525.9747235210212,\n",
       " 525.6342486223507,\n",
       " 525.4956288810968,\n",
       " 525.0799074109873,\n",
       " 525.50609564943,\n",
       " 516.3117985386026,\n",
       " 515.1497223037088,\n",
       " 513.9796524691967,\n",
       " 513.2031940922006,\n",
       " 513.4462826297563,\n",
       " 514.5595487367871,\n",
       " 514.5373127452734,\n",
       " 515.1582776710222,\n",
       " 514.9954589073792,\n",
       " 514.8138205281599,\n",
       " 513.919529089239,\n",
       " 515.3300475058736,\n",
       " 512.6141648738865,\n",
       " 510.2882325715,\n",
       " 500.39916921192855,\n",
       " 498.2306231894719,\n",
       " 496.6600946978629,\n",
       " 495.8565306982668,\n",
       " 496.3495547222753,\n",
       " 496.1033546575755,\n",
       " 494.3423584490886,\n",
       " 489.65075204280987,\n",
       " 488.7509714612064,\n",
       " 488.37692143340576,\n",
       " 490.5277732541932,\n",
       " 487.7020880745619,\n",
       " 487.45305238890734,\n",
       " 487.977502283407,\n",
       " 484.41899816411234,\n",
       " 484.1001900153877,\n",
       " 484.57895677915104,\n",
       " 485.0441490497012,\n",
       " 487.36984517163984,\n",
       " 488.4115012814012,\n",
       " 487.13913315815233,\n",
       " 483.91085203879874,\n",
       " 483.6411035934186,\n",
       " 482.6446695339872,\n",
       " 481.81396836559645,\n",
       " 481.9327673336334,\n",
       " 482.1350483258896,\n",
       " 482.6832016901853,\n",
       " 484.9577234831571,\n",
       " 485.55975907723325,\n",
       " 484.94094409874197,\n",
       " 485.6904703938339,\n",
       " 486.3886054350339,\n",
       " 488.64057672136505,\n",
       " 491.0028835842767,\n",
       " 491.26197160455627,\n",
       " 491.61639173298954,\n",
       " 489.90890254995475,\n",
       " 491.82044558088705,\n",
       " 493.76541276856733,\n",
       " 494.12328647659626,\n",
       " 493.7388781521832,\n",
       " 489.6387422812418,\n",
       " 488.89671913521414,\n",
       " 487.69873752234116,\n",
       " 486.58775335030214,\n",
       " 486.0898323922737,\n",
       " 487.6038167045843,\n",
       " 489.2566966595398,\n",
       " 490.303883337789,\n",
       " 490.5914397002186,\n",
       " 491.9365491482884,\n",
       " 489.47176577777265,\n",
       " 487.49502668701007,\n",
       " 486.91794410951,\n",
       " 486.6864734796743,\n",
       " 492.8964426501743,\n",
       " 494.16035014534106,\n",
       " 494.85308700288914,\n",
       " 494.80758947856947,\n",
       " 494.97519124070243,\n",
       " 496.9732570643803,\n",
       " 497.69729467607885,\n",
       " 492.80711502361504,\n",
       " 493.52814897843064,\n",
       " 494.38866937351474,\n",
       " 494.9444909212964,\n",
       " 496.62086082850055,\n",
       " 497.64409624741165,\n",
       " 497.09714064722334,\n",
       " 489.2381390665549,\n",
       " 488.8685003839027,\n",
       " 488.4541917147112,\n",
       " 489.52411753125693,\n",
       " 490.02340426337196,\n",
       " 489.08866834814756,\n",
       " 488.7605015576876,\n",
       " 486.40702478714695,\n",
       " 486.73973946154706,\n",
       " 487.70060345751426,\n",
       " 488.4208900648204,\n",
       " 488.2305304266536,\n",
       " 489.37705594907686,\n",
       " 490.72437786395494,\n",
       " 474.6785468182198,\n",
       " 473.67757460991476,\n",
       " 469.9076965183225,\n",
       " 469.9758677516315,\n",
       " 471.82337584177236,\n",
       " 470.19503890566205,\n",
       " 470.81890936847213,\n",
       " 467.5703757516537,\n",
       " 466.8185775158969,\n",
       " 466.1080377962054,\n",
       " 465.21400496827783,\n",
       " 464.8070855010213,\n",
       " 465.9526744429892,\n",
       " 467.03017607359345,\n",
       " 467.5599698097981,\n",
       " 466.97409794248694,\n",
       " 465.9357509445728,\n",
       " 463.7000777513242,\n",
       " 462.2889637398353,\n",
       " 462.25299689573734,\n",
       " 463.4265626448522,\n",
       " 468.7546312809806,\n",
       " 469.57514112841017,\n",
       " 470.8181315571598,\n",
       " 470.8666338305998,\n",
       " 470.30915602692215,\n",
       " 469.51946890738947,\n",
       " 470.38650272349196,\n",
       " 469.0424136683245,\n",
       " 467.9196563168016,\n",
       " 468.314567490902,\n",
       " 468.668913204858,\n",
       " 472.249608876432,\n",
       " 468.7776973804679,\n",
       " 465.00998995178463,\n",
       " 469.8330883621237,\n",
       " 470.25458988896287,\n",
       " 469.3059185134706,\n",
       " 468.59183406220916,\n",
       " 466.81881978111227,\n",
       " 467.5446370723912,\n",
       " 471.10874567275243,\n",
       " 470.9201557396667,\n",
       " 471.4482211950979,\n",
       " 469.2379825651296,\n",
       " 467.4203526266733,\n",
       " 467.7122930109152,\n",
       " 468.2818536741981,\n",
       " 468.67086111580693,\n",
       " 469.30403788435535,\n",
       " 470.2998300887117,\n",
       " 471.40283394894783,\n",
       " 472.4284950586643,\n",
       " 472.8351587681537,\n",
       " 471.4235489931942,\n",
       " 469.89673610193336,\n",
       " 468.8188493913858,\n",
       " 468.21810178513175,\n",
       " 466.6632144668251,\n",
       " 466.29580904521066,\n",
       " 467.40013228052317,\n",
       " 471.0582127057084,\n",
       " 474.0237139176054,\n",
       " 468.48579923317004,\n",
       " 468.9252904593144,\n",
       " 468.6794599576422,\n",
       " 467.73503873398926,\n",
       " 468.3871216611994,\n",
       " 469.97583186363346,\n",
       " 469.1074197761651,\n",
       " 467.47583563706337,\n",
       " 466.7309909479389,\n",
       " 467.11960764215064,\n",
       " 470.0843090874603,\n",
       " 470.3922588814295,\n",
       " 468.6796840360419,\n",
       " 467.1799982335028,\n",
       " 467.79206066874673,\n",
       " 467.0130054420019,\n",
       " 466.1833388415621,\n",
       " 465.8984737744922,\n",
       " 466.7617341752136,\n",
       " 469.1159234249939,\n",
       " 472.02940287087057,\n",
       " 468.9385003673932,\n",
       " 470.6507044606699,\n",
       " 470.52077358539566,\n",
       " 468.9869640975584,\n",
       " 467.18708047177074,\n",
       " 467.36391077648847,\n",
       " 470.5965983867514,\n",
       " 468.2712348252675,\n",
       " 468.676967122496,\n",
       " 468.8456711480832,\n",
       " 468.8672323296143,\n",
       " 468.96821572814287,\n",
       " 468.77899769032615,\n",
       " 468.08082083876053,\n",
       " 469.21318235268063,\n",
       " 468.7988757928367,\n",
       " 468.2979250614003,\n",
       " 467.06941940021125,\n",
       " 467.60091181621266,\n",
       " 467.0561635180093,\n",
       " 468.2730784002667,\n",
       " 470.8497802751125,\n",
       " 472.349021146664,\n",
       " 472.8301548567816,\n",
       " 470.8858242911737,\n",
       " 471.24895300626247,\n",
       " 472.78979917016966,\n",
       " 474.03788147132985,\n",
       " 461.1618080918784,\n",
       " 459.85272547858455,\n",
       " 458.37242239461534,\n",
       " 456.80217410043736,\n",
       " 455.00136680302444,\n",
       " 454.018551860588,\n",
       " 454.8779405425517]"
      ]
     },
     "execution_count": 18,
     "metadata": {},
     "output_type": "execute_result"
    }
   ],
   "source": [
    "pred_list"
   ]
  },
  {
   "cell_type": "code",
   "execution_count": null,
   "metadata": {},
   "outputs": [],
   "source": [
    "from sklearn.metrics import mean_squared_error\n",
    "\n",
    "RMSE = []\n",
    "\n",
    "for a in range(0,700,7):\n",
    "    rmse = mean_squared_error(days_700['avg'][a:a+7], days_700['pred'][a:a+7]) ** 0.5\n",
    "    for _ in range(7):\n",
    "        RMSE.append(rmse)"
   ]
  },
  {
   "cell_type": "code",
   "execution_count": 53,
   "metadata": {},
   "outputs": [
    {
     "data": {
      "text/html": [
       "<div>\n",
       "<style scoped>\n",
       "    .dataframe tbody tr th:only-of-type {\n",
       "        vertical-align: middle;\n",
       "    }\n",
       "\n",
       "    .dataframe tbody tr th {\n",
       "        vertical-align: top;\n",
       "    }\n",
       "\n",
       "    .dataframe thead th {\n",
       "        text-align: right;\n",
       "    }\n",
       "</style>\n",
       "<table border=\"1\" class=\"dataframe\">\n",
       "  <thead>\n",
       "    <tr style=\"text-align: right;\">\n",
       "      <th></th>\n",
       "      <th>date</th>\n",
       "      <th>avg</th>\n",
       "      <th>pred</th>\n",
       "      <th>diff</th>\n",
       "      <th>RMSE</th>\n",
       "      <th>total_RMSE</th>\n",
       "    </tr>\n",
       "  </thead>\n",
       "  <tbody>\n",
       "    <tr>\n",
       "      <th>0</th>\n",
       "      <td>2021-12-08</td>\n",
       "      <td>620.335900</td>\n",
       "      <td>618.791616</td>\n",
       "      <td>1.544284</td>\n",
       "      <td>3.339297</td>\n",
       "      <td>8.25089</td>\n",
       "    </tr>\n",
       "    <tr>\n",
       "      <th>1</th>\n",
       "      <td>2021-12-09</td>\n",
       "      <td>619.659584</td>\n",
       "      <td>617.658511</td>\n",
       "      <td>2.001073</td>\n",
       "      <td>3.339297</td>\n",
       "      <td>8.25089</td>\n",
       "    </tr>\n",
       "    <tr>\n",
       "      <th>2</th>\n",
       "      <td>2021-12-10</td>\n",
       "      <td>618.968345</td>\n",
       "      <td>615.962840</td>\n",
       "      <td>3.005505</td>\n",
       "      <td>3.339297</td>\n",
       "      <td>8.25089</td>\n",
       "    </tr>\n",
       "    <tr>\n",
       "      <th>3</th>\n",
       "      <td>2021-12-11</td>\n",
       "      <td>618.259475</td>\n",
       "      <td>618.486311</td>\n",
       "      <td>0.226836</td>\n",
       "      <td>3.339297</td>\n",
       "      <td>8.25089</td>\n",
       "    </tr>\n",
       "    <tr>\n",
       "      <th>4</th>\n",
       "      <td>2021-12-12</td>\n",
       "      <td>617.530266</td>\n",
       "      <td>621.477829</td>\n",
       "      <td>3.947563</td>\n",
       "      <td>3.339297</td>\n",
       "      <td>8.25089</td>\n",
       "    </tr>\n",
       "    <tr>\n",
       "      <th>...</th>\n",
       "      <td>...</td>\n",
       "      <td>...</td>\n",
       "      <td>...</td>\n",
       "      <td>...</td>\n",
       "      <td>...</td>\n",
       "      <td>...</td>\n",
       "    </tr>\n",
       "    <tr>\n",
       "      <th>695</th>\n",
       "      <td>2023-11-03</td>\n",
       "      <td>458.143812</td>\n",
       "      <td>458.372422</td>\n",
       "      <td>0.228611</td>\n",
       "      <td>0.614709</td>\n",
       "      <td>8.25089</td>\n",
       "    </tr>\n",
       "    <tr>\n",
       "      <th>696</th>\n",
       "      <td>2023-11-04</td>\n",
       "      <td>456.945948</td>\n",
       "      <td>456.802174</td>\n",
       "      <td>0.143774</td>\n",
       "      <td>0.614709</td>\n",
       "      <td>8.25089</td>\n",
       "    </tr>\n",
       "    <tr>\n",
       "      <th>697</th>\n",
       "      <td>2023-11-05</td>\n",
       "      <td>455.837689</td>\n",
       "      <td>455.001367</td>\n",
       "      <td>0.836322</td>\n",
       "      <td>0.614709</td>\n",
       "      <td>8.25089</td>\n",
       "    </tr>\n",
       "    <tr>\n",
       "      <th>698</th>\n",
       "      <td>2023-11-06</td>\n",
       "      <td>454.846539</td>\n",
       "      <td>454.018552</td>\n",
       "      <td>0.827987</td>\n",
       "      <td>0.614709</td>\n",
       "      <td>8.25089</td>\n",
       "    </tr>\n",
       "    <tr>\n",
       "      <th>699</th>\n",
       "      <td>2023-11-07</td>\n",
       "      <td>454.000000</td>\n",
       "      <td>454.877941</td>\n",
       "      <td>0.877941</td>\n",
       "      <td>0.614709</td>\n",
       "      <td>8.25089</td>\n",
       "    </tr>\n",
       "  </tbody>\n",
       "</table>\n",
       "<p>700 rows × 6 columns</p>\n",
       "</div>"
      ],
      "text/plain": [
       "          date         avg        pred      diff      RMSE  total_RMSE\n",
       "0   2021-12-08  620.335900  618.791616  1.544284  3.339297     8.25089\n",
       "1   2021-12-09  619.659584  617.658511  2.001073  3.339297     8.25089\n",
       "2   2021-12-10  618.968345  615.962840  3.005505  3.339297     8.25089\n",
       "3   2021-12-11  618.259475  618.486311  0.226836  3.339297     8.25089\n",
       "4   2021-12-12  617.530266  621.477829  3.947563  3.339297     8.25089\n",
       "..         ...         ...         ...       ...       ...         ...\n",
       "695 2023-11-03  458.143812  458.372422  0.228611  0.614709     8.25089\n",
       "696 2023-11-04  456.945948  456.802174  0.143774  0.614709     8.25089\n",
       "697 2023-11-05  455.837689  455.001367  0.836322  0.614709     8.25089\n",
       "698 2023-11-06  454.846539  454.018552  0.827987  0.614709     8.25089\n",
       "699 2023-11-07  454.000000  454.877941  0.877941  0.614709     8.25089\n",
       "\n",
       "[700 rows x 6 columns]"
      ]
     },
     "execution_count": 53,
     "metadata": {},
     "output_type": "execute_result"
    }
   ],
   "source": [
    "days_700['pred'] = pred_list\n",
    "days_700['diff'] = abs(days_700['avg'] - days_700['pred'])\n",
    "days_700['RMSE'] = RMSE\n",
    "days_700['total_RMSE'] = mean_squared_error(days_700['avg'], days_700['pred']) ** 0.5\n",
    "days_700"
   ]
  },
  {
   "cell_type": "code",
   "execution_count": 55,
   "metadata": {},
   "outputs": [
    {
     "data": {
      "text/html": [
       "<div>\n",
       "<style scoped>\n",
       "    .dataframe tbody tr th:only-of-type {\n",
       "        vertical-align: middle;\n",
       "    }\n",
       "\n",
       "    .dataframe tbody tr th {\n",
       "        vertical-align: top;\n",
       "    }\n",
       "\n",
       "    .dataframe thead th {\n",
       "        text-align: right;\n",
       "    }\n",
       "</style>\n",
       "<table border=\"1\" class=\"dataframe\">\n",
       "  <thead>\n",
       "    <tr style=\"text-align: right;\">\n",
       "      <th></th>\n",
       "      <th>avg</th>\n",
       "      <th>pred</th>\n",
       "      <th>diff</th>\n",
       "      <th>RMSE</th>\n",
       "      <th>total_RMSE</th>\n",
       "    </tr>\n",
       "  </thead>\n",
       "  <tbody>\n",
       "    <tr>\n",
       "      <th>count</th>\n",
       "      <td>700.000000</td>\n",
       "      <td>700.000000</td>\n",
       "      <td>700.000000</td>\n",
       "      <td>700.000000</td>\n",
       "      <td>7.000000e+02</td>\n",
       "    </tr>\n",
       "    <tr>\n",
       "      <th>mean</th>\n",
       "      <td>548.299728</td>\n",
       "      <td>549.404576</td>\n",
       "      <td>5.230641</td>\n",
       "      <td>5.993369</td>\n",
       "      <td>8.250890e+00</td>\n",
       "    </tr>\n",
       "    <tr>\n",
       "      <th>min</th>\n",
       "      <td>427.813436</td>\n",
       "      <td>415.231620</td>\n",
       "      <td>0.002328</td>\n",
       "      <td>0.503109</td>\n",
       "      <td>8.250890e+00</td>\n",
       "    </tr>\n",
       "    <tr>\n",
       "      <th>25%</th>\n",
       "      <td>469.692551</td>\n",
       "      <td>471.977896</td>\n",
       "      <td>1.140304</td>\n",
       "      <td>1.989922</td>\n",
       "      <td>8.250890e+00</td>\n",
       "    </tr>\n",
       "    <tr>\n",
       "      <th>50%</th>\n",
       "      <td>525.270848</td>\n",
       "      <td>525.912981</td>\n",
       "      <td>2.903467</td>\n",
       "      <td>3.632229</td>\n",
       "      <td>8.250890e+00</td>\n",
       "    </tr>\n",
       "    <tr>\n",
       "      <th>75%</th>\n",
       "      <td>617.663269</td>\n",
       "      <td>619.375327</td>\n",
       "      <td>6.740657</td>\n",
       "      <td>7.952145</td>\n",
       "      <td>8.250890e+00</td>\n",
       "    </tr>\n",
       "    <tr>\n",
       "      <th>max</th>\n",
       "      <td>725.224071</td>\n",
       "      <td>732.809200</td>\n",
       "      <td>44.500462</td>\n",
       "      <td>27.841992</td>\n",
       "      <td>8.250890e+00</td>\n",
       "    </tr>\n",
       "    <tr>\n",
       "      <th>std</th>\n",
       "      <td>86.044601</td>\n",
       "      <td>86.879873</td>\n",
       "      <td>6.385596</td>\n",
       "      <td>5.674743</td>\n",
       "      <td>1.777627e-15</td>\n",
       "    </tr>\n",
       "  </tbody>\n",
       "</table>\n",
       "</div>"
      ],
      "text/plain": [
       "              avg        pred        diff        RMSE    total_RMSE\n",
       "count  700.000000  700.000000  700.000000  700.000000  7.000000e+02\n",
       "mean   548.299728  549.404576    5.230641    5.993369  8.250890e+00\n",
       "min    427.813436  415.231620    0.002328    0.503109  8.250890e+00\n",
       "25%    469.692551  471.977896    1.140304    1.989922  8.250890e+00\n",
       "50%    525.270848  525.912981    2.903467    3.632229  8.250890e+00\n",
       "75%    617.663269  619.375327    6.740657    7.952145  8.250890e+00\n",
       "max    725.224071  732.809200   44.500462   27.841992  8.250890e+00\n",
       "std     86.044601   86.879873    6.385596    5.674743  1.777627e-15"
      ]
     },
     "execution_count": 55,
     "metadata": {},
     "output_type": "execute_result"
    }
   ],
   "source": [
    "days_700.describe().iloc[:,1:]"
   ]
  },
  {
   "cell_type": "code",
   "execution_count": 56,
   "metadata": {},
   "outputs": [],
   "source": [
    "days_700.to_csv('pred_busheling.csv', index=False)"
   ]
  },
  {
   "cell_type": "code",
   "execution_count": 57,
   "metadata": {},
   "outputs": [
    {
     "data": {
      "text/plain": [
       "(array([350., 400., 450., 500., 550., 600., 650., 700., 750.]),\n",
       " [Text(0, 350.0, '350'),\n",
       "  Text(0, 400.0, '400'),\n",
       "  Text(0, 450.0, '450'),\n",
       "  Text(0, 500.0, '500'),\n",
       "  Text(0, 550.0, '550'),\n",
       "  Text(0, 600.0, '600'),\n",
       "  Text(0, 650.0, '650'),\n",
       "  Text(0, 700.0, '700'),\n",
       "  Text(0, 750.0, '750')])"
      ]
     },
     "execution_count": 57,
     "metadata": {},
     "output_type": "execute_result"
    },
    {
     "data": {
      "image/png": "[encoded data removed]",
      "text/plain": [
       "<Figure size 3000x1000 with 1 Axes>"
      ]
     },
     "metadata": {},
     "output_type": "display_data"
    }
   ],
   "source": [
    "plt.figure(figsize=(30, 10))\n",
    "plt.plot(days_700['date'], days_700['avg'], label='target')\n",
    "plt.plot(days_700['date'], days_700['pred'], label='predict')\n",
    "plt.legend(fontsize=20)\n",
    "plt.title(\"[ Busheling Scrap price ]\", fontsize=30)\n",
    "\n",
    "plt.xticks()\n",
    "plt.xticks(fontsize = 20) \n",
    "plt.yticks(fontsize = 20)"
   ]
  },
  {
   "cell_type": "code",
   "execution_count": 4,
   "metadata": {},
   "outputs": [
    {
     "data": {
      "text/html": [
       "<div>\n",
       "<style scoped>\n",
       "    .dataframe tbody tr th:only-of-type {\n",
       "        vertical-align: middle;\n",
       "    }\n",
       "\n",
       "    .dataframe tbody tr th {\n",
       "        vertical-align: top;\n",
       "    }\n",
       "\n",
       "    .dataframe thead th {\n",
       "        text-align: right;\n",
       "    }\n",
       "</style>\n",
       "<table border=\"1\" class=\"dataframe\">\n",
       "  <thead>\n",
       "    <tr style=\"text-align: right;\">\n",
       "      <th></th>\n",
       "      <th>date</th>\n",
       "      <th>avg</th>\n",
       "      <th>pred</th>\n",
       "      <th>diff</th>\n",
       "      <th>RMSE</th>\n",
       "      <th>total_RMSE</th>\n",
       "    </tr>\n",
       "  </thead>\n",
       "  <tbody>\n",
       "    <tr>\n",
       "      <th>0</th>\n",
       "      <td>2021-12-08</td>\n",
       "      <td>620.335900</td>\n",
       "      <td>618.791616</td>\n",
       "      <td>1.544284</td>\n",
       "      <td>3.339297</td>\n",
       "      <td>8.25089</td>\n",
       "    </tr>\n",
       "    <tr>\n",
       "      <th>1</th>\n",
       "      <td>2021-12-09</td>\n",
       "      <td>619.659584</td>\n",
       "      <td>617.658511</td>\n",
       "      <td>2.001073</td>\n",
       "      <td>3.339297</td>\n",
       "      <td>8.25089</td>\n",
       "    </tr>\n",
       "    <tr>\n",
       "      <th>2</th>\n",
       "      <td>2021-12-10</td>\n",
       "      <td>618.968345</td>\n",
       "      <td>615.962840</td>\n",
       "      <td>3.005505</td>\n",
       "      <td>3.339297</td>\n",
       "      <td>8.25089</td>\n",
       "    </tr>\n",
       "    <tr>\n",
       "      <th>3</th>\n",
       "      <td>2021-12-11</td>\n",
       "      <td>618.259475</td>\n",
       "      <td>618.486311</td>\n",
       "      <td>0.226836</td>\n",
       "      <td>3.339297</td>\n",
       "      <td>8.25089</td>\n",
       "    </tr>\n",
       "    <tr>\n",
       "      <th>4</th>\n",
       "      <td>2021-12-12</td>\n",
       "      <td>617.530266</td>\n",
       "      <td>621.477829</td>\n",
       "      <td>3.947563</td>\n",
       "      <td>3.339297</td>\n",
       "      <td>8.25089</td>\n",
       "    </tr>\n",
       "    <tr>\n",
       "      <th>...</th>\n",
       "      <td>...</td>\n",
       "      <td>...</td>\n",
       "      <td>...</td>\n",
       "      <td>...</td>\n",
       "      <td>...</td>\n",
       "      <td>...</td>\n",
       "    </tr>\n",
       "    <tr>\n",
       "      <th>695</th>\n",
       "      <td>2023-11-03</td>\n",
       "      <td>458.143812</td>\n",
       "      <td>458.372422</td>\n",
       "      <td>0.228611</td>\n",
       "      <td>0.614709</td>\n",
       "      <td>8.25089</td>\n",
       "    </tr>\n",
       "    <tr>\n",
       "      <th>696</th>\n",
       "      <td>2023-11-04</td>\n",
       "      <td>456.945948</td>\n",
       "      <td>456.802174</td>\n",
       "      <td>0.143774</td>\n",
       "      <td>0.614709</td>\n",
       "      <td>8.25089</td>\n",
       "    </tr>\n",
       "    <tr>\n",
       "      <th>697</th>\n",
       "      <td>2023-11-05</td>\n",
       "      <td>455.837689</td>\n",
       "      <td>455.001367</td>\n",
       "      <td>0.836322</td>\n",
       "      <td>0.614709</td>\n",
       "      <td>8.25089</td>\n",
       "    </tr>\n",
       "    <tr>\n",
       "      <th>698</th>\n",
       "      <td>2023-11-06</td>\n",
       "      <td>454.846539</td>\n",
       "      <td>454.018552</td>\n",
       "      <td>0.827987</td>\n",
       "      <td>0.614709</td>\n",
       "      <td>8.25089</td>\n",
       "    </tr>\n",
       "    <tr>\n",
       "      <th>699</th>\n",
       "      <td>2023-11-07</td>\n",
       "      <td>454.000000</td>\n",
       "      <td>454.877941</td>\n",
       "      <td>0.877941</td>\n",
       "      <td>0.614709</td>\n",
       "      <td>8.25089</td>\n",
       "    </tr>\n",
       "  </tbody>\n",
       "</table>\n",
       "<p>700 rows × 6 columns</p>\n",
       "</div>"
      ],
      "text/plain": [
       "           date         avg        pred      diff      RMSE  total_RMSE\n",
       "0    2021-12-08  620.335900  618.791616  1.544284  3.339297     8.25089\n",
       "1    2021-12-09  619.659584  617.658511  2.001073  3.339297     8.25089\n",
       "2    2021-12-10  618.968345  615.962840  3.005505  3.339297     8.25089\n",
       "3    2021-12-11  618.259475  618.486311  0.226836  3.339297     8.25089\n",
       "4    2021-12-12  617.530266  621.477829  3.947563  3.339297     8.25089\n",
       "..          ...         ...         ...       ...       ...         ...\n",
       "695  2023-11-03  458.143812  458.372422  0.228611  0.614709     8.25089\n",
       "696  2023-11-04  456.945948  456.802174  0.143774  0.614709     8.25089\n",
       "697  2023-11-05  455.837689  455.001367  0.836322  0.614709     8.25089\n",
       "698  2023-11-06  454.846539  454.018552  0.827987  0.614709     8.25089\n",
       "699  2023-11-07  454.000000  454.877941  0.877941  0.614709     8.25089\n",
       "\n",
       "[700 rows x 6 columns]"
      ]
     },
     "execution_count": 4,
     "metadata": {},
     "output_type": "execute_result"
    }
   ],
   "source": [
    "import pandas as pd\n",
    "days_700 = pd.read_csv(r'C:\\Users\\KDP-26-\\Desktop\\MT\\darts\\pred_busheling.csv')\n",
    "days_700"
   ]
  },
  {
   "cell_type": "code",
   "execution_count": null,
   "metadata": {},
   "outputs": [],
   "source": []
  }
 ],
 "metadata": {
  "kernelspec": {
   "display_name": "Python 3",
   "language": "python",
   "name": "python3"
  },
  "language_info": {
   "codemirror_mode": {
    "name": "ipython",
    "version": 3
   },
   "file_extension": ".py",
   "mimetype": "text/x-python",
   "name": "python",
   "nbconvert_exporter": "python",
   "pygments_lexer": "ipython3",
   "version": "3.10.13"
  }
 },
 "nbformat": 4,
 "nbformat_minor": 2
}
