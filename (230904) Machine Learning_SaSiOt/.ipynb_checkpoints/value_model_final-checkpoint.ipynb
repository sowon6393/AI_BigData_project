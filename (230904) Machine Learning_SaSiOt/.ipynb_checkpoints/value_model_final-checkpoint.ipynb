{
 "cells": [
  {
   "cell_type": "code",
   "execution_count": 29,
   "metadata": {},
   "outputs": [],
   "source": [
    "# score 확인 함수\n",
    "\n",
    "def get_reg_score(test_y, pred_y):\n",
    "    from sklearn.metrics import mean_absolute_error, mean_squared_error, r2_score\n",
    "\n",
    "    # 평균절대오차 : MAE\n",
    "    mae = mean_absolute_error(test_y, pred_y)\n",
    "\n",
    "    # 평균제곱오차 : MSE\n",
    "    mse = mean_squared_error(test_y, pred_y)\n",
    "    \n",
    "    # 평균제곱근오차 : RMSE\n",
    "    rmse = mean_squared_error(test_y, pred_y, squared=False)\n",
    "\n",
    "    # 결정계수 : R2\n",
    "    r2 = r2_score(test_y, pred_y)\n",
    "    \n",
    "    print(f'MAE : {mae:.4f}, MSE : {mse:.4f}, RMSE : {rmse:.4f}, R-squared : {r2:.4f}')"
   ]
  },
  {
   "cell_type": "code",
   "execution_count": 30,
   "metadata": {},
   "outputs": [],
   "source": [
    "import pandas as pd\n",
    "import numpy as np\n",
    "import matplotlib.pyplot as plt \n",
    "\n",
    "file='../project/player_real_final.csv'\n",
    "df=pd.read_csv(file)\n",
    "\n",
    "df=df[['overall', 'potential','value_euro']]\n",
    "\n",
    "feature=df[['overall', 'potential']]\n",
    "target=df['value_euro']\n",
    "\n",
    "\n",
    "from sklearn.model_selection import train_test_split\n",
    "train_x, test_x, train_y, test_y = train_test_split(feature, target, \n",
    "                                                    test_size=0.2, random_state=4 )\n",
    "train_x, val_x, train_y, val_y = train_test_split(train_x, train_y, \n",
    "                                                    test_size=0.2, random_state=4 )\n"
   ]
  },
  {
   "cell_type": "markdown",
   "metadata": {},
   "source": [
    "### HistGradientBoostingRegressor"
   ]
  },
  {
   "cell_type": "code",
   "execution_count": 31,
   "metadata": {},
   "outputs": [
    {
     "name": "stdout",
     "output_type": "stream",
     "text": [
      "train => MAE : 526504.9492, MSE : 5584021428334.2256, RMSE : 2363053.4121, R-squared : 0.9236\n",
      " val  => MAE : 499245.9930, MSE : 3467572946260.9238, RMSE : 1862142.0317, R-squared : 0.9440\n",
      " test => MAE : 553276.3735, MSE : 3685520620103.1240, RMSE : 1919770.9812, R-squared : 0.9511\n"
     ]
    }
   ],
   "source": [
    "from sklearn.ensemble import HistGradientBoostingRegressor\n",
    "\n",
    "hgb_model = HistGradientBoostingRegressor(max_iter=100, random_state=42)\n",
    "hgb_model.fit(train_x, train_y)\n",
    "\n",
    "pred_y=hgb_model.predict(train_x)\n",
    "print('train => ', end='' )\n",
    "get_reg_score(train_y, pred_y)\n",
    "\n",
    "pred_y=hgb_model.predict(val_x)\n",
    "print(' val  => ', end='')\n",
    "get_reg_score(val_y, pred_y)\n",
    "\n",
    "pred_y=hgb_model.predict(test_x)\n",
    "print(' test => ', end='')\n",
    "get_reg_score(test_y, pred_y)"
   ]
  },
  {
   "cell_type": "markdown",
   "metadata": {},
   "source": [
    "### DecisionTreeRegressor"
   ]
  },
  {
   "cell_type": "code",
   "execution_count": 32,
   "metadata": {},
   "outputs": [
    {
     "name": "stdout",
     "output_type": "stream",
     "text": [
      "train => MAE : 455630.6759, MSE : 3476552463125.5361, RMSE : 1864551.5448, R-squared : 0.9524\n",
      " val  => MAE : 472564.8313, MSE : 2983598146527.6348, RMSE : 1727309.5109, R-squared : 0.9518\n",
      " test => MAE : 600496.2853, MSE : 8662971365216.1250, RMSE : 2943292.6061, R-squared : 0.8851\n"
     ]
    }
   ],
   "source": [
    "from sklearn.tree import DecisionTreeRegressor\n",
    "\n",
    "dt_model = DecisionTreeRegressor()\n",
    "dt_model.fit(train_x,train_y)\n",
    "\n",
    "pred_y=dt_model.predict(train_x)\n",
    "print('train => ', end='' )\n",
    "get_reg_score(train_y, pred_y)\n",
    "\n",
    "pred_y=dt_model.predict(val_x)\n",
    "print(' val  => ', end='')\n",
    "get_reg_score(val_y, pred_y)\n",
    "\n",
    "pred_y=dt_model.predict(test_x)\n",
    "print(' test => ', end='')\n",
    "get_reg_score(test_y, pred_y)"
   ]
  },
  {
   "cell_type": "markdown",
   "metadata": {},
   "source": [
    "### BaggingRegressor"
   ]
  },
  {
   "cell_type": "code",
   "execution_count": 34,
   "metadata": {},
   "outputs": [
    {
     "name": "stdout",
     "output_type": "stream",
     "text": [
      "train => MAE : 473488.8009, MSE : 3853122596045.0381, RMSE : 1962937.2369, R-squared : 0.9473\n",
      " val  => MAE : 488014.5521, MSE : 3662304971068.5464, RMSE : 1913714.9660, R-squared : 0.9409\n",
      " test => MAE : 594624.4684, MSE : 7554175813690.9287, RMSE : 2748486.0949, R-squared : 0.8998\n"
     ]
    }
   ],
   "source": [
    "from sklearn.ensemble import BaggingRegressor\n",
    "\n",
    "bg_model = BaggingRegressor()\n",
    "bg_model.fit(train_x,train_y)\n",
    "\n",
    "pred_y=bg_model.predict(train_x)\n",
    "print('train => ', end='' )\n",
    "get_reg_score(train_y, pred_y)\n",
    "\n",
    "pred_y=bg_model.predict(val_x)\n",
    "print(' val  => ', end='')\n",
    "get_reg_score(val_y, pred_y)\n",
    "\n",
    "pred_y=bg_model.predict(test_x)\n",
    "print(' test => ', end='')\n",
    "get_reg_score(test_y, pred_y)"
   ]
  },
  {
   "cell_type": "markdown",
   "metadata": {},
   "source": [
    "### KNeighborsRegressor"
   ]
  },
  {
   "cell_type": "code",
   "execution_count": null,
   "metadata": {},
   "outputs": [],
   "source": [
    "from sklearn.neighbors import KNeighborsRegressor\n",
    "\n",
    "knn_model=KNeighborsRegressor()\n",
    "knn_model.fit(train_x, train_y)\n",
    "\n",
    "pred_y=knn_model.predict(train_x)\n",
    "print('train => ', end='' )\n",
    "get_reg_score(train_y, pred_y)\n",
    "\n",
    "pred_y=knn_model.predict(val_x)\n",
    "print(' val  => ', end='')\n",
    "get_reg_score(val_y, pred_y)\n",
    "\n",
    "pred_y=knn_model.predict(test_x)\n",
    "print(' test => ', end='')\n",
    "get_reg_score(test_y, pred_y)"
   ]
  },
  {
   "cell_type": "code",
   "execution_count": null,
   "metadata": {},
   "outputs": [],
   "source": [
    "help(MLPRegressor)"
   ]
  },
  {
   "cell_type": "code",
   "execution_count": null,
   "metadata": {},
   "outputs": [],
   "source": [
    "from sklearn.neural_network import MLPRegressor\n",
    "\n",
    "# MLPRegressor 모델 생성 및 훈련\n",
    "mlp_model = MLPRegressor(max_iter=10000) # hidden_layer_sizes=(100, 50), activation='relu', solver='adam', alpha=0.0001, max_iter=1000\n",
    "# mlp_model.set_params(max_iter=10000)\n",
    "mlp_model.fit(train_x, train_y)\n",
    "\n",
    "pred_y=mlp_model.predict(train_x)\n",
    "print('train => ', end='' )\n",
    "get_reg_score(train_y, pred_y)\n",
    "\n",
    "pred_y=mlp_model.predict(val_x)\n",
    "print(' val  => ', end='')\n",
    "get_reg_score(val_y, pred_y)\n",
    "\n",
    "pred_y=mlp_model.predict(test_x)\n",
    "print(' test => ', end='')\n",
    "get_reg_score(test_y, pred_y)"
   ]
  },
  {
   "cell_type": "code",
   "execution_count": null,
   "metadata": {},
   "outputs": [],
   "source": [
    "from sklearn.utils import all_estimators\n",
    "rets=all_estimators(type_filter='regressor')\n",
    "rets"
   ]
  },
  {
   "cell_type": "markdown",
   "metadata": {},
   "source": [
    "### 최종모델 => hgb_model\n",
    "- csv 파일로 저장"
   ]
  },
  {
   "cell_type": "code",
   "execution_count": null,
   "metadata": {},
   "outputs": [],
   "source": [
    "file='../project/players_23.csv'\n",
    "df_=pd.read_csv(file)\n",
    "df_"
   ]
  },
  {
   "cell_type": "code",
   "execution_count": null,
   "metadata": {},
   "outputs": [],
   "source": [
    "feature=df_[['overall', 'potential']]"
   ]
  },
  {
   "cell_type": "code",
   "execution_count": null,
   "metadata": {},
   "outputs": [],
   "source": [
    "hgb_pred_y=hgb_model.predict(feature)"
   ]
  },
  {
   "cell_type": "code",
   "execution_count": null,
   "metadata": {},
   "outputs": [],
   "source": [
    "df_['value_pred']=hgb_pred_y\n",
    "df_.to_csv('value1.csv', index=False)"
   ]
  },
  {
   "cell_type": "code",
   "execution_count": null,
   "metadata": {},
   "outputs": [],
   "source": [
    "knn_pred_y=knn_model.predict(feature)\n",
    "df_['value_knn_pred']=knn_pred_y\n",
    "df_.to_csv('value_knn.csv', index=False)"
   ]
  }
 ],
 "metadata": {
  "kernelspec": {
   "display_name": "Python 3 (ipykernel)",
   "language": "python",
   "name": "python3"
  },
  "language_info": {
   "codemirror_mode": {
    "name": "ipython",
    "version": 3
   },
   "file_extension": ".py",
   "mimetype": "text/x-python",
   "name": "python",
   "nbconvert_exporter": "python",
   "pygments_lexer": "ipython3",
   "version": "3.9.17"
  },
  "toc": {
   "base_numbering": 1,
   "nav_menu": {},
   "number_sections": true,
   "sideBar": true,
   "skip_h1_title": false,
   "title_cell": "Table of Contents",
   "title_sidebar": "Contents",
   "toc_cell": false,
   "toc_position": {},
   "toc_section_display": true,
   "toc_window_display": false
  }
 },
 "nbformat": 4,
 "nbformat_minor": 2
}
